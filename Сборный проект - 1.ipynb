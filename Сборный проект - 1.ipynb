{
 "cells": [
  {
   "cell_type": "markdown",
   "metadata": {},
   "source": [
    "# Сборный Проект — 1"
   ]
  },
  {
   "cell_type": "markdown",
   "metadata": {},
   "source": [
    "**Заголовок:** Анализ данных о продажах игр\n",
    "\n",
    "**Цель исследования:** Проанализировать исторические данные о продажах игр и выявить определяющие успешность игры закономерности, чтобы сделать ставку на потенциально популярный продукт и спланировать рекламные кампании.\n",
    "\n",
    "**Ход исследования:**\n",
    "1. Анализ информации о данных: загрузка и изучение общей информации из датасета\n",
    "2. Предобработка данных: обработка дубликатов и изменение типов данных\n",
    "3. Исследовательский анализ данных: описание и визуализация общей информации об играх и платформах\n",
    "4. Составление портрета пользователя каждого региона: определение популярных платформ и жанров для NA, EU, JP\n",
    "5. Проверка гипотез о равенстве зрительских рейтингов для разных платформ и жанров\n",
    "\n",
    "**Общий вывод:** резюмирование полученных результатов, формулировка ключевых выводов и рекомендаций"
   ]
  },
  {
   "cell_type": "code",
   "execution_count": 1,
   "metadata": {},
   "outputs": [],
   "source": [
    "#загружаю библиотеки\n",
    "import pandas as pd\n",
    "import matplotlib.pyplot as plt\n",
    "import numpy as np\n",
    "import scipy.stats as st"
   ]
  },
  {
   "cell_type": "markdown",
   "metadata": {},
   "source": [
    "#### Шаг 1. Загрузка данных"
   ]
  },
  {
   "cell_type": "code",
   "execution_count": 2,
   "metadata": {},
   "outputs": [],
   "source": [
    "#открываю данные\n",
    "data = pd.read_csv('/datasets/games.csv')"
   ]
  },
  {
   "cell_type": "code",
   "execution_count": 3,
   "metadata": {},
   "outputs": [
    {
     "name": "stdout",
     "output_type": "stream",
     "text": [
      "<class 'pandas.core.frame.DataFrame'>\n",
      "RangeIndex: 16715 entries, 0 to 16714\n",
      "Data columns (total 11 columns):\n",
      " #   Column           Non-Null Count  Dtype  \n",
      "---  ------           --------------  -----  \n",
      " 0   Name             16713 non-null  object \n",
      " 1   Platform         16715 non-null  object \n",
      " 2   Year_of_Release  16446 non-null  float64\n",
      " 3   Genre            16713 non-null  object \n",
      " 4   NA_sales         16715 non-null  float64\n",
      " 5   EU_sales         16715 non-null  float64\n",
      " 6   JP_sales         16715 non-null  float64\n",
      " 7   Other_sales      16715 non-null  float64\n",
      " 8   Critic_Score     8137 non-null   float64\n",
      " 9   User_Score       10014 non-null  object \n",
      " 10  Rating           9949 non-null   object \n",
      "dtypes: float64(6), object(5)\n",
      "memory usage: 1.4+ MB\n"
     ]
    }
   ],
   "source": [
    "data.info() #изучаю общую информацию"
   ]
  },
  {
   "cell_type": "code",
   "execution_count": 4,
   "metadata": {},
   "outputs": [
    {
     "data": {
      "text/html": [
       "<div>\n",
       "<style scoped>\n",
       "    .dataframe tbody tr th:only-of-type {\n",
       "        vertical-align: middle;\n",
       "    }\n",
       "\n",
       "    .dataframe tbody tr th {\n",
       "        vertical-align: top;\n",
       "    }\n",
       "\n",
       "    .dataframe thead th {\n",
       "        text-align: right;\n",
       "    }\n",
       "</style>\n",
       "<table border=\"1\" class=\"dataframe\">\n",
       "  <thead>\n",
       "    <tr style=\"text-align: right;\">\n",
       "      <th></th>\n",
       "      <th>Name</th>\n",
       "      <th>Platform</th>\n",
       "      <th>Year_of_Release</th>\n",
       "      <th>Genre</th>\n",
       "      <th>NA_sales</th>\n",
       "      <th>EU_sales</th>\n",
       "      <th>JP_sales</th>\n",
       "      <th>Other_sales</th>\n",
       "      <th>Critic_Score</th>\n",
       "      <th>User_Score</th>\n",
       "      <th>Rating</th>\n",
       "    </tr>\n",
       "  </thead>\n",
       "  <tbody>\n",
       "    <tr>\n",
       "      <th>0</th>\n",
       "      <td>Wii Sports</td>\n",
       "      <td>Wii</td>\n",
       "      <td>2006.0</td>\n",
       "      <td>Sports</td>\n",
       "      <td>41.36</td>\n",
       "      <td>28.96</td>\n",
       "      <td>3.77</td>\n",
       "      <td>8.45</td>\n",
       "      <td>76.0</td>\n",
       "      <td>8</td>\n",
       "      <td>E</td>\n",
       "    </tr>\n",
       "    <tr>\n",
       "      <th>1</th>\n",
       "      <td>Super Mario Bros.</td>\n",
       "      <td>NES</td>\n",
       "      <td>1985.0</td>\n",
       "      <td>Platform</td>\n",
       "      <td>29.08</td>\n",
       "      <td>3.58</td>\n",
       "      <td>6.81</td>\n",
       "      <td>0.77</td>\n",
       "      <td>NaN</td>\n",
       "      <td>NaN</td>\n",
       "      <td>NaN</td>\n",
       "    </tr>\n",
       "    <tr>\n",
       "      <th>2</th>\n",
       "      <td>Mario Kart Wii</td>\n",
       "      <td>Wii</td>\n",
       "      <td>2008.0</td>\n",
       "      <td>Racing</td>\n",
       "      <td>15.68</td>\n",
       "      <td>12.76</td>\n",
       "      <td>3.79</td>\n",
       "      <td>3.29</td>\n",
       "      <td>82.0</td>\n",
       "      <td>8.3</td>\n",
       "      <td>E</td>\n",
       "    </tr>\n",
       "    <tr>\n",
       "      <th>3</th>\n",
       "      <td>Wii Sports Resort</td>\n",
       "      <td>Wii</td>\n",
       "      <td>2009.0</td>\n",
       "      <td>Sports</td>\n",
       "      <td>15.61</td>\n",
       "      <td>10.93</td>\n",
       "      <td>3.28</td>\n",
       "      <td>2.95</td>\n",
       "      <td>80.0</td>\n",
       "      <td>8</td>\n",
       "      <td>E</td>\n",
       "    </tr>\n",
       "    <tr>\n",
       "      <th>4</th>\n",
       "      <td>Pokemon Red/Pokemon Blue</td>\n",
       "      <td>GB</td>\n",
       "      <td>1996.0</td>\n",
       "      <td>Role-Playing</td>\n",
       "      <td>11.27</td>\n",
       "      <td>8.89</td>\n",
       "      <td>10.22</td>\n",
       "      <td>1.00</td>\n",
       "      <td>NaN</td>\n",
       "      <td>NaN</td>\n",
       "      <td>NaN</td>\n",
       "    </tr>\n",
       "  </tbody>\n",
       "</table>\n",
       "</div>"
      ],
      "text/plain": [
       "                       Name Platform  Year_of_Release         Genre  NA_sales  \\\n",
       "0                Wii Sports      Wii           2006.0        Sports     41.36   \n",
       "1         Super Mario Bros.      NES           1985.0      Platform     29.08   \n",
       "2            Mario Kart Wii      Wii           2008.0        Racing     15.68   \n",
       "3         Wii Sports Resort      Wii           2009.0        Sports     15.61   \n",
       "4  Pokemon Red/Pokemon Blue       GB           1996.0  Role-Playing     11.27   \n",
       "\n",
       "   EU_sales  JP_sales  Other_sales  Critic_Score User_Score Rating  \n",
       "0     28.96      3.77         8.45          76.0          8      E  \n",
       "1      3.58      6.81         0.77           NaN        NaN    NaN  \n",
       "2     12.76      3.79         3.29          82.0        8.3      E  \n",
       "3     10.93      3.28         2.95          80.0          8      E  \n",
       "4      8.89     10.22         1.00           NaN        NaN    NaN  "
      ]
     },
     "execution_count": 4,
     "metadata": {},
     "output_type": "execute_result"
    }
   ],
   "source": [
    "data.head() #вывожу первые строки"
   ]
  },
  {
   "cell_type": "code",
   "execution_count": 6,
   "metadata": {},
   "outputs": [
    {
     "data": {
      "image/png": "[encoded data removed]",
      "text/plain": [
       "<Figure size 1080x1440 with 6 Axes>"
      ]
     },
     "metadata": {
      "needs_background": "light"
     },
     "output_type": "display_data"
    }
   ],
   "source": [
    "fig, axes = plt.subplots(nrows=4, ncols=3, figsize=(15, 20))  \n",
    "axes = axes.flatten() \n",
    "\n",
    "# Проходимся по всем числовым столбцам\n",
    "for i, column in enumerate(data.select_dtypes(include=[np.number]).columns):\n",
    "    axes[i].hist(data[column], bins=20) \n",
    "    axes[i].set_title(column) \n",
    "    axes[i].set_xlabel(column)  \n",
    "    axes[i].set_ylabel('Количество игр')  \n",
    "\n",
    "# Убираю пустые графики, если числовых столбцов меньше 12\n",
    "for j in range(i + 1, len(axes)):\n",
    "    fig.delaxes(axes[j])  # удаляю лишние оси\n",
    "    \n",
    "plt.show()"
   ]
  },
  {
   "cell_type": "code",
   "execution_count": 8,
   "metadata": {},
   "outputs": [
    {
     "name": "stdout",
     "output_type": "stream",
     "text": [
      "Количество явных дубликатов =  0\n"
     ]
    }
   ],
   "source": [
    "print('Количество явных дубликатов = ', data.duplicated().sum())"
   ]
  },
  {
   "cell_type": "code",
   "execution_count": 9,
   "metadata": {},
   "outputs": [
    {
     "name": "stdout",
     "output_type": "stream",
     "text": [
      "Name               1\n",
      "Platform           2\n",
      "Year_of_Release    2\n",
      "Genre              1\n",
      "NA_sales           2\n",
      "EU_sales           2\n",
      "JP_sales           2\n",
      "Other_sales        2\n",
      "Critic_Score       1\n",
      "User_Score         1\n",
      "Rating             1\n",
      "dtype: int64\n"
     ]
    }
   ],
   "source": [
    "#проверяю наличие неявных дубликатов\n",
    "print(data[data.duplicated(['Name', 'Platform', 'Year_of_Release'])].count())"
   ]
  },
  {
   "cell_type": "markdown",
   "metadata": {},
   "source": [
    "**Вывод:**\n",
    "\n",
    "В данных 16715 строк. Есть пропущенные значения и некорректный тип данных. Явные дубликаты отсутствуют, есть неявные дубликаты"
   ]
  },
  {
   "cell_type": "markdown",
   "metadata": {},
   "source": [
    "#### Шаг 2. Предобработка данных"
   ]
  },
  {
   "cell_type": "markdown",
   "metadata": {},
   "source": [
    "**Переименование столбцов**"
   ]
  },
  {
   "cell_type": "code",
   "execution_count": 10,
   "metadata": {
    "scrolled": true
   },
   "outputs": [
    {
     "data": {
      "text/html": [
       "<div>\n",
       "<style scoped>\n",
       "    .dataframe tbody tr th:only-of-type {\n",
       "        vertical-align: middle;\n",
       "    }\n",
       "\n",
       "    .dataframe tbody tr th {\n",
       "        vertical-align: top;\n",
       "    }\n",
       "\n",
       "    .dataframe thead th {\n",
       "        text-align: right;\n",
       "    }\n",
       "</style>\n",
       "<table border=\"1\" class=\"dataframe\">\n",
       "  <thead>\n",
       "    <tr style=\"text-align: right;\">\n",
       "      <th></th>\n",
       "      <th>name</th>\n",
       "      <th>platform</th>\n",
       "      <th>year_of_release</th>\n",
       "      <th>genre</th>\n",
       "      <th>na_sales</th>\n",
       "      <th>eu_sales</th>\n",
       "      <th>jp_sales</th>\n",
       "      <th>other_sales</th>\n",
       "      <th>critic_score</th>\n",
       "      <th>user_score</th>\n",
       "      <th>rating</th>\n",
       "    </tr>\n",
       "  </thead>\n",
       "  <tbody>\n",
       "    <tr>\n",
       "      <th>0</th>\n",
       "      <td>Wii Sports</td>\n",
       "      <td>Wii</td>\n",
       "      <td>2006.0</td>\n",
       "      <td>Sports</td>\n",
       "      <td>41.36</td>\n",
       "      <td>28.96</td>\n",
       "      <td>3.77</td>\n",
       "      <td>8.45</td>\n",
       "      <td>76.0</td>\n",
       "      <td>8</td>\n",
       "      <td>E</td>\n",
       "    </tr>\n",
       "    <tr>\n",
       "      <th>1</th>\n",
       "      <td>Super Mario Bros.</td>\n",
       "      <td>NES</td>\n",
       "      <td>1985.0</td>\n",
       "      <td>Platform</td>\n",
       "      <td>29.08</td>\n",
       "      <td>3.58</td>\n",
       "      <td>6.81</td>\n",
       "      <td>0.77</td>\n",
       "      <td>NaN</td>\n",
       "      <td>NaN</td>\n",
       "      <td>NaN</td>\n",
       "    </tr>\n",
       "    <tr>\n",
       "      <th>2</th>\n",
       "      <td>Mario Kart Wii</td>\n",
       "      <td>Wii</td>\n",
       "      <td>2008.0</td>\n",
       "      <td>Racing</td>\n",
       "      <td>15.68</td>\n",
       "      <td>12.76</td>\n",
       "      <td>3.79</td>\n",
       "      <td>3.29</td>\n",
       "      <td>82.0</td>\n",
       "      <td>8.3</td>\n",
       "      <td>E</td>\n",
       "    </tr>\n",
       "    <tr>\n",
       "      <th>3</th>\n",
       "      <td>Wii Sports Resort</td>\n",
       "      <td>Wii</td>\n",
       "      <td>2009.0</td>\n",
       "      <td>Sports</td>\n",
       "      <td>15.61</td>\n",
       "      <td>10.93</td>\n",
       "      <td>3.28</td>\n",
       "      <td>2.95</td>\n",
       "      <td>80.0</td>\n",
       "      <td>8</td>\n",
       "      <td>E</td>\n",
       "    </tr>\n",
       "    <tr>\n",
       "      <th>4</th>\n",
       "      <td>Pokemon Red/Pokemon Blue</td>\n",
       "      <td>GB</td>\n",
       "      <td>1996.0</td>\n",
       "      <td>Role-Playing</td>\n",
       "      <td>11.27</td>\n",
       "      <td>8.89</td>\n",
       "      <td>10.22</td>\n",
       "      <td>1.00</td>\n",
       "      <td>NaN</td>\n",
       "      <td>NaN</td>\n",
       "      <td>NaN</td>\n",
       "    </tr>\n",
       "  </tbody>\n",
       "</table>\n",
       "</div>"
      ],
      "text/plain": [
       "                       name platform  year_of_release         genre  na_sales  \\\n",
       "0                Wii Sports      Wii           2006.0        Sports     41.36   \n",
       "1         Super Mario Bros.      NES           1985.0      Platform     29.08   \n",
       "2            Mario Kart Wii      Wii           2008.0        Racing     15.68   \n",
       "3         Wii Sports Resort      Wii           2009.0        Sports     15.61   \n",
       "4  Pokemon Red/Pokemon Blue       GB           1996.0  Role-Playing     11.27   \n",
       "\n",
       "   eu_sales  jp_sales  other_sales  critic_score user_score rating  \n",
       "0     28.96      3.77         8.45          76.0          8      E  \n",
       "1      3.58      6.81         0.77           NaN        NaN    NaN  \n",
       "2     12.76      3.79         3.29          82.0        8.3      E  \n",
       "3     10.93      3.28         2.95          80.0          8      E  \n",
       "4      8.89     10.22         1.00           NaN        NaN    NaN  "
      ]
     },
     "execution_count": 10,
     "metadata": {},
     "output_type": "execute_result"
    }
   ],
   "source": [
    "#привожу названия столбцов к стандартоному виду\n",
    "data.columns = data.columns.str.lower()\n",
    "data.head()"
   ]
  },
  {
   "cell_type": "markdown",
   "metadata": {},
   "source": [
    "**Удаление дубликатов**"
   ]
  },
  {
   "cell_type": "code",
   "execution_count": 11,
   "metadata": {},
   "outputs": [
    {
     "name": "stdout",
     "output_type": "stream",
     "text": [
      "name               0\n",
      "platform           0\n",
      "year_of_release    0\n",
      "genre              0\n",
      "na_sales           0\n",
      "eu_sales           0\n",
      "jp_sales           0\n",
      "other_sales        0\n",
      "critic_score       0\n",
      "user_score         0\n",
      "rating             0\n",
      "dtype: int64\n"
     ]
    }
   ],
   "source": [
    "data = data.drop_duplicates(['name', 'platform', 'year_of_release'])\n",
    "print(data[data.duplicated(['name', 'platform', 'year_of_release'])].count())"
   ]
  },
  {
   "cell_type": "markdown",
   "metadata": {},
   "source": [
    "**Удаление пропусков**"
   ]
  },
  {
   "cell_type": "code",
   "execution_count": 12,
   "metadata": {},
   "outputs": [
    {
     "data": {
      "text/plain": [
       "name                  1\n",
       "platform              0\n",
       "year_of_release     269\n",
       "genre                 1\n",
       "na_sales              0\n",
       "eu_sales              0\n",
       "jp_sales              0\n",
       "other_sales           0\n",
       "critic_score       8577\n",
       "user_score         6700\n",
       "rating             6765\n",
       "dtype: int64"
      ]
     },
     "execution_count": 12,
     "metadata": {},
     "output_type": "execute_result"
    }
   ],
   "source": [
    "data.isna().sum()#смотрю, в каких стобцах есть пропуски"
   ]
  },
  {
   "cell_type": "markdown",
   "metadata": {},
   "source": [
    "Удаляем строки с пропусками в стобцах name и year_of_release, так как пропуски в этих толбцах будут мешать последующему анализу данных, а их количество не является критическим"
   ]
  },
  {
   "cell_type": "code",
   "execution_count": 13,
   "metadata": {},
   "outputs": [
    {
     "data": {
      "text/plain": [
       "name                  0\n",
       "platform              0\n",
       "year_of_release       0\n",
       "genre                 0\n",
       "na_sales              0\n",
       "eu_sales              0\n",
       "jp_sales              0\n",
       "other_sales           0\n",
       "critic_score       8461\n",
       "user_score         6605\n",
       "rating             6676\n",
       "dtype: int64"
      ]
     },
     "execution_count": 13,
     "metadata": {},
     "output_type": "execute_result"
    }
   ],
   "source": [
    "data = data.dropna(subset = ['name'])\n",
    "data = data.dropna(subset=['year_of_release'])\n",
    "data.isna().sum()"
   ]
  },
  {
   "cell_type": "markdown",
   "metadata": {},
   "source": [
    "В столбце user_score встречается аббревеатура 'tbd', что означает \"to be determined\". Посмотрим как много таких значений"
   ]
  },
  {
   "cell_type": "code",
   "execution_count": 14,
   "metadata": {},
   "outputs": [
    {
     "data": {
      "text/plain": [
       "2376"
      ]
     },
     "execution_count": 14,
     "metadata": {},
     "output_type": "execute_result"
    }
   ],
   "source": [
    "(data['user_score'] == 'tbd').sum()"
   ]
  },
  {
   "cell_type": "markdown",
   "metadata": {},
   "source": [
    "Преобразую эти значения в NaN"
   ]
  },
  {
   "cell_type": "code",
   "execution_count": 15,
   "metadata": {},
   "outputs": [
    {
     "data": {
      "text/plain": [
       "name                  0\n",
       "platform              0\n",
       "year_of_release       0\n",
       "genre                 0\n",
       "na_sales              0\n",
       "eu_sales              0\n",
       "jp_sales              0\n",
       "other_sales           0\n",
       "critic_score       8461\n",
       "user_score         8981\n",
       "rating             6676\n",
       "dtype: int64"
      ]
     },
     "execution_count": 15,
     "metadata": {},
     "output_type": "execute_result"
    }
   ],
   "source": [
    "data['user_score'] = data['user_score'].replace('tbd', np.nan)\n",
    "data.isna().sum()"
   ]
  },
  {
   "cell_type": "markdown",
   "metadata": {},
   "source": [
    "Для столбцов critic_score и user_score будет некорректно заменять пропуски на медианные значения, поэтому заменим их на -1"
   ]
  },
  {
   "cell_type": "code",
   "execution_count": 16,
   "metadata": {},
   "outputs": [
    {
     "data": {
      "text/plain": [
       "name                  0\n",
       "platform              0\n",
       "year_of_release       0\n",
       "genre                 0\n",
       "na_sales              0\n",
       "eu_sales              0\n",
       "jp_sales              0\n",
       "other_sales           0\n",
       "critic_score          0\n",
       "user_score            0\n",
       "rating             6676\n",
       "dtype: int64"
      ]
     },
     "execution_count": 16,
     "metadata": {},
     "output_type": "execute_result"
    }
   ],
   "source": [
    "data['critic_score'] = data['critic_score'].fillna('-1')\n",
    "data['user_score'] = data['user_score'].fillna('-1')\n",
    "data.isna().sum()"
   ]
  },
  {
   "cell_type": "markdown",
   "metadata": {},
   "source": [
    "Посмотрим какие значения есть в столбце rating"
   ]
  },
  {
   "cell_type": "code",
   "execution_count": 17,
   "metadata": {},
   "outputs": [
    {
     "data": {
      "text/plain": [
       "array(['E', nan, 'M', 'T', 'E10+', 'K-A', 'AO', 'EC', 'RP'], dtype=object)"
      ]
     },
     "execution_count": 17,
     "metadata": {},
     "output_type": "execute_result"
    }
   ],
   "source": [
    "data['rating'].unique()"
   ]
  },
  {
   "cell_type": "markdown",
   "metadata": {},
   "source": [
    "Заменим пропуски на no_ESRB"
   ]
  },
  {
   "cell_type": "code",
   "execution_count": 19,
   "metadata": {},
   "outputs": [
    {
     "data": {
      "text/plain": [
       "name               0\n",
       "platform           0\n",
       "year_of_release    0\n",
       "genre              0\n",
       "na_sales           0\n",
       "eu_sales           0\n",
       "jp_sales           0\n",
       "other_sales        0\n",
       "critic_score       0\n",
       "user_score         0\n",
       "rating             0\n",
       "dtype: int64"
      ]
     },
     "execution_count": 19,
     "metadata": {},
     "output_type": "execute_result"
    }
   ],
   "source": [
    "data['rating'] = data['rating'].fillna('no_ESRB')\n",
    "data.isna().sum()"
   ]
  },
  {
   "cell_type": "markdown",
   "metadata": {},
   "source": [
    "Пропуски в исходных данных могут возникнуть по следующим причинам:\n",
    "\n",
    "1. Неполное заполнение анкет или форм – респонденты могли пропустить некоторые вопросы.\n",
    "2. Технические сбои при проведении опросов или сборе данных (например, сбои в программном обеспечении или оборудовании).\n",
    "3. Данные могли быть неправильно введены вручную, что привело к пропускам.\n",
    "4. Ошибки форматирования, когда система не распознала данные и пропустила их.\n",
    "5. Данные могут быть загружены из разных источников, и если некоторые источники имеют неполные записи, это может привести к пропускам.\n",
    "6. Проблемы с совместимостью форматов данных могут вызвать потери или пропуски."
   ]
  },
  {
   "cell_type": "markdown",
   "metadata": {},
   "source": [
    "**Изменение типов данных**"
   ]
  },
  {
   "cell_type": "code",
   "execution_count": 20,
   "metadata": {},
   "outputs": [
    {
     "name": "stdout",
     "output_type": "stream",
     "text": [
      "<class 'pandas.core.frame.DataFrame'>\n",
      "Int64Index: 16443 entries, 0 to 16714\n",
      "Data columns (total 11 columns):\n",
      " #   Column           Non-Null Count  Dtype  \n",
      "---  ------           --------------  -----  \n",
      " 0   name             16443 non-null  object \n",
      " 1   platform         16443 non-null  object \n",
      " 2   year_of_release  16443 non-null  float64\n",
      " 3   genre            16443 non-null  object \n",
      " 4   na_sales         16443 non-null  float64\n",
      " 5   eu_sales         16443 non-null  float64\n",
      " 6   jp_sales         16443 non-null  float64\n",
      " 7   other_sales      16443 non-null  float64\n",
      " 8   critic_score     16443 non-null  object \n",
      " 9   user_score       16443 non-null  object \n",
      " 10  rating           16443 non-null  object \n",
      "dtypes: float64(5), object(6)\n",
      "memory usage: 1.5+ MB\n"
     ]
    }
   ],
   "source": [
    "data.info()"
   ]
  },
  {
   "cell_type": "markdown",
   "metadata": {},
   "source": [
    "Заменим переведем числовые данные в стобцах year_of_release и critic_score в int, user_score в float"
   ]
  },
  {
   "cell_type": "code",
   "execution_count": 21,
   "metadata": {},
   "outputs": [
    {
     "name": "stdout",
     "output_type": "stream",
     "text": [
      "<class 'pandas.core.frame.DataFrame'>\n",
      "Int64Index: 16443 entries, 0 to 16714\n",
      "Data columns (total 11 columns):\n",
      " #   Column           Non-Null Count  Dtype  \n",
      "---  ------           --------------  -----  \n",
      " 0   name             16443 non-null  object \n",
      " 1   platform         16443 non-null  object \n",
      " 2   year_of_release  16443 non-null  int64  \n",
      " 3   genre            16443 non-null  object \n",
      " 4   na_sales         16443 non-null  float64\n",
      " 5   eu_sales         16443 non-null  float64\n",
      " 6   jp_sales         16443 non-null  float64\n",
      " 7   other_sales      16443 non-null  float64\n",
      " 8   critic_score     16443 non-null  int64  \n",
      " 9   user_score       16443 non-null  float64\n",
      " 10  rating           16443 non-null  object \n",
      "dtypes: float64(5), int64(2), object(4)\n",
      "memory usage: 1.5+ MB\n"
     ]
    }
   ],
   "source": [
    "data['year_of_release'] = data['year_of_release'].astype(int)\n",
    "data['critic_score'] = data['critic_score'].astype(int)\n",
    "data['user_score'] = data['user_score'].astype(float)\n",
    "data.info()"
   ]
  },
  {
   "cell_type": "markdown",
   "metadata": {},
   "source": [
    "**Суммарные продажи во всех регионах**"
   ]
  },
  {
   "cell_type": "code",
   "execution_count": 22,
   "metadata": {},
   "outputs": [
    {
     "data": {
      "text/html": [
       "<div>\n",
       "<style scoped>\n",
       "    .dataframe tbody tr th:only-of-type {\n",
       "        vertical-align: middle;\n",
       "    }\n",
       "\n",
       "    .dataframe tbody tr th {\n",
       "        vertical-align: top;\n",
       "    }\n",
       "\n",
       "    .dataframe thead th {\n",
       "        text-align: right;\n",
       "    }\n",
       "</style>\n",
       "<table border=\"1\" class=\"dataframe\">\n",
       "  <thead>\n",
       "    <tr style=\"text-align: right;\">\n",
       "      <th></th>\n",
       "      <th>name</th>\n",
       "      <th>platform</th>\n",
       "      <th>year_of_release</th>\n",
       "      <th>genre</th>\n",
       "      <th>na_sales</th>\n",
       "      <th>eu_sales</th>\n",
       "      <th>jp_sales</th>\n",
       "      <th>other_sales</th>\n",
       "      <th>critic_score</th>\n",
       "      <th>user_score</th>\n",
       "      <th>rating</th>\n",
       "      <th>total_sales</th>\n",
       "    </tr>\n",
       "  </thead>\n",
       "  <tbody>\n",
       "    <tr>\n",
       "      <th>0</th>\n",
       "      <td>Wii Sports</td>\n",
       "      <td>Wii</td>\n",
       "      <td>2006</td>\n",
       "      <td>Sports</td>\n",
       "      <td>41.36</td>\n",
       "      <td>28.96</td>\n",
       "      <td>3.77</td>\n",
       "      <td>8.45</td>\n",
       "      <td>76</td>\n",
       "      <td>8.0</td>\n",
       "      <td>E</td>\n",
       "      <td>82.54</td>\n",
       "    </tr>\n",
       "    <tr>\n",
       "      <th>1</th>\n",
       "      <td>Super Mario Bros.</td>\n",
       "      <td>NES</td>\n",
       "      <td>1985</td>\n",
       "      <td>Platform</td>\n",
       "      <td>29.08</td>\n",
       "      <td>3.58</td>\n",
       "      <td>6.81</td>\n",
       "      <td>0.77</td>\n",
       "      <td>-1</td>\n",
       "      <td>-1.0</td>\n",
       "      <td>no_ESRB</td>\n",
       "      <td>40.24</td>\n",
       "    </tr>\n",
       "    <tr>\n",
       "      <th>2</th>\n",
       "      <td>Mario Kart Wii</td>\n",
       "      <td>Wii</td>\n",
       "      <td>2008</td>\n",
       "      <td>Racing</td>\n",
       "      <td>15.68</td>\n",
       "      <td>12.76</td>\n",
       "      <td>3.79</td>\n",
       "      <td>3.29</td>\n",
       "      <td>82</td>\n",
       "      <td>8.3</td>\n",
       "      <td>E</td>\n",
       "      <td>35.52</td>\n",
       "    </tr>\n",
       "    <tr>\n",
       "      <th>3</th>\n",
       "      <td>Wii Sports Resort</td>\n",
       "      <td>Wii</td>\n",
       "      <td>2009</td>\n",
       "      <td>Sports</td>\n",
       "      <td>15.61</td>\n",
       "      <td>10.93</td>\n",
       "      <td>3.28</td>\n",
       "      <td>2.95</td>\n",
       "      <td>80</td>\n",
       "      <td>8.0</td>\n",
       "      <td>E</td>\n",
       "      <td>32.77</td>\n",
       "    </tr>\n",
       "    <tr>\n",
       "      <th>4</th>\n",
       "      <td>Pokemon Red/Pokemon Blue</td>\n",
       "      <td>GB</td>\n",
       "      <td>1996</td>\n",
       "      <td>Role-Playing</td>\n",
       "      <td>11.27</td>\n",
       "      <td>8.89</td>\n",
       "      <td>10.22</td>\n",
       "      <td>1.00</td>\n",
       "      <td>-1</td>\n",
       "      <td>-1.0</td>\n",
       "      <td>no_ESRB</td>\n",
       "      <td>31.38</td>\n",
       "    </tr>\n",
       "  </tbody>\n",
       "</table>\n",
       "</div>"
      ],
      "text/plain": [
       "                       name platform  year_of_release         genre  na_sales  \\\n",
       "0                Wii Sports      Wii             2006        Sports     41.36   \n",
       "1         Super Mario Bros.      NES             1985      Platform     29.08   \n",
       "2            Mario Kart Wii      Wii             2008        Racing     15.68   \n",
       "3         Wii Sports Resort      Wii             2009        Sports     15.61   \n",
       "4  Pokemon Red/Pokemon Blue       GB             1996  Role-Playing     11.27   \n",
       "\n",
       "   eu_sales  jp_sales  other_sales  critic_score  user_score   rating  \\\n",
       "0     28.96      3.77         8.45            76         8.0        E   \n",
       "1      3.58      6.81         0.77            -1        -1.0  no_ESRB   \n",
       "2     12.76      3.79         3.29            82         8.3        E   \n",
       "3     10.93      3.28         2.95            80         8.0        E   \n",
       "4      8.89     10.22         1.00            -1        -1.0  no_ESRB   \n",
       "\n",
       "   total_sales  \n",
       "0        82.54  \n",
       "1        40.24  \n",
       "2        35.52  \n",
       "3        32.77  \n",
       "4        31.38  "
      ]
     },
     "execution_count": 22,
     "metadata": {},
     "output_type": "execute_result"
    }
   ],
   "source": [
    "data['total_sales'] = data['na_sales'] + data['eu_sales'] + data['jp_sales'] + data['other_sales']\n",
    "data.head()"
   ]
  },
  {
   "cell_type": "markdown",
   "metadata": {},
   "source": [
    "**Выводы:**\n",
    "\n",
    "В ходе предобработки данных в датафрейме сделаны следующие преобразования:\n",
    "1. Названия столбцов приведены к нижнему регистру\n",
    "2. Удалены неявные дубликаты\n",
    "3. В столбцах user_score и critic_score пропуски заменены на - 1, столбце rating пропуски заменены на no_ESRB\n",
    "4. Типы данных в столбцах year_of_release и critic_score заменены на целые значения\n",
    "5. Добавлен столбец total_sales, отражающий суммарные продажи во всех регионах"
   ]
  },
  {
   "cell_type": "code",
   "execution_count": 23,
   "metadata": {},
   "outputs": [
    {
     "name": "stdout",
     "output_type": "stream",
     "text": [
      "<class 'pandas.core.frame.DataFrame'>\n",
      "Int64Index: 16443 entries, 0 to 16714\n",
      "Data columns (total 12 columns):\n",
      " #   Column           Non-Null Count  Dtype  \n",
      "---  ------           --------------  -----  \n",
      " 0   name             16443 non-null  object \n",
      " 1   platform         16443 non-null  object \n",
      " 2   year_of_release  16443 non-null  int64  \n",
      " 3   genre            16443 non-null  object \n",
      " 4   na_sales         16443 non-null  float64\n",
      " 5   eu_sales         16443 non-null  float64\n",
      " 6   jp_sales         16443 non-null  float64\n",
      " 7   other_sales      16443 non-null  float64\n",
      " 8   critic_score     16443 non-null  int64  \n",
      " 9   user_score       16443 non-null  float64\n",
      " 10  rating           16443 non-null  object \n",
      " 11  total_sales      16443 non-null  float64\n",
      "dtypes: float64(6), int64(2), object(4)\n",
      "memory usage: 1.6+ MB\n",
      "None\n",
      "-------------------------\n",
      "name [' Beyblade Burst' ' Fire Emblem Fates' \" Frozen: Olaf's Quest\" ...\n",
      " 'uDraw Studio' 'uDraw Studio: Instant Artist'\n",
      " '¡Shin Chan Flipa en colores!']\n",
      "name : кол-во NaN 0 , процент NaN 0.0 %\n",
      "-------------------------\n",
      "platform ['2600' '3DO' '3DS' 'DC' 'DS' 'GB' 'GBA' 'GC' 'GEN' 'GG' 'N64' 'NES' 'NG'\n",
      " 'PC' 'PCFX' 'PS' 'PS2' 'PS3' 'PS4' 'PSP' 'PSV' 'SAT' 'SCD' 'SNES' 'TG16'\n",
      " 'WS' 'Wii' 'WiiU' 'X360' 'XB' 'XOne']\n",
      "platform : кол-во NaN 0 , процент NaN 0.0 %\n",
      "-------------------------\n",
      "year_of_release [1980 1981 1982 1983 1984 1985 1986 1987 1988 1989 1990 1991 1992 1993\n",
      " 1994 1995 1996 1997 1998 1999 2000 2001 2002 2003 2004 2005 2006 2007\n",
      " 2008 2009 2010 2011 2012 2013 2014 2015 2016]\n",
      "year_of_release : кол-во NaN 0 , процент NaN 0.0 %\n",
      "-------------------------\n",
      "genre ['Action' 'Adventure' 'Fighting' 'Misc' 'Platform' 'Puzzle' 'Racing'\n",
      " 'Role-Playing' 'Shooter' 'Simulation' 'Sports' 'Strategy']\n",
      "genre : кол-во NaN 0 , процент NaN 0.0 %\n",
      "-------------------------\n",
      "critic_score [-1 13 17 19 20 21 23 24 25 26 27 28 29 30 31 32 33 34 35 36 37 38 39 40\n",
      " 41 42 43 44 45 46 47 48 49 50 51 52 53 54 55 56 57 58 59 60 61 62 63 64\n",
      " 65 66 67 68 69 70 71 72 73 74 75 76 77 78 79 80 81 82 83 84 85 86 87 88\n",
      " 89 90 91 92 93 94 95 96 97 98]\n",
      "critic_score : кол-во NaN 0 , процент NaN 0.0 %\n",
      "-------------------------\n",
      "user_score [-1.   0.   0.2  0.3  0.5  0.6  0.7  0.9  1.   1.1  1.2  1.3  1.4  1.5\n",
      "  1.6  1.7  1.8  1.9  2.   2.1  2.2  2.3  2.4  2.5  2.6  2.7  2.8  2.9\n",
      "  3.   3.1  3.2  3.3  3.4  3.5  3.6  3.7  3.8  3.9  4.   4.1  4.2  4.3\n",
      "  4.4  4.5  4.6  4.7  4.8  4.9  5.   5.1  5.2  5.3  5.4  5.5  5.6  5.7\n",
      "  5.8  5.9  6.   6.1  6.2  6.3  6.4  6.5  6.6  6.7  6.8  6.9  7.   7.1\n",
      "  7.2  7.3  7.4  7.5  7.6  7.7  7.8  7.9  8.   8.1  8.2  8.3  8.4  8.5\n",
      "  8.6  8.7  8.8  8.9  9.   9.1  9.2  9.3  9.4  9.5  9.6  9.7]\n",
      "user_score : кол-во NaN 0 , процент NaN 0.0 %\n",
      "-------------------------\n",
      "rating ['AO' 'E' 'E10+' 'EC' 'K-A' 'M' 'RP' 'T' 'no_ESRB']\n",
      "rating : кол-во NaN 0 , процент NaN 0.0 %\n"
     ]
    }
   ],
   "source": [
    "# Комментарий ревьюера\n",
    "# Посмотрим, что осталось\n",
    "temp = data.copy() \n",
    "list_c = ['name', 'platform', 'year_of_release', 'genre', 'critic_score', 'user_score', 'rating']\n",
    "print(temp.info())\n",
    "for col_l in list_c:\n",
    "  print('-'* 25)\n",
    "  print(col_l, temp[col_l].sort_values().unique())\n",
    "  print(col_l,': кол-во NaN',temp[col_l].isna().sum(),\n",
    "        ', процент NaN', round(temp[col_l].isna().mean()*100,2),'%')"
   ]
  },
  {
   "cell_type": "markdown",
   "metadata": {},
   "source": [
    "#### Шаг 3. Исследовательский анализ данных"
   ]
  },
  {
   "cell_type": "markdown",
   "metadata": {},
   "source": [
    "**Динамика выпуска игр по годам**"
   ]
  },
  {
   "cell_type": "code",
   "execution_count": 24,
   "metadata": {},
   "outputs": [
    {
     "data": {
      "image/png": "[encoded data removed]",
      "text/plain": [
       "<Figure size 864x432 with 1 Axes>"
      ]
     },
     "metadata": {
      "needs_background": "light"
     },
     "output_type": "display_data"
    }
   ],
   "source": [
    "# строю столбчатую диаграмму\n",
    "plt.figure(figsize=(12, 6))\n",
    "data['year_of_release'].value_counts().sort_index().plot(kind='bar')\n",
    "plt.title('Выпуск игр по годам')\n",
    "plt.xlabel('Год')\n",
    "plt.ylabel('Количество игр')\n",
    "plt.show()"
   ]
  },
  {
   "cell_type": "markdown",
   "metadata": {},
   "source": [
    "Количество выпускаемых игр росло с 1991 по 2008-2009 годы, потом оно начало уменьшаться.\n",
    "Данные за все периоды важны для комплексного понимания рынка видеоигр"
   ]
  },
  {
   "cell_type": "markdown",
   "metadata": {},
   "source": [
    "**Продажи по платформам**"
   ]
  },
  {
   "cell_type": "code",
   "execution_count": 25,
   "metadata": {},
   "outputs": [
    {
     "data": {
      "text/html": [
       "<div>\n",
       "<style scoped>\n",
       "    .dataframe tbody tr th:only-of-type {\n",
       "        vertical-align: middle;\n",
       "    }\n",
       "\n",
       "    .dataframe tbody tr th {\n",
       "        vertical-align: top;\n",
       "    }\n",
       "\n",
       "    .dataframe thead th {\n",
       "        text-align: right;\n",
       "    }\n",
       "</style>\n",
       "<table border=\"1\" class=\"dataframe\">\n",
       "  <thead>\n",
       "    <tr style=\"text-align: right;\">\n",
       "      <th></th>\n",
       "      <th>total_sales</th>\n",
       "    </tr>\n",
       "    <tr>\n",
       "      <th>platform</th>\n",
       "      <th></th>\n",
       "    </tr>\n",
       "  </thead>\n",
       "  <tbody>\n",
       "    <tr>\n",
       "      <th>PS2</th>\n",
       "      <td>1233.56</td>\n",
       "    </tr>\n",
       "    <tr>\n",
       "      <th>X360</th>\n",
       "      <td>961.24</td>\n",
       "    </tr>\n",
       "    <tr>\n",
       "      <th>PS3</th>\n",
       "      <td>931.33</td>\n",
       "    </tr>\n",
       "    <tr>\n",
       "      <th>Wii</th>\n",
       "      <td>891.18</td>\n",
       "    </tr>\n",
       "    <tr>\n",
       "      <th>DS</th>\n",
       "      <td>802.78</td>\n",
       "    </tr>\n",
       "    <tr>\n",
       "      <th>PS</th>\n",
       "      <td>727.58</td>\n",
       "    </tr>\n",
       "    <tr>\n",
       "      <th>PS4</th>\n",
       "      <td>314.14</td>\n",
       "    </tr>\n",
       "    <tr>\n",
       "      <th>GBA</th>\n",
       "      <td>312.88</td>\n",
       "    </tr>\n",
       "    <tr>\n",
       "      <th>PSP</th>\n",
       "      <td>289.53</td>\n",
       "    </tr>\n",
       "    <tr>\n",
       "      <th>3DS</th>\n",
       "      <td>257.81</td>\n",
       "    </tr>\n",
       "    <tr>\n",
       "      <th>PC</th>\n",
       "      <td>255.76</td>\n",
       "    </tr>\n",
       "    <tr>\n",
       "      <th>GB</th>\n",
       "      <td>254.43</td>\n",
       "    </tr>\n",
       "    <tr>\n",
       "      <th>XB</th>\n",
       "      <td>251.57</td>\n",
       "    </tr>\n",
       "    <tr>\n",
       "      <th>NES</th>\n",
       "      <td>251.05</td>\n",
       "    </tr>\n",
       "    <tr>\n",
       "      <th>N64</th>\n",
       "      <td>218.01</td>\n",
       "    </tr>\n",
       "    <tr>\n",
       "      <th>SNES</th>\n",
       "      <td>200.04</td>\n",
       "    </tr>\n",
       "    <tr>\n",
       "      <th>GC</th>\n",
       "      <td>196.73</td>\n",
       "    </tr>\n",
       "    <tr>\n",
       "      <th>XOne</th>\n",
       "      <td>159.32</td>\n",
       "    </tr>\n",
       "    <tr>\n",
       "      <th>2600</th>\n",
       "      <td>86.48</td>\n",
       "    </tr>\n",
       "    <tr>\n",
       "      <th>WiiU</th>\n",
       "      <td>82.19</td>\n",
       "    </tr>\n",
       "    <tr>\n",
       "      <th>PSV</th>\n",
       "      <td>53.81</td>\n",
       "    </tr>\n",
       "    <tr>\n",
       "      <th>SAT</th>\n",
       "      <td>33.59</td>\n",
       "    </tr>\n",
       "    <tr>\n",
       "      <th>GEN</th>\n",
       "      <td>28.35</td>\n",
       "    </tr>\n",
       "    <tr>\n",
       "      <th>DC</th>\n",
       "      <td>15.95</td>\n",
       "    </tr>\n",
       "    <tr>\n",
       "      <th>SCD</th>\n",
       "      <td>1.86</td>\n",
       "    </tr>\n",
       "    <tr>\n",
       "      <th>NG</th>\n",
       "      <td>1.44</td>\n",
       "    </tr>\n",
       "    <tr>\n",
       "      <th>WS</th>\n",
       "      <td>1.42</td>\n",
       "    </tr>\n",
       "    <tr>\n",
       "      <th>TG16</th>\n",
       "      <td>0.16</td>\n",
       "    </tr>\n",
       "    <tr>\n",
       "      <th>3DO</th>\n",
       "      <td>0.10</td>\n",
       "    </tr>\n",
       "    <tr>\n",
       "      <th>GG</th>\n",
       "      <td>0.04</td>\n",
       "    </tr>\n",
       "    <tr>\n",
       "      <th>PCFX</th>\n",
       "      <td>0.03</td>\n",
       "    </tr>\n",
       "  </tbody>\n",
       "</table>\n",
       "</div>"
      ],
      "text/plain": [
       "          total_sales\n",
       "platform             \n",
       "PS2           1233.56\n",
       "X360           961.24\n",
       "PS3            931.33\n",
       "Wii            891.18\n",
       "DS             802.78\n",
       "PS             727.58\n",
       "PS4            314.14\n",
       "GBA            312.88\n",
       "PSP            289.53\n",
       "3DS            257.81\n",
       "PC             255.76\n",
       "GB             254.43\n",
       "XB             251.57\n",
       "NES            251.05\n",
       "N64            218.01\n",
       "SNES           200.04\n",
       "GC             196.73\n",
       "XOne           159.32\n",
       "2600            86.48\n",
       "WiiU            82.19\n",
       "PSV             53.81\n",
       "SAT             33.59\n",
       "GEN             28.35\n",
       "DC              15.95\n",
       "SCD              1.86\n",
       "NG               1.44\n",
       "WS               1.42\n",
       "TG16             0.16\n",
       "3DO              0.10\n",
       "GG               0.04\n",
       "PCFX             0.03"
      ]
     },
     "execution_count": 25,
     "metadata": {},
     "output_type": "execute_result"
    }
   ],
   "source": [
    "platform_table = data.pivot_table(index='platform', values='total_sales', aggfunc='sum').sort_values(by='total_sales', ascending=False)\n",
    "platform_table"
   ]
  },
  {
   "cell_type": "code",
   "execution_count": 26,
   "metadata": {},
   "outputs": [
    {
     "data": {
      "image/png": "[encoded data removed]",
      "text/plain": [
       "<Figure size 864x432 with 1 Axes>"
      ]
     },
     "metadata": {
      "needs_background": "light"
     },
     "output_type": "display_data"
    }
   ],
   "source": [
    "# строю столбчатую диаграмму\n",
    "plt.figure(figsize=(12, 6)) \n",
    "plt.bar(platform_table.index, platform_table['total_sales'])  \n",
    "plt.title('Суммарные продажи по платформам')  \n",
    "plt.xlabel('Платформы') \n",
    "plt.ylabel('Суммарные продажи')\n",
    "plt.xticks(rotation=45) \n",
    "plt.show()"
   ]
  },
  {
   "cell_type": "markdown",
   "metadata": {},
   "source": [
    "Виден значительный отрыв по продажам между первыми шестью и остальными платформами. Посчитаю какой процент от всех продаж приходится на них"
   ]
  },
  {
   "cell_type": "code",
   "execution_count": 27,
   "metadata": {},
   "outputs": [
    {
     "name": "stdout",
     "output_type": "stream",
     "text": [
      "62.938999541656905\n"
     ]
    }
   ],
   "source": [
    "print((platform_table.head(6)['total_sales'].sum() / platform_table['total_sales'].sum()) * 100)"
   ]
  },
  {
   "cell_type": "markdown",
   "metadata": {},
   "source": [
    "Таким образом на первые 6 платформ приходится более половины всех продаж (62,9%). В анализе по годам будем использовать их."
   ]
  },
  {
   "cell_type": "code",
   "execution_count": 28,
   "metadata": {},
   "outputs": [],
   "source": [
    "#создаю функцию для анализа продаж по годам для платформ\n",
    "def plot_games_released(data, platform):\n",
    "    # фильтруем данные для указанной платформы\n",
    "    platform_data = data[data['platform'] == platform]\n",
    "    # Строим график\n",
    "    plt.figure(figsize=(12, 6))\n",
    "    platform_data['year_of_release'].value_counts().sort_index().plot(kind='bar')\n",
    "    plt.title(f'Выпуск игр на платформе {platform} по годам')\n",
    "    plt.xlabel('Год')\n",
    "    plt.ylabel('Количество игр')\n",
    "    plt.show()"
   ]
  },
  {
   "cell_type": "code",
   "execution_count": 29,
   "metadata": {
    "scrolled": false
   },
   "outputs": [
    {
     "data": {
      "image/png": "[encoded data removed]",
      "text/plain": [
       "<Figure size 864x432 with 1 Axes>"
      ]
     },
     "metadata": {
      "needs_background": "light"
     },
     "output_type": "display_data"
    },
    {
     "data": {
      "image/png": "[encoded data removed]",
      "text/plain": [
       "<Figure size 864x432 with 1 Axes>"
      ]
     },
     "metadata": {
      "needs_background": "light"
     },
     "output_type": "display_data"
    },
    {
     "data": {
      "image/png": "[encoded data removed]",
      "text/plain": [
       "<Figure size 864x432 with 1 Axes>"
      ]
     },
     "metadata": {
      "needs_background": "light"
     },
     "output_type": "display_data"
    },
    {
     "data": {
      "image/png": "[encoded data removed]",
      "text/plain": [
       "<Figure size 864x432 with 1 Axes>"
      ]
     },
     "metadata": {
      "needs_background": "light"
     },
     "output_type": "display_data"
    },
    {
     "data": {
      "image/png": "[encoded data removed]",
      "text/plain": [
       "<Figure size 864x432 with 1 Axes>"
      ]
     },
     "metadata": {
      "needs_background": "light"
     },
     "output_type": "display_data"
    },
    {
     "data": {
      "image/png": "[encoded data removed]",
      "text/plain": [
       "<Figure size 864x432 with 1 Axes>"
      ]
     },
     "metadata": {
      "needs_background": "light"
     },
     "output_type": "display_data"
    }
   ],
   "source": [
    "# cписок платформ, для которых мы хотим построить графики\n",
    "platforms = ['PS2', 'X360', 'PS3', 'Wii', 'DS', 'PS'] \n",
    "#строю графики для 6-ти самых популярных платформ\n",
    "for platform in platforms:\n",
    "    plot_games_released(data, platform)"
   ]
  },
  {
   "cell_type": "markdown",
   "metadata": {},
   "source": [
    "\"Срок жизни\" платформы в среднем составляет 10 лет. Но пика по продажам в основном достигают через пять лет после начала продаж.\n",
    "Значит актуальный период для 2017 года начинается с 2012 года."
   ]
  },
  {
   "cell_type": "markdown",
   "metadata": {},
   "source": [
    "**Формирование актуального датасета**"
   ]
  },
  {
   "cell_type": "code",
   "execution_count": 31,
   "metadata": {},
   "outputs": [
    {
     "data": {
      "image/png": "[encoded data removed]",
      "text/plain": [
       "<Figure size 1008x504 with 1 Axes>"
      ]
     },
     "metadata": {
      "needs_background": "light"
     },
     "output_type": "display_data"
    }
   ],
   "source": [
    "# фильтрую данные с 2012 года\n",
    "data_filtered = data[data['year_of_release'] >= 2012]\n",
    "\n",
    "total_sales = data_filtered.groupby('platform')['total_sales'].sum().reset_index() # Общая сумма продаж по платформам\n",
    "\n",
    "# cортирую платформы по общим продажам\n",
    "total_sales = total_sales.sort_values(by='total_sales', ascending=False)\n",
    "\n",
    "# годовой анализ продаж\n",
    "yearly_sales = data_filtered.groupby(['year_of_release', 'platform'])['total_sales'].sum().unstack()\n",
    "\n",
    "\n",
    "# визуализация\n",
    "yearly_sales.plot(kind='bar', stacked=True, figsize=(14, 7))\n",
    "plt.title('Годовые продажи по платформам с 2012 года')\n",
    "plt.xlabel('Год')\n",
    "plt.ylabel('Общие продажи')\n",
    "plt.legend(title='Платформа')\n",
    "plt.show()"
   ]
  },
  {
   "cell_type": "markdown",
   "metadata": {},
   "source": [
    "Среди всех платформ за последние 5 лет положительную динамику демонстрируют PS4 и XOne. Можно назвать их потенциально прибыльными."
   ]
  },
  {
   "cell_type": "markdown",
   "metadata": {},
   "source": [
    "**График «ящик с усами» по глобальным продажам игр в разбивке по платформам**"
   ]
  },
  {
   "cell_type": "code",
   "execution_count": 32,
   "metadata": {},
   "outputs": [
    {
     "data": {
      "text/plain": [
       "<Figure size 720x720 with 0 Axes>"
      ]
     },
     "metadata": {},
     "output_type": "display_data"
    },
    {
     "data": {
      "image/png": "[encoded data removed]",
      "text/plain": [
       "<Figure size 432x288 with 1 Axes>"
      ]
     },
     "metadata": {
      "needs_background": "light"
     },
     "output_type": "display_data"
    }
   ],
   "source": [
    "plt.figure(figsize=(10, 10))\n",
    "data_filtered.boxplot(column='total_sales', by='platform', grid=False)\n",
    "plt.ylim(0,2)\n",
    "plt.title('Глобальные продажи игр по платформам')\n",
    "plt.suptitle('')\n",
    "plt.xlabel('Платформа')\n",
    "plt.ylabel('Глобальные продажи')\n",
    "plt.show()"
   ]
  },
  {
   "cell_type": "code",
   "execution_count": 33,
   "metadata": {},
   "outputs": [
    {
     "data": {
      "text/plain": [
       "<Figure size 720x720 with 0 Axes>"
      ]
     },
     "metadata": {},
     "output_type": "display_data"
    },
    {
     "data": {
      "image/png": "[encoded data removed]",
      "text/plain": [
       "<Figure size 432x288 with 1 Axes>"
      ]
     },
     "metadata": {
      "needs_background": "light"
     },
     "output_type": "display_data"
    }
   ],
   "source": [
    "plt.figure(figsize=(10, 10))\n",
    "data_filtered.boxplot(column='total_sales', by='platform', grid=False)\n",
    "plt.title('Глобальные продажи игр по платформам')\n",
    "plt.suptitle('')\n",
    "plt.xlabel('Платформа')\n",
    "plt.ylabel('Глобальные продажи')\n",
    "plt.show()"
   ]
  },
  {
   "cell_type": "markdown",
   "metadata": {},
   "source": [
    "Все платформы имеют выбросы, платформа X360 имеет максимальное значение 3-его квартиля и медианный показатель. Платформы PS4 и XOne имеют близкие значение."
   ]
  },
  {
   "cell_type": "markdown",
   "metadata": {},
   "source": [
    "**Влияние отзывов на продажи**"
   ]
  },
  {
   "cell_type": "markdown",
   "metadata": {},
   "source": [
    "Посмотрим, как отзывы пользователей и критиков влияют на продажи внутри двух интересующих нас платформ (PS4 и XOne)"
   ]
  },
  {
   "cell_type": "code",
   "execution_count": 35,
   "metadata": {},
   "outputs": [],
   "source": [
    "# создаю функцию для построения графиков рассеяния\n",
    "def plot_correlation(data, platform):\n",
    "    # фильтруем данные для указанной платформы\n",
    "    data_platform_critic = data[(data['platform'] == platform) & \n",
    "                         (data['critic_score'] > -1)]\n",
    "    \n",
    "    # строим диаграмму рассеяния для оценки критиков и глобальных продаж\n",
    "    plt.figure(figsize=(8, 6))\n",
    "    plt.scatter(data_platform_critic['critic_score'], data_platform_critic['total_sales'])\n",
    "    plt.title(f'Оценка критиков vs Глобальные продажи ({platform})')\n",
    "    plt.xlabel('Оценка критиков')\n",
    "    plt.ylabel('Глобальные продажи')\n",
    "    plt.grid()\n",
    "    plt.show()\n",
    "    \n",
    "    # вычисляем коэффициент корреляции для критиков\n",
    "    correlation_critic = data_platform_critic['critic_score'].corr(data_platform_critic['total_sales'])\n",
    "    print(f'Коэффициент корреляции (Оценка критиков, Глобальные продажи): {correlation_critic}')\n",
    "    \n",
    "    # фильтруем данные для указанной платформы\n",
    "    data_platform_user = data[(data['platform'] == platform) & \n",
    "                         (data['user_score'] > -1)]\n",
    "    \n",
    "    # строим диаграмму рассеяния для оценки зрителей и глобальных продаж\n",
    "    plt.figure(figsize=(8, 6))\n",
    "    plt.scatter(data_platform_user['user_score'], data_platform_user['total_sales'], color='orange')\n",
    "    plt.title(f'Оценка зрителей vs Глобальные продажи ({platform})')\n",
    "    plt.xlabel('Оценка зрителей')\n",
    "    plt.ylabel('Глобальные продажи')\n",
    "    plt.grid()\n",
    "    plt.show()\n",
    "\n",
    "    # вычисляем коэффициент корреляции для зрителей\n",
    "    correlation_user = data_platform_user['user_score'].corr(data_platform_user['total_sales'])\n",
    "    print(f'Коэффициент корреляции (Оценка зрителей, Глобальные продажи): {correlation_user}')"
   ]
  },
  {
   "cell_type": "code",
   "execution_count": 36,
   "metadata": {},
   "outputs": [
    {
     "data": {
      "image/png": "[encoded data removed]",
      "text/plain": [
       "<Figure size 576x432 with 1 Axes>"
      ]
     },
     "metadata": {
      "needs_background": "light"
     },
     "output_type": "display_data"
    },
    {
     "name": "stdout",
     "output_type": "stream",
     "text": [
      "Коэффициент корреляции (Оценка критиков, Глобальные продажи): 0.40656790206178095\n"
     ]
    },
    {
     "data": {
      "image/png": "[encoded data removed]",
      "text/plain": [
       "<Figure size 576x432 with 1 Axes>"
      ]
     },
     "metadata": {
      "needs_background": "light"
     },
     "output_type": "display_data"
    },
    {
     "name": "stdout",
     "output_type": "stream",
     "text": [
      "Коэффициент корреляции (Оценка зрителей, Глобальные продажи): -0.031957110204556376\n"
     ]
    }
   ],
   "source": [
    "plot_correlation(data_filtered, 'PS4')"
   ]
  },
  {
   "cell_type": "markdown",
   "metadata": {},
   "source": [
    "Отрицательная корреляция между пользовательсикими оценками и продажами(-0.032) говорит о том, что между переменными нет значительной связи.\n",
    "Положительная корреляция (0.407) предполагает, что существует некоторый положительный тренд между оценками критиков и продажами игр - чем выше оценка критиков, тем больше происходит продаж."
   ]
  },
  {
   "cell_type": "code",
   "execution_count": 37,
   "metadata": {},
   "outputs": [
    {
     "data": {
      "image/png": "[encoded data removed]",
      "text/plain": [
       "<Figure size 576x432 with 1 Axes>"
      ]
     },
     "metadata": {
      "needs_background": "light"
     },
     "output_type": "display_data"
    },
    {
     "name": "stdout",
     "output_type": "stream",
     "text": [
      "Коэффициент корреляции (Оценка критиков, Глобальные продажи): 0.4169983280084017\n"
     ]
    },
    {
     "data": {
      "image/png": "[encoded data removed]",
      "text/plain": [
       "<Figure size 576x432 with 1 Axes>"
      ]
     },
     "metadata": {
      "needs_background": "light"
     },
     "output_type": "display_data"
    },
    {
     "name": "stdout",
     "output_type": "stream",
     "text": [
      "Коэффициент корреляции (Оценка зрителей, Глобальные продажи): -0.06892505328279414\n"
     ]
    }
   ],
   "source": [
    "plot_correlation(data_filtered, 'XOne')"
   ]
  },
  {
   "cell_type": "code",
   "execution_count": 38,
   "metadata": {},
   "outputs": [
    {
     "data": {
      "image/png": "[encoded data removed]",
      "text/plain": [
       "<Figure size 576x432 with 1 Axes>"
      ]
     },
     "metadata": {
      "needs_background": "light"
     },
     "output_type": "display_data"
    },
    {
     "name": "stdout",
     "output_type": "stream",
     "text": [
      "Коэффициент корреляции (Оценка критиков, Глобальные продажи): 0.3341517575509856\n"
     ]
    },
    {
     "data": {
      "image/png": "[encoded data removed]",
      "text/plain": [
       "<Figure size 576x432 with 1 Axes>"
      ]
     },
     "metadata": {
      "needs_background": "light"
     },
     "output_type": "display_data"
    },
    {
     "name": "stdout",
     "output_type": "stream",
     "text": [
      "Коэффициент корреляции (Оценка зрителей, Глобальные продажи): -0.006205767686051523\n"
     ]
    }
   ],
   "source": [
    "plot_correlation(data_filtered, 'PS3')"
   ]
  },
  {
   "cell_type": "markdown",
   "metadata": {},
   "source": [
    "Коэффициенты корелляции для XOne и PS3 показывают ту же тенденцию, что и для PS4.\n",
    "Таким образом, можно утверждать, что оценки зрителей не влияют на проажи, а оценки критиков влияют на продажи положительно"
   ]
  },
  {
   "cell_type": "markdown",
   "metadata": {},
   "source": [
    "**Распределение игр по жанрам**"
   ]
  },
  {
   "cell_type": "code",
   "execution_count": 39,
   "metadata": {},
   "outputs": [
    {
     "data": {
      "image/png": "[encoded data removed]",
      "text/plain": [
       "<Figure size 864x576 with 1 Axes>"
      ]
     },
     "metadata": {
      "needs_background": "light"
     },
     "output_type": "display_data"
    }
   ],
   "source": [
    "# cортировка по продажам\n",
    "genre_sales_sorted = data_filtered.groupby('genre')['total_sales'].sum().reset_index().sort_values(by='total_sales')\n",
    "\n",
    "# построение графика\n",
    "plt.figure(figsize=(12, 8))\n",
    "plt.barh(genre_sales_sorted['genre'], genre_sales_sorted['total_sales'])\n",
    "plt.xlabel('Продажи (миллионы)')\n",
    "plt.title('Прибыльность видеоигр по жанрам')\n",
    "plt.grid(axis='x')\n",
    "\n",
    "# Показать значения на графике\n",
    "for index, value in enumerate(genre_sales_sorted['total_sales']):\n",
    "    plt.text(value, index, f\"{value:.2f}\", va='center')\n",
    "\n",
    "plt.show()"
   ]
  },
  {
   "cell_type": "markdown",
   "metadata": {},
   "source": [
    "Самыми прибыльными жанрами являются шутеры и экшены. "
   ]
  },
  {
   "cell_type": "code",
   "execution_count": 40,
   "metadata": {},
   "outputs": [
    {
     "data": {
      "text/plain": [
       "<Figure size 720x720 with 0 Axes>"
      ]
     },
     "metadata": {},
     "output_type": "display_data"
    },
    {
     "data": {
      "image/png": "[encoded data removed]",
      "text/plain": [
       "<Figure size 432x288 with 1 Axes>"
      ]
     },
     "metadata": {
      "needs_background": "light"
     },
     "output_type": "display_data"
    }
   ],
   "source": [
    "plt.figure(figsize=(10, 10))\n",
    "data_filtered.boxplot(column='total_sales', by='genre', grid=False)\n",
    "plt.ylim(0,4)\n",
    "plt.title('Глобальные продажи игр по жанрам')\n",
    "plt.suptitle('')\n",
    "plt.xlabel('Жанры')\n",
    "plt.ylabel('Глобальные продажи')\n",
    "plt.xticks(rotation=45, ha='right')\n",
    "plt.show()"
   ]
  },
  {
   "cell_type": "markdown",
   "metadata": {},
   "source": [
    "На представленном графике можно наблюдать, что шутеры являются наиболее коммерчески успешными, так как их медиана продаж превышает показатели других жанров. Это позволяет считать шутеры привлекательным сегментом для реализации игр. Остальные жанры демонстрируют усреднённые результаты и схожие медианные значения. Тем не менее, стоит обратить внимание на платформеры и спортивные игры, которые также показывают неплохие результаты по продажам."
   ]
  },
  {
   "cell_type": "markdown",
   "metadata": {},
   "source": [
    "**Выводы:**\n",
    "1. Количество выпускаемых игр росло с 1991 по 2008-2009 годы, потом оно начало уменьшаться.\n",
    "2. Более половины всех продаж (62,9%) приходится на 6 платформ: PS2, X360, PS3, Wii, DS, PS.\n",
    "3. \"Срок жизни\" платформы в среднем составляет 7 лет. Но пика по продажам в основном достигают через пять лет после начала продаж.\n",
    "4. Среди всех платформ за последние 5 лет положительную динамику демонстрируют PS4 и XOne. Можно назвать их потенциально прибыльными.\n",
    "5. Оценки зрителей не влияют на продажи, а оценки критиков влияют на продажи положительно.\n",
    "6. Самыми прибыльными жанрами являются шутеры и экшены. Стоит обратить внимание на платформеры и спортивные игры, которые также показывают неплохие результаты по продажам"
   ]
  },
  {
   "cell_type": "markdown",
   "metadata": {},
   "source": [
    "#### Шаг 4. Портрет пользователя каждого региона"
   ]
  },
  {
   "cell_type": "markdown",
   "metadata": {},
   "source": [
    "Создаем несколько функций, которые упростят работу по этому разделу"
   ]
  },
  {
   "cell_type": "code",
   "execution_count": 41,
   "metadata": {},
   "outputs": [],
   "source": [
    "def group_sales(data, group_by, sales_cols):\n",
    "    \"\"\"\n",
    "    Группирует данные по указанному критерию и суммирует продажи.\n",
    "\n",
    "    data: DataFrame с данными о продажах.\n",
    "    group_by: Строка, по которой нужно группировать (например, 'platform' или 'genre').\n",
    "    sales_cols: Лист с названиями столбцов для суммирования продаж.\n",
    "    return: DataFrame с суммарными продажами по группам.\n",
    "    \"\"\"\n",
    "    return data.groupby(group_by).agg(sales_cols).reset_index()"
   ]
  },
  {
   "cell_type": "code",
   "execution_count": 42,
   "metadata": {},
   "outputs": [],
   "source": [
    "# функция для построения круговой диаграммы\n",
    "def plot_pie_chart(sales_data, title):\n",
    "    plt.figure(figsize=(8, 8))\n",
    "    plt.pie(sales_data, labels=sales_data.index, autopct='%1.1f%%', startangle=140)\n",
    "    plt.axis('equal') \n",
    "    plt.title(title)\n",
    "    plt.show()"
   ]
  },
  {
   "cell_type": "code",
   "execution_count": 43,
   "metadata": {},
   "outputs": [],
   "source": [
    "sales_cols = {'na_sales': 'sum', 'eu_sales': 'sum', 'jp_sales': 'sum'}"
   ]
  },
  {
   "cell_type": "markdown",
   "metadata": {},
   "source": [
    "**Самые популярные платформы для каждого региона**"
   ]
  },
  {
   "cell_type": "code",
   "execution_count": 44,
   "metadata": {},
   "outputs": [
    {
     "data": {
      "text/html": [
       "<div>\n",
       "<style scoped>\n",
       "    .dataframe tbody tr th:only-of-type {\n",
       "        vertical-align: middle;\n",
       "    }\n",
       "\n",
       "    .dataframe tbody tr th {\n",
       "        vertical-align: top;\n",
       "    }\n",
       "\n",
       "    .dataframe thead th {\n",
       "        text-align: right;\n",
       "    }\n",
       "</style>\n",
       "<table border=\"1\" class=\"dataframe\">\n",
       "  <thead>\n",
       "    <tr style=\"text-align: right;\">\n",
       "      <th></th>\n",
       "      <th>platform</th>\n",
       "      <th>na_sales</th>\n",
       "      <th>eu_sales</th>\n",
       "      <th>jp_sales</th>\n",
       "    </tr>\n",
       "  </thead>\n",
       "  <tbody>\n",
       "    <tr>\n",
       "      <th>0</th>\n",
       "      <td>3DS</td>\n",
       "      <td>55.31</td>\n",
       "      <td>42.64</td>\n",
       "      <td>87.79</td>\n",
       "    </tr>\n",
       "    <tr>\n",
       "      <th>1</th>\n",
       "      <td>DS</td>\n",
       "      <td>4.59</td>\n",
       "      <td>3.53</td>\n",
       "      <td>3.72</td>\n",
       "    </tr>\n",
       "    <tr>\n",
       "      <th>2</th>\n",
       "      <td>PC</td>\n",
       "      <td>19.12</td>\n",
       "      <td>37.76</td>\n",
       "      <td>0.00</td>\n",
       "    </tr>\n",
       "    <tr>\n",
       "      <th>3</th>\n",
       "      <td>PS3</td>\n",
       "      <td>103.38</td>\n",
       "      <td>106.85</td>\n",
       "      <td>35.29</td>\n",
       "    </tr>\n",
       "    <tr>\n",
       "      <th>4</th>\n",
       "      <td>PS4</td>\n",
       "      <td>108.74</td>\n",
       "      <td>141.09</td>\n",
       "      <td>15.96</td>\n",
       "    </tr>\n",
       "    <tr>\n",
       "      <th>5</th>\n",
       "      <td>PSP</td>\n",
       "      <td>0.13</td>\n",
       "      <td>0.42</td>\n",
       "      <td>10.47</td>\n",
       "    </tr>\n",
       "    <tr>\n",
       "      <th>6</th>\n",
       "      <td>PSV</td>\n",
       "      <td>10.98</td>\n",
       "      <td>11.36</td>\n",
       "      <td>21.04</td>\n",
       "    </tr>\n",
       "    <tr>\n",
       "      <th>7</th>\n",
       "      <td>Wii</td>\n",
       "      <td>17.45</td>\n",
       "      <td>11.92</td>\n",
       "      <td>3.39</td>\n",
       "    </tr>\n",
       "    <tr>\n",
       "      <th>8</th>\n",
       "      <td>WiiU</td>\n",
       "      <td>38.10</td>\n",
       "      <td>25.13</td>\n",
       "      <td>13.01</td>\n",
       "    </tr>\n",
       "    <tr>\n",
       "      <th>9</th>\n",
       "      <td>X360</td>\n",
       "      <td>140.05</td>\n",
       "      <td>74.52</td>\n",
       "      <td>1.57</td>\n",
       "    </tr>\n",
       "    <tr>\n",
       "      <th>10</th>\n",
       "      <td>XOne</td>\n",
       "      <td>93.12</td>\n",
       "      <td>51.59</td>\n",
       "      <td>0.34</td>\n",
       "    </tr>\n",
       "  </tbody>\n",
       "</table>\n",
       "</div>"
      ],
      "text/plain": [
       "   platform  na_sales  eu_sales  jp_sales\n",
       "0       3DS     55.31     42.64     87.79\n",
       "1        DS      4.59      3.53      3.72\n",
       "2        PC     19.12     37.76      0.00\n",
       "3       PS3    103.38    106.85     35.29\n",
       "4       PS4    108.74    141.09     15.96\n",
       "5       PSP      0.13      0.42     10.47\n",
       "6       PSV     10.98     11.36     21.04\n",
       "7       Wii     17.45     11.92      3.39\n",
       "8      WiiU     38.10     25.13     13.01\n",
       "9      X360    140.05     74.52      1.57\n",
       "10     XOne     93.12     51.59      0.34"
      ]
     },
     "execution_count": 44,
     "metadata": {},
     "output_type": "execute_result"
    }
   ],
   "source": [
    "platform_sales = group_sales(data_filtered, 'platform', sales_cols)\n",
    "\n",
    "platform_sales"
   ]
  },
  {
   "cell_type": "code",
   "execution_count": 45,
   "metadata": {},
   "outputs": [
    {
     "data": {
      "text/plain": [
       "'Топ 5 платформ в Северной Америке:'"
      ]
     },
     "metadata": {},
     "output_type": "display_data"
    },
    {
     "data": {
      "text/html": [
       "<div>\n",
       "<style scoped>\n",
       "    .dataframe tbody tr th:only-of-type {\n",
       "        vertical-align: middle;\n",
       "    }\n",
       "\n",
       "    .dataframe tbody tr th {\n",
       "        vertical-align: top;\n",
       "    }\n",
       "\n",
       "    .dataframe thead th {\n",
       "        text-align: right;\n",
       "    }\n",
       "</style>\n",
       "<table border=\"1\" class=\"dataframe\">\n",
       "  <thead>\n",
       "    <tr style=\"text-align: right;\">\n",
       "      <th></th>\n",
       "      <th>index</th>\n",
       "      <th>platform</th>\n",
       "      <th>na_sales</th>\n",
       "    </tr>\n",
       "  </thead>\n",
       "  <tbody>\n",
       "    <tr>\n",
       "      <th>0</th>\n",
       "      <td>9</td>\n",
       "      <td>X360</td>\n",
       "      <td>140.05</td>\n",
       "    </tr>\n",
       "    <tr>\n",
       "      <th>1</th>\n",
       "      <td>4</td>\n",
       "      <td>PS4</td>\n",
       "      <td>108.74</td>\n",
       "    </tr>\n",
       "    <tr>\n",
       "      <th>2</th>\n",
       "      <td>3</td>\n",
       "      <td>PS3</td>\n",
       "      <td>103.38</td>\n",
       "    </tr>\n",
       "    <tr>\n",
       "      <th>3</th>\n",
       "      <td>10</td>\n",
       "      <td>XOne</td>\n",
       "      <td>93.12</td>\n",
       "    </tr>\n",
       "    <tr>\n",
       "      <th>4</th>\n",
       "      <td>0</td>\n",
       "      <td>3DS</td>\n",
       "      <td>55.31</td>\n",
       "    </tr>\n",
       "  </tbody>\n",
       "</table>\n",
       "</div>"
      ],
      "text/plain": [
       "   index platform  na_sales\n",
       "0      9     X360    140.05\n",
       "1      4      PS4    108.74\n",
       "2      3      PS3    103.38\n",
       "3     10     XOne     93.12\n",
       "4      0      3DS     55.31"
      ]
     },
     "metadata": {},
     "output_type": "display_data"
    },
    {
     "data": {
      "text/plain": [
       "'Топ 5 платформ в Европе:'"
      ]
     },
     "metadata": {},
     "output_type": "display_data"
    },
    {
     "data": {
      "text/html": [
       "<div>\n",
       "<style scoped>\n",
       "    .dataframe tbody tr th:only-of-type {\n",
       "        vertical-align: middle;\n",
       "    }\n",
       "\n",
       "    .dataframe tbody tr th {\n",
       "        vertical-align: top;\n",
       "    }\n",
       "\n",
       "    .dataframe thead th {\n",
       "        text-align: right;\n",
       "    }\n",
       "</style>\n",
       "<table border=\"1\" class=\"dataframe\">\n",
       "  <thead>\n",
       "    <tr style=\"text-align: right;\">\n",
       "      <th></th>\n",
       "      <th>index</th>\n",
       "      <th>platform</th>\n",
       "      <th>eu_sales</th>\n",
       "    </tr>\n",
       "  </thead>\n",
       "  <tbody>\n",
       "    <tr>\n",
       "      <th>0</th>\n",
       "      <td>4</td>\n",
       "      <td>PS4</td>\n",
       "      <td>141.09</td>\n",
       "    </tr>\n",
       "    <tr>\n",
       "      <th>1</th>\n",
       "      <td>3</td>\n",
       "      <td>PS3</td>\n",
       "      <td>106.85</td>\n",
       "    </tr>\n",
       "    <tr>\n",
       "      <th>2</th>\n",
       "      <td>9</td>\n",
       "      <td>X360</td>\n",
       "      <td>74.52</td>\n",
       "    </tr>\n",
       "    <tr>\n",
       "      <th>3</th>\n",
       "      <td>10</td>\n",
       "      <td>XOne</td>\n",
       "      <td>51.59</td>\n",
       "    </tr>\n",
       "    <tr>\n",
       "      <th>4</th>\n",
       "      <td>0</td>\n",
       "      <td>3DS</td>\n",
       "      <td>42.64</td>\n",
       "    </tr>\n",
       "  </tbody>\n",
       "</table>\n",
       "</div>"
      ],
      "text/plain": [
       "   index platform  eu_sales\n",
       "0      4      PS4    141.09\n",
       "1      3      PS3    106.85\n",
       "2      9     X360     74.52\n",
       "3     10     XOne     51.59\n",
       "4      0      3DS     42.64"
      ]
     },
     "metadata": {},
     "output_type": "display_data"
    },
    {
     "data": {
      "text/plain": [
       "'Топ 5 платформ в Японии:'"
      ]
     },
     "metadata": {},
     "output_type": "display_data"
    },
    {
     "data": {
      "text/html": [
       "<div>\n",
       "<style scoped>\n",
       "    .dataframe tbody tr th:only-of-type {\n",
       "        vertical-align: middle;\n",
       "    }\n",
       "\n",
       "    .dataframe tbody tr th {\n",
       "        vertical-align: top;\n",
       "    }\n",
       "\n",
       "    .dataframe thead th {\n",
       "        text-align: right;\n",
       "    }\n",
       "</style>\n",
       "<table border=\"1\" class=\"dataframe\">\n",
       "  <thead>\n",
       "    <tr style=\"text-align: right;\">\n",
       "      <th></th>\n",
       "      <th>index</th>\n",
       "      <th>platform</th>\n",
       "      <th>jp_sales</th>\n",
       "    </tr>\n",
       "  </thead>\n",
       "  <tbody>\n",
       "    <tr>\n",
       "      <th>0</th>\n",
       "      <td>0</td>\n",
       "      <td>3DS</td>\n",
       "      <td>87.79</td>\n",
       "    </tr>\n",
       "    <tr>\n",
       "      <th>1</th>\n",
       "      <td>3</td>\n",
       "      <td>PS3</td>\n",
       "      <td>35.29</td>\n",
       "    </tr>\n",
       "    <tr>\n",
       "      <th>2</th>\n",
       "      <td>6</td>\n",
       "      <td>PSV</td>\n",
       "      <td>21.04</td>\n",
       "    </tr>\n",
       "    <tr>\n",
       "      <th>3</th>\n",
       "      <td>4</td>\n",
       "      <td>PS4</td>\n",
       "      <td>15.96</td>\n",
       "    </tr>\n",
       "    <tr>\n",
       "      <th>4</th>\n",
       "      <td>8</td>\n",
       "      <td>WiiU</td>\n",
       "      <td>13.01</td>\n",
       "    </tr>\n",
       "  </tbody>\n",
       "</table>\n",
       "</div>"
      ],
      "text/plain": [
       "   index platform  jp_sales\n",
       "0      0      3DS     87.79\n",
       "1      3      PS3     35.29\n",
       "2      6      PSV     21.04\n",
       "3      4      PS4     15.96\n",
       "4      8     WiiU     13.01"
      ]
     },
     "metadata": {},
     "output_type": "display_data"
    }
   ],
   "source": [
    "# 5 платформ с наибольшими продажами в каждом регионе\n",
    "na_platform_sales = platform_sales.nlargest(5, 'na_sales')[['platform', 'na_sales']]\n",
    "eu_platform_sales = platform_sales.nlargest(5, 'eu_sales')[['platform', 'eu_sales']]\n",
    "jp_platform_sales = platform_sales.nlargest(5, 'jp_sales')[['platform', 'jp_sales']]\n",
    "\n",
    "display('Топ 5 платформ в Северной Америке:', na_platform_sales.reset_index())\n",
    "display ('Топ 5 платформ в Европе:', eu_platform_sales.reset_index())\n",
    "display ('Топ 5 платформ в Японии:', jp_platform_sales.reset_index())"
   ]
  },
  {
   "cell_type": "code",
   "execution_count": 46,
   "metadata": {},
   "outputs": [],
   "source": [
    "# объединяю оставшиеся платформы в категорию \"другие платформы\"\n",
    "other_na = platform_sales[~platform_sales['platform'].isin(na_platform_sales['platform'])]['na_sales'].sum()\n",
    "other_eu = platform_sales[~platform_sales['platform'].isin(eu_platform_sales['platform'])]['eu_sales'].sum()\n",
    "other_jp = platform_sales[~platform_sales['platform'].isin(jp_platform_sales['platform'])]['jp_sales'].sum()\n",
    "\n",
    "# cоздаю новые DataFrame для круговых диаграмм\n",
    "na_sales = pd.concat([na_platform_sales.set_index('platform')['na_sales'], pd.Series({'Другие платформы': other_na})])\n",
    "eu_sales = pd.concat([eu_platform_sales.set_index('platform')['eu_sales'], pd.Series({'Другие платформы': other_eu})])\n",
    "jp_sales = pd.concat([jp_platform_sales.set_index('platform')['jp_sales'], pd.Series({'Другие платформы': other_jp})])\n"
   ]
  },
  {
   "cell_type": "code",
   "execution_count": 47,
   "metadata": {},
   "outputs": [
    {
     "data": {
      "image/png": "[encoded data removed]",
      "text/plain": [
       "<Figure size 576x576 with 1 Axes>"
      ]
     },
     "metadata": {},
     "output_type": "display_data"
    },
    {
     "data": {
      "image/png": "[encoded data removed]",
      "text/plain": [
       "<Figure size 576x576 with 1 Axes>"
      ]
     },
     "metadata": {},
     "output_type": "display_data"
    },
    {
     "data": {
      "image/png": "[encoded data removed]",
      "text/plain": [
       "<Figure size 576x576 with 1 Axes>"
      ]
     },
     "metadata": {},
     "output_type": "display_data"
    }
   ],
   "source": [
    "# круговые диаграммы для всех регионов\n",
    "plot_pie_chart(na_sales, 'Распределение продаж по платформам в Северной Америке')\n",
    "plot_pie_chart(eu_sales, 'Распределение продаж по платформам в Европе')\n",
    "plot_pie_chart(jp_sales, 'Распределение продаж по платформам в Японии')"
   ]
  },
  {
   "cell_type": "markdown",
   "metadata": {},
   "source": [
    "Разница между регионами ощутима. \n",
    "Можно отметить сходство Северной Америки и Европы. Топ 5 состоит в этих регионах из платформ X360, PS4, PS3, XOne и 3DS. При этом самой популярной платформой в Северной Америке является X360, а в Европе PS4\n",
    "Япония по сравнению с другими регионами своеобразна, здесь на первом месте стоит 3DS, а X360 вообще не популярна. PS4 в Японии составляет только 8,3% всех продаж."
   ]
  },
  {
   "cell_type": "markdown",
   "metadata": {},
   "source": [
    "**Самые популярные жанры**"
   ]
  },
  {
   "cell_type": "code",
   "execution_count": 48,
   "metadata": {},
   "outputs": [
    {
     "data": {
      "text/html": [
       "<div>\n",
       "<style scoped>\n",
       "    .dataframe tbody tr th:only-of-type {\n",
       "        vertical-align: middle;\n",
       "    }\n",
       "\n",
       "    .dataframe tbody tr th {\n",
       "        vertical-align: top;\n",
       "    }\n",
       "\n",
       "    .dataframe thead th {\n",
       "        text-align: right;\n",
       "    }\n",
       "</style>\n",
       "<table border=\"1\" class=\"dataframe\">\n",
       "  <thead>\n",
       "    <tr style=\"text-align: right;\">\n",
       "      <th></th>\n",
       "      <th>genre</th>\n",
       "      <th>na_sales</th>\n",
       "      <th>eu_sales</th>\n",
       "      <th>jp_sales</th>\n",
       "    </tr>\n",
       "  </thead>\n",
       "  <tbody>\n",
       "    <tr>\n",
       "      <th>0</th>\n",
       "      <td>Action</td>\n",
       "      <td>177.84</td>\n",
       "      <td>159.34</td>\n",
       "      <td>52.80</td>\n",
       "    </tr>\n",
       "    <tr>\n",
       "      <th>1</th>\n",
       "      <td>Adventure</td>\n",
       "      <td>8.92</td>\n",
       "      <td>9.46</td>\n",
       "      <td>8.24</td>\n",
       "    </tr>\n",
       "    <tr>\n",
       "      <th>2</th>\n",
       "      <td>Fighting</td>\n",
       "      <td>19.79</td>\n",
       "      <td>10.79</td>\n",
       "      <td>9.44</td>\n",
       "    </tr>\n",
       "    <tr>\n",
       "      <th>3</th>\n",
       "      <td>Misc</td>\n",
       "      <td>38.19</td>\n",
       "      <td>26.32</td>\n",
       "      <td>12.86</td>\n",
       "    </tr>\n",
       "    <tr>\n",
       "      <th>4</th>\n",
       "      <td>Platform</td>\n",
       "      <td>25.38</td>\n",
       "      <td>21.41</td>\n",
       "      <td>8.63</td>\n",
       "    </tr>\n",
       "    <tr>\n",
       "      <th>5</th>\n",
       "      <td>Puzzle</td>\n",
       "      <td>1.13</td>\n",
       "      <td>1.40</td>\n",
       "      <td>2.14</td>\n",
       "    </tr>\n",
       "    <tr>\n",
       "      <th>6</th>\n",
       "      <td>Racing</td>\n",
       "      <td>17.22</td>\n",
       "      <td>27.29</td>\n",
       "      <td>2.50</td>\n",
       "    </tr>\n",
       "    <tr>\n",
       "      <th>7</th>\n",
       "      <td>Role-Playing</td>\n",
       "      <td>64.00</td>\n",
       "      <td>48.53</td>\n",
       "      <td>65.44</td>\n",
       "    </tr>\n",
       "    <tr>\n",
       "      <th>8</th>\n",
       "      <td>Shooter</td>\n",
       "      <td>144.77</td>\n",
       "      <td>113.47</td>\n",
       "      <td>9.23</td>\n",
       "    </tr>\n",
       "    <tr>\n",
       "      <th>9</th>\n",
       "      <td>Simulation</td>\n",
       "      <td>7.97</td>\n",
       "      <td>14.55</td>\n",
       "      <td>10.41</td>\n",
       "    </tr>\n",
       "    <tr>\n",
       "      <th>10</th>\n",
       "      <td>Sports</td>\n",
       "      <td>81.53</td>\n",
       "      <td>69.08</td>\n",
       "      <td>8.01</td>\n",
       "    </tr>\n",
       "    <tr>\n",
       "      <th>11</th>\n",
       "      <td>Strategy</td>\n",
       "      <td>4.23</td>\n",
       "      <td>5.17</td>\n",
       "      <td>2.88</td>\n",
       "    </tr>\n",
       "  </tbody>\n",
       "</table>\n",
       "</div>"
      ],
      "text/plain": [
       "           genre  na_sales  eu_sales  jp_sales\n",
       "0         Action    177.84    159.34     52.80\n",
       "1      Adventure      8.92      9.46      8.24\n",
       "2       Fighting     19.79     10.79      9.44\n",
       "3           Misc     38.19     26.32     12.86\n",
       "4       Platform     25.38     21.41      8.63\n",
       "5         Puzzle      1.13      1.40      2.14\n",
       "6         Racing     17.22     27.29      2.50\n",
       "7   Role-Playing     64.00     48.53     65.44\n",
       "8        Shooter    144.77    113.47      9.23\n",
       "9     Simulation      7.97     14.55     10.41\n",
       "10        Sports     81.53     69.08      8.01\n",
       "11      Strategy      4.23      5.17      2.88"
      ]
     },
     "execution_count": 48,
     "metadata": {},
     "output_type": "execute_result"
    }
   ],
   "source": [
    "# группирую по жанрам и подсчитываю общие продажи по регионам\n",
    "genre_sales = group_sales(data_filtered, 'genre', sales_cols)\n",
    "\n",
    "genre_sales"
   ]
  },
  {
   "cell_type": "code",
   "execution_count": 49,
   "metadata": {},
   "outputs": [
    {
     "data": {
      "text/plain": [
       "'Топ 5 жанров в Северной Америке:'"
      ]
     },
     "metadata": {},
     "output_type": "display_data"
    },
    {
     "data": {
      "text/html": [
       "<div>\n",
       "<style scoped>\n",
       "    .dataframe tbody tr th:only-of-type {\n",
       "        vertical-align: middle;\n",
       "    }\n",
       "\n",
       "    .dataframe tbody tr th {\n",
       "        vertical-align: top;\n",
       "    }\n",
       "\n",
       "    .dataframe thead th {\n",
       "        text-align: right;\n",
       "    }\n",
       "</style>\n",
       "<table border=\"1\" class=\"dataframe\">\n",
       "  <thead>\n",
       "    <tr style=\"text-align: right;\">\n",
       "      <th></th>\n",
       "      <th>index</th>\n",
       "      <th>genre</th>\n",
       "      <th>na_sales</th>\n",
       "    </tr>\n",
       "  </thead>\n",
       "  <tbody>\n",
       "    <tr>\n",
       "      <th>0</th>\n",
       "      <td>0</td>\n",
       "      <td>Action</td>\n",
       "      <td>177.84</td>\n",
       "    </tr>\n",
       "    <tr>\n",
       "      <th>1</th>\n",
       "      <td>8</td>\n",
       "      <td>Shooter</td>\n",
       "      <td>144.77</td>\n",
       "    </tr>\n",
       "    <tr>\n",
       "      <th>2</th>\n",
       "      <td>10</td>\n",
       "      <td>Sports</td>\n",
       "      <td>81.53</td>\n",
       "    </tr>\n",
       "    <tr>\n",
       "      <th>3</th>\n",
       "      <td>7</td>\n",
       "      <td>Role-Playing</td>\n",
       "      <td>64.00</td>\n",
       "    </tr>\n",
       "    <tr>\n",
       "      <th>4</th>\n",
       "      <td>3</td>\n",
       "      <td>Misc</td>\n",
       "      <td>38.19</td>\n",
       "    </tr>\n",
       "  </tbody>\n",
       "</table>\n",
       "</div>"
      ],
      "text/plain": [
       "   index         genre  na_sales\n",
       "0      0        Action    177.84\n",
       "1      8       Shooter    144.77\n",
       "2     10        Sports     81.53\n",
       "3      7  Role-Playing     64.00\n",
       "4      3          Misc     38.19"
      ]
     },
     "metadata": {},
     "output_type": "display_data"
    },
    {
     "data": {
      "text/plain": [
       "'Топ 5 жанров в Европе:'"
      ]
     },
     "metadata": {},
     "output_type": "display_data"
    },
    {
     "data": {
      "text/html": [
       "<div>\n",
       "<style scoped>\n",
       "    .dataframe tbody tr th:only-of-type {\n",
       "        vertical-align: middle;\n",
       "    }\n",
       "\n",
       "    .dataframe tbody tr th {\n",
       "        vertical-align: top;\n",
       "    }\n",
       "\n",
       "    .dataframe thead th {\n",
       "        text-align: right;\n",
       "    }\n",
       "</style>\n",
       "<table border=\"1\" class=\"dataframe\">\n",
       "  <thead>\n",
       "    <tr style=\"text-align: right;\">\n",
       "      <th></th>\n",
       "      <th>index</th>\n",
       "      <th>genre</th>\n",
       "      <th>eu_sales</th>\n",
       "    </tr>\n",
       "  </thead>\n",
       "  <tbody>\n",
       "    <tr>\n",
       "      <th>0</th>\n",
       "      <td>0</td>\n",
       "      <td>Action</td>\n",
       "      <td>159.34</td>\n",
       "    </tr>\n",
       "    <tr>\n",
       "      <th>1</th>\n",
       "      <td>8</td>\n",
       "      <td>Shooter</td>\n",
       "      <td>113.47</td>\n",
       "    </tr>\n",
       "    <tr>\n",
       "      <th>2</th>\n",
       "      <td>10</td>\n",
       "      <td>Sports</td>\n",
       "      <td>69.08</td>\n",
       "    </tr>\n",
       "    <tr>\n",
       "      <th>3</th>\n",
       "      <td>7</td>\n",
       "      <td>Role-Playing</td>\n",
       "      <td>48.53</td>\n",
       "    </tr>\n",
       "    <tr>\n",
       "      <th>4</th>\n",
       "      <td>6</td>\n",
       "      <td>Racing</td>\n",
       "      <td>27.29</td>\n",
       "    </tr>\n",
       "  </tbody>\n",
       "</table>\n",
       "</div>"
      ],
      "text/plain": [
       "   index         genre  eu_sales\n",
       "0      0        Action    159.34\n",
       "1      8       Shooter    113.47\n",
       "2     10        Sports     69.08\n",
       "3      7  Role-Playing     48.53\n",
       "4      6        Racing     27.29"
      ]
     },
     "metadata": {},
     "output_type": "display_data"
    },
    {
     "data": {
      "text/plain": [
       "'Топ 5 жанров в Японии:'"
      ]
     },
     "metadata": {},
     "output_type": "display_data"
    },
    {
     "data": {
      "text/html": [
       "<div>\n",
       "<style scoped>\n",
       "    .dataframe tbody tr th:only-of-type {\n",
       "        vertical-align: middle;\n",
       "    }\n",
       "\n",
       "    .dataframe tbody tr th {\n",
       "        vertical-align: top;\n",
       "    }\n",
       "\n",
       "    .dataframe thead th {\n",
       "        text-align: right;\n",
       "    }\n",
       "</style>\n",
       "<table border=\"1\" class=\"dataframe\">\n",
       "  <thead>\n",
       "    <tr style=\"text-align: right;\">\n",
       "      <th></th>\n",
       "      <th>index</th>\n",
       "      <th>genre</th>\n",
       "      <th>jp_sales</th>\n",
       "    </tr>\n",
       "  </thead>\n",
       "  <tbody>\n",
       "    <tr>\n",
       "      <th>0</th>\n",
       "      <td>7</td>\n",
       "      <td>Role-Playing</td>\n",
       "      <td>65.44</td>\n",
       "    </tr>\n",
       "    <tr>\n",
       "      <th>1</th>\n",
       "      <td>0</td>\n",
       "      <td>Action</td>\n",
       "      <td>52.80</td>\n",
       "    </tr>\n",
       "    <tr>\n",
       "      <th>2</th>\n",
       "      <td>3</td>\n",
       "      <td>Misc</td>\n",
       "      <td>12.86</td>\n",
       "    </tr>\n",
       "    <tr>\n",
       "      <th>3</th>\n",
       "      <td>9</td>\n",
       "      <td>Simulation</td>\n",
       "      <td>10.41</td>\n",
       "    </tr>\n",
       "    <tr>\n",
       "      <th>4</th>\n",
       "      <td>2</td>\n",
       "      <td>Fighting</td>\n",
       "      <td>9.44</td>\n",
       "    </tr>\n",
       "  </tbody>\n",
       "</table>\n",
       "</div>"
      ],
      "text/plain": [
       "   index         genre  jp_sales\n",
       "0      7  Role-Playing     65.44\n",
       "1      0        Action     52.80\n",
       "2      3          Misc     12.86\n",
       "3      9    Simulation     10.41\n",
       "4      2      Fighting      9.44"
      ]
     },
     "metadata": {},
     "output_type": "display_data"
    }
   ],
   "source": [
    "# 5 жанров с наибольшими продажами в каждом регионе\n",
    "genre_na = genre_sales.nlargest(5, 'na_sales')[['genre', 'na_sales']]\n",
    "genre_eu = genre_sales.nlargest(5, 'eu_sales')[['genre', 'eu_sales']]\n",
    "genre_jp = genre_sales.nlargest(5, 'jp_sales')[['genre', 'jp_sales']]\n",
    "\n",
    "display('Топ 5 жанров в Северной Америке:', genre_na.reset_index())\n",
    "display ('Топ 5 жанров в Европе:', genre_eu.reset_index())\n",
    "display ('Топ 5 жанров в Японии:', genre_jp.reset_index())"
   ]
  },
  {
   "cell_type": "code",
   "execution_count": 50,
   "metadata": {},
   "outputs": [],
   "source": [
    "# объединяю оставшиеся жанры в категорию \"другие жанры\"\n",
    "other_genre_na = genre_sales[~genre_sales['genre'].isin(genre_na['genre'])]['na_sales'].sum()\n",
    "other_genre_eu = genre_sales[~genre_sales['genre'].isin(genre_eu['genre'])]['eu_sales'].sum()\n",
    "other_genre_jp = genre_sales[~genre_sales['genre'].isin(genre_jp['genre'])]['jp_sales'].sum()\n",
    "\n",
    "# cоздаю новые DataFrame для круговых диаграмм\n",
    "na_genre_sales = pd.concat([genre_na.set_index('genre')['na_sales'], pd.Series({'Другие жанры': other_genre_na})])\n",
    "eu_genre_sales = pd.concat([genre_eu.set_index('genre')['eu_sales'], pd.Series({'Другие жанры': other_genre_eu})])\n",
    "jp_genre_sales = pd.concat([genre_jp.set_index('genre')['jp_sales'], pd.Series({'Другие жанры': other_genre_jp})])\n"
   ]
  },
  {
   "cell_type": "code",
   "execution_count": 51,
   "metadata": {},
   "outputs": [
    {
     "data": {
      "image/png": "[encoded data removed]",
      "text/plain": [
       "<Figure size 576x576 with 1 Axes>"
      ]
     },
     "metadata": {},
     "output_type": "display_data"
    },
    {
     "data": {
      "image/png": "[encoded data removed]",
      "text/plain": [
       "<Figure size 576x576 with 1 Axes>"
      ]
     },
     "metadata": {},
     "output_type": "display_data"
    },
    {
     "data": {
      "image/png": "[encoded data removed]",
      "text/plain": [
       "<Figure size 576x576 with 1 Axes>"
      ]
     },
     "metadata": {},
     "output_type": "display_data"
    }
   ],
   "source": [
    "# круговые диаграммы для всех регионов\n",
    "plot_pie_chart(na_genre_sales, 'Распределение продаж по жанрам в Северной Америке')\n",
    "plot_pie_chart(eu_genre_sales, 'Распределение продаж по жанрам в Европе')\n",
    "plot_pie_chart(jp_genre_sales, 'Распределение продаж по жанрам в Японии')"
   ]
  },
  {
   "cell_type": "markdown",
   "metadata": {},
   "source": [
    "У поьзователей Европы и Северной Америки очень схожие предпочтения по жанрам. Первые четыре позиции по популярности занимаю соответственно экшены, шутеры, спортивные и ролевые игры. В Японии самыми популярными являются ролевые игры и экшены"
   ]
  },
  {
   "cell_type": "markdown",
   "metadata": {},
   "source": [
    "**Влияет ли рейтинг ESRB на продажи?**"
   ]
  },
  {
   "cell_type": "code",
   "execution_count": 52,
   "metadata": {},
   "outputs": [
    {
     "data": {
      "text/html": [
       "<div>\n",
       "<style scoped>\n",
       "    .dataframe tbody tr th:only-of-type {\n",
       "        vertical-align: middle;\n",
       "    }\n",
       "\n",
       "    .dataframe tbody tr th {\n",
       "        vertical-align: top;\n",
       "    }\n",
       "\n",
       "    .dataframe thead th {\n",
       "        text-align: right;\n",
       "    }\n",
       "</style>\n",
       "<table border=\"1\" class=\"dataframe\">\n",
       "  <thead>\n",
       "    <tr style=\"text-align: right;\">\n",
       "      <th></th>\n",
       "      <th>rating</th>\n",
       "      <th>na_sales</th>\n",
       "      <th>eu_sales</th>\n",
       "      <th>jp_sales</th>\n",
       "    </tr>\n",
       "  </thead>\n",
       "  <tbody>\n",
       "    <tr>\n",
       "      <th>0</th>\n",
       "      <td>E</td>\n",
       "      <td>114.37</td>\n",
       "      <td>113.02</td>\n",
       "      <td>28.33</td>\n",
       "    </tr>\n",
       "    <tr>\n",
       "      <th>1</th>\n",
       "      <td>E10+</td>\n",
       "      <td>75.70</td>\n",
       "      <td>55.37</td>\n",
       "      <td>8.19</td>\n",
       "    </tr>\n",
       "    <tr>\n",
       "      <th>2</th>\n",
       "      <td>M</td>\n",
       "      <td>231.57</td>\n",
       "      <td>193.96</td>\n",
       "      <td>21.20</td>\n",
       "    </tr>\n",
       "    <tr>\n",
       "      <th>3</th>\n",
       "      <td>T</td>\n",
       "      <td>66.02</td>\n",
       "      <td>52.96</td>\n",
       "      <td>26.02</td>\n",
       "    </tr>\n",
       "    <tr>\n",
       "      <th>4</th>\n",
       "      <td>no_ESRB</td>\n",
       "      <td>103.31</td>\n",
       "      <td>91.50</td>\n",
       "      <td>108.84</td>\n",
       "    </tr>\n",
       "  </tbody>\n",
       "</table>\n",
       "</div>"
      ],
      "text/plain": [
       "    rating  na_sales  eu_sales  jp_sales\n",
       "0        E    114.37    113.02     28.33\n",
       "1     E10+     75.70     55.37      8.19\n",
       "2        M    231.57    193.96     21.20\n",
       "3        T     66.02     52.96     26.02\n",
       "4  no_ESRB    103.31     91.50    108.84"
      ]
     },
     "execution_count": 52,
     "metadata": {},
     "output_type": "execute_result"
    }
   ],
   "source": [
    "# группирую по рейтингу и подсчитываю общие продажи по регионам\n",
    "rating_sales = group_sales(data_filtered, 'rating', sales_cols)\n",
    "\n",
    "rating_sales"
   ]
  },
  {
   "cell_type": "code",
   "execution_count": 53,
   "metadata": {},
   "outputs": [
    {
     "data": {
      "image/png": "[encoded data removed]",
      "text/plain": [
       "<Figure size 864x432 with 1 Axes>"
      ]
     },
     "metadata": {
      "needs_background": "light"
     },
     "output_type": "display_data"
    }
   ],
   "source": [
    "rating_sales.set_index('rating', inplace=True)\n",
    "rating_sales.plot(kind='bar', figsize=(12, 6))\n",
    "plt.title(\"Продажи по рейтингам ESRB\")\n",
    "plt.xlabel(\"Рейтинг ESRB\")\n",
    "plt.ylabel(\"Общие продажи\")\n",
    "plt.xticks(rotation=45)\n",
    "plt.legend(title=\"Регион\")\n",
    "plt.show()"
   ]
  },
  {
   "cell_type": "markdown",
   "metadata": {},
   "source": [
    "В Европе и Северной Америки большую часть от покупок занимает категория М, на втором месте E. Японские пользователи предпочитают игры с неопределенным рейтингом.\n"
   ]
  },
  {
   "cell_type": "markdown",
   "metadata": {},
   "source": [
    "**Вывод:**\n",
    "\n",
    "Портрет пользователя в Северной Америке и Европе схож: они предпочитают игровые платформы PS3, PS4 и Xbox 360, а также жанры игр экшен, шутер и спортивные игры. Рейтинг игр, который они выбирают, чаще всего находится в категориях М  и Е.\n",
    "\n",
    "В отличие от этого, в Японии портрет пользователя выглядит иначе. Здесь игроки выбирают платформу 3DS и отдают предпочтение таким жанрам как ролевые игры и экшен. Рейтинг игр, выбираемых японскими пользователями, чаще всего находится в категории неопределенным рейтингом."
   ]
  },
  {
   "cell_type": "markdown",
   "metadata": {},
   "source": [
    "#### Шаг 5. Проверка гипотез"
   ]
  },
  {
   "cell_type": "markdown",
   "metadata": {},
   "source": [
    "**Средние пользовательские рейтинги платформ Xbox One и PC одинаковые**"
   ]
  },
  {
   "cell_type": "markdown",
   "metadata": {},
   "source": [
    "Проверим гипотезу: Средние пользовательские рейтинги платформ Xbox One и PC одинаковые.\n",
    "\n",
    "H0: Средние пользовательские рейтинги платформ Xbox One и PC одинаковые\n",
    "\n",
    "H1: Средние пользовательские рейтинги платформ Xbox One и PC разные\n",
    "\n",
    "alpha = 0.05"
   ]
  },
  {
   "cell_type": "code",
   "execution_count": 54,
   "metadata": {},
   "outputs": [
    {
     "name": "stdout",
     "output_type": "stream",
     "text": [
      "Средний пользовательский рейтинг платформ XOne 6.52\n",
      "Средний пользовательский рейтинг платформ PC 6.43\n",
      "0.5535080500643661\n",
      "Не удалось отвергнуть нулевую гипотезу\n"
     ]
    }
   ],
   "source": [
    "score = data_filtered[data_filtered['user_score'] != -1]\n",
    "\n",
    "print('Средний пользовательский рейтинг платформ XOne', round(score.query('platform == \"XOne\"')['user_score'].mean(),2))\n",
    "print('Средний пользовательский рейтинг платформ PC', round(score.query('platform == \"PC\"')['user_score'].mean(),2))\n",
    "\n",
    "xbox_one_scores = score[score['platform'] == 'XOne']['user_score']\n",
    "pc_scores = score[score['platform'] == 'PC']['user_score']\n",
    "\n",
    "results = st.ttest_ind(xbox_one_scores, \n",
    "                       pc_scores,\n",
    "                       alternative = 'two-sided')\n",
    "\n",
    "alpha = 0.05\n",
    "\n",
    "print(results.pvalue)\n",
    "\n",
    "if results.pvalue < alpha:\n",
    "    print('Отвергаем нулевую гипотезу')\n",
    "else:\n",
    "    print('Не удалось отвергнуть нулевую гипотезу')"
   ]
  },
  {
   "cell_type": "markdown",
   "metadata": {},
   "source": [
    "Нет оснований утверждать, что средние пользовательские рейтинги платформ Xbox One и PC значимо различаются"
   ]
  },
  {
   "cell_type": "markdown",
   "metadata": {},
   "source": [
    "**Средние пользовательские рейтинги жанров Action и Sports разные.**"
   ]
  },
  {
   "cell_type": "markdown",
   "metadata": {},
   "source": [
    "Проверим гипотезу: Средние пользовательские рейтинги жанров Action (англ. «действие», экшен-игры) и Sports (англ. «спортивные соревнования») разные.\n",
    "\n",
    "H0: Средние пользовательские рейтинги жанров Action и Sports одинаковые\n",
    "\n",
    "H1: Средние пользовательские рейтинги жанров Action и Sports разные\n",
    "\n",
    "alpha = 0.05"
   ]
  },
  {
   "cell_type": "code",
   "execution_count": 55,
   "metadata": {},
   "outputs": [
    {
     "name": "stdout",
     "output_type": "stream",
     "text": [
      "Средний пользовательский рейтинг жанра экшен 6.83\n",
      "Средний пользовательский рейтинг жанра спортивных игр 5.46\n",
      "4.8045233804629176e-26\n",
      "Отвергаем нулевую гипотезу\n"
     ]
    }
   ],
   "source": [
    "print('Средний пользовательский рейтинг жанра экшен', round(score.query('genre == \"Action\"')['user_score'].mean(),2))\n",
    "print('Средний пользовательский рейтинг жанра спортивных игр', round(score.query('genre == \"Sports\"')['user_score'].mean(),2))\n",
    "\n",
    "action_scores = score[score['genre'] == 'Action']['user_score']\n",
    "sports_scores = score[score['genre'] == 'Sports']['user_score']\n",
    "\n",
    "results = st.ttest_ind(action_scores, \n",
    "                       sports_scores,\n",
    "                       alternative = 'two-sided')\n",
    "\n",
    "alpha = 0.05\n",
    "\n",
    "print(results.pvalue)\n",
    "\n",
    "if results.pvalue < alpha:\n",
    "    print('Отвергаем нулевую гипотезу')\n",
    "else:\n",
    "    print('Не удалось отвергнуть нулевую гипотезу')"
   ]
  },
  {
   "cell_type": "markdown",
   "metadata": {},
   "source": [
    "Есть основания утверждать, cредние пользовательские рейтинги жанров Action и Sports значимо различаются, при установленном уровне значимости в 5 %"
   ]
  },
  {
   "cell_type": "markdown",
   "metadata": {},
   "source": [
    "Для проверки наших гипотез и сравнения двух выборок был выбран T-тест. Он предполагает, что данные (рейтинг) следуют нормальному распределению. Для наших выборок (они достаточно большие) мы можем сделать это предположение на основе Центральной предельной теоремы.\n",
    "Мы проводим двусторонний тест, потому что нас интересует любое отклонение от равенства (как в сторону увеличения, так и в сторону уменьшения)."
   ]
  },
  {
   "cell_type": "markdown",
   "metadata": {},
   "source": [
    "**Выводы:**\n",
    "Средние пользовательские рейтинги платформ Xbox One и PC не различаются.\n",
    "Средние пользовательские рейтинги жанров Action и Sports значимо различаются.\n"
   ]
  },
  {
   "cell_type": "markdown",
   "metadata": {},
   "source": [
    "**Общий вывод:**\n",
    "\n",
    "В ходе исследования исторических данных о продажах игр были выполнены следующие этапы, а также сделаны соответствующие выводы:\n",
    "\n",
    "**1. Анализ информации о данных**\n",
    "\n",
    "В данных 16715 строк. Есть пропущенные значения и некорректный тип данных. Явные дубликаты отсутствуют.\n",
    "\n",
    "**2. Предобработка данных**\n",
    "\n",
    "В ходе предобработки данных в датафрейме сделаны следующие преобразования:\n",
    "1. Названия столбцов приведены к нижнему регистру\n",
    "2. Удалены неявные дубликаты\n",
    "3. В столбцах user_score и critic_score пропуски заменены на - 1, столбце rating пропуски заменены на no_ESRB\n",
    "4. Типы данных в столбцах year_of_release и critic_score заменены на целые значения\n",
    "5. Добавлен столбец total_sales, отражающий суммарные продажи во всех регионах\n",
    "\n",
    "**3. Исследовательский анализ данных**\n",
    "\n",
    "1. Количество выпускаемых игр росло с 1991 по 2008-2009 годы, потом оно начало уменьшаться.\n",
    "2. Более половины всех продаж (62,9%) приходится на 6 платформ: PS2, X360, PS3, Wii, DS, PS.\n",
    "3. \"Срок жизни\" платформы в среднем составляет 7 лет. Но пика по продажам в основном достигают через пять лет после начала продаж.\n",
    "4. Среди всех платформ за последние 5 лет положительную динамику демонстрируют PS4 и XOne. Можно назвать их потенциально прибыльными.\n",
    "5. Оценки зрителей не влияют на продажи, а оценки критиков влияют на продажи положительно.\n",
    "6. Самыми прибыльными жанрами являются шутеры и экшены. Стоит обратить внимание на платформеры и спортивные игры, которые также показывают неплохие результаты по продажам\n",
    "\n",
    "**4. Составление портрета пользователя для каждого региона:**\n",
    "\n",
    "Портрет пользователя в Северной Америке и Европе схож: они предпочитают игровые платформы PS3, PS4 и Xbox 360, а также жанры игр экшен, шутер и спортивные игры. Рейтинг игр, который они выбирают, чаще всего находится в категориях М и Е.\n",
    "\n",
    "В отличие от этого, в Японии портрет пользователя выглядит иначе. Здесь игроки выбирают платформу 3DS и отдают предпочтение таким жанрам как ролевые игры и экшен. Рейтинг игр, выбираемых японскими пользователями, чаще всего находится в категории неопределенным рейтингом.\n",
    "\n",
    "**5. Проверка гипотез**\n",
    "\n",
    "Средние пользовательские рейтинги платформ Xbox One и PC не различаются.\n",
    "Средние пользовательские рейтинги жанров Action и Sports значимо различаются.\n",
    "\n",
    "**Заключение**\n",
    "\n",
    "Потенциально успешный продукт и рекламные кампании должны быть ориентированы на платформы PS3, PS4, Xbox One, Xbox 360, 3DS (для Японии). Для западного рынка рекомендуется фокусироваться на играх жанра Action, Shooter и Sports, в то время как для Японии предпочтительными являются игры жанров Role-Playing и Action. При этом стоит учитывать категории М и Е, но не ограничиваться только ими."
   ]
  }
 ],
 "metadata": {
  "ExecuteTimeLog": [
   {
    "duration": 340,
    "start_time": "2024-12-09T09:03:21.108Z"
   },
   {
    "duration": 178,
    "start_time": "2024-12-09T09:15:48.983Z"
   },
   {
    "duration": 13,
    "start_time": "2024-12-09T09:16:03.117Z"
   },
   {
    "duration": 62,
    "start_time": "2024-12-09T09:17:03.630Z"
   },
   {
    "duration": 17,
    "start_time": "2024-12-09T09:17:08.188Z"
   },
   {
    "duration": 1022,
    "start_time": "2024-12-09T09:18:25.229Z"
   },
   {
    "duration": 3,
    "start_time": "2024-12-09T09:18:53.344Z"
   },
   {
    "duration": 647,
    "start_time": "2024-12-09T09:18:58.045Z"
   },
   {
    "duration": 13,
    "start_time": "2024-12-09T09:28:01.551Z"
   },
   {
    "duration": 70,
    "start_time": "2024-12-09T09:28:29.543Z"
   },
   {
    "duration": 2,
    "start_time": "2024-12-09T09:29:04.679Z"
   },
   {
    "duration": 8,
    "start_time": "2024-12-09T09:40:57.290Z"
   },
   {
    "duration": 14,
    "start_time": "2024-12-09T09:41:03.785Z"
   },
   {
    "duration": 7,
    "start_time": "2024-12-09T09:54:43.013Z"
   },
   {
    "duration": 12,
    "start_time": "2024-12-09T09:54:52.532Z"
   },
   {
    "duration": 7,
    "start_time": "2024-12-09T10:06:20.309Z"
   },
   {
    "duration": 0,
    "start_time": "2024-12-09T10:07:35.749Z"
   },
   {
    "duration": 11,
    "start_time": "2024-12-09T10:41:00.417Z"
   },
   {
    "duration": 9,
    "start_time": "2024-12-09T10:43:38.993Z"
   },
   {
    "duration": 8,
    "start_time": "2024-12-09T10:49:37.027Z"
   },
   {
    "duration": 12,
    "start_time": "2024-12-09T10:51:56.090Z"
   },
   {
    "duration": 13,
    "start_time": "2024-12-09T10:55:55.409Z"
   },
   {
    "duration": 45,
    "start_time": "2024-12-09T12:24:10.939Z"
   },
   {
    "duration": 9,
    "start_time": "2024-12-09T12:24:54.523Z"
   },
   {
    "duration": 818,
    "start_time": "2024-12-09T12:25:04.442Z"
   },
   {
    "duration": 111,
    "start_time": "2024-12-09T12:25:05.262Z"
   },
   {
    "duration": 15,
    "start_time": "2024-12-09T12:25:05.375Z"
   },
   {
    "duration": 17,
    "start_time": "2024-12-09T12:25:05.391Z"
   },
   {
    "duration": 749,
    "start_time": "2024-12-09T12:25:05.409Z"
   },
   {
    "duration": 15,
    "start_time": "2024-12-09T12:25:06.159Z"
   },
   {
    "duration": 13,
    "start_time": "2024-12-09T12:25:06.175Z"
   },
   {
    "duration": 30,
    "start_time": "2024-12-09T12:25:06.190Z"
   },
   {
    "duration": 25,
    "start_time": "2024-12-09T12:25:06.221Z"
   },
   {
    "duration": 91,
    "start_time": "2024-12-09T12:25:06.248Z"
   },
   {
    "duration": 0,
    "start_time": "2024-12-09T12:25:06.340Z"
   },
   {
    "duration": 1311,
    "start_time": "2024-12-09T12:27:21.080Z"
   },
   {
    "duration": 29,
    "start_time": "2024-12-09T12:27:58.608Z"
   },
   {
    "duration": 16,
    "start_time": "2024-12-09T12:28:42.568Z"
   },
   {
    "duration": 5,
    "start_time": "2024-12-09T12:31:39.664Z"
   },
   {
    "duration": 4,
    "start_time": "2024-12-09T12:34:44.794Z"
   },
   {
    "duration": 10,
    "start_time": "2024-12-09T12:34:53.729Z"
   },
   {
    "duration": 13,
    "start_time": "2024-12-09T12:35:17.266Z"
   },
   {
    "duration": 14,
    "start_time": "2024-12-09T12:36:53.946Z"
   },
   {
    "duration": 5,
    "start_time": "2024-12-09T12:50:37.052Z"
   },
   {
    "duration": 4,
    "start_time": "2024-12-09T12:52:35.821Z"
   },
   {
    "duration": 50,
    "start_time": "2024-12-09T12:52:37.963Z"
   },
   {
    "duration": 674,
    "start_time": "2024-12-09T12:52:59.851Z"
   },
   {
    "duration": 55,
    "start_time": "2024-12-09T12:53:00.532Z"
   },
   {
    "duration": 61,
    "start_time": "2024-12-09T12:53:00.589Z"
   },
   {
    "duration": 30,
    "start_time": "2024-12-09T12:53:00.652Z"
   },
   {
    "duration": 819,
    "start_time": "2024-12-09T12:53:00.683Z"
   },
   {
    "duration": 29,
    "start_time": "2024-12-09T12:53:01.504Z"
   },
   {
    "duration": 47,
    "start_time": "2024-12-09T12:53:01.535Z"
   },
   {
    "duration": 80,
    "start_time": "2024-12-09T12:53:01.583Z"
   },
   {
    "duration": 18,
    "start_time": "2024-12-09T12:53:01.664Z"
   },
   {
    "duration": 5,
    "start_time": "2024-12-09T12:53:01.685Z"
   },
   {
    "duration": 39,
    "start_time": "2024-12-09T12:53:01.691Z"
   },
   {
    "duration": 42,
    "start_time": "2024-12-09T12:53:01.732Z"
   },
   {
    "duration": 13,
    "start_time": "2024-12-09T12:53:01.776Z"
   },
   {
    "duration": 93,
    "start_time": "2024-12-09T12:53:01.791Z"
   },
   {
    "duration": 2,
    "start_time": "2024-12-09T12:54:48.388Z"
   },
   {
    "duration": 7,
    "start_time": "2024-12-09T12:55:39.572Z"
   },
   {
    "duration": 93,
    "start_time": "2024-12-09T12:55:58.861Z"
   },
   {
    "duration": 4,
    "start_time": "2024-12-09T12:56:04.268Z"
   },
   {
    "duration": 7,
    "start_time": "2024-12-09T12:56:17.517Z"
   },
   {
    "duration": 4,
    "start_time": "2024-12-09T12:56:20.444Z"
   },
   {
    "duration": 16,
    "start_time": "2024-12-09T12:56:23.628Z"
   },
   {
    "duration": 18,
    "start_time": "2024-12-09T12:56:47.204Z"
   },
   {
    "duration": 20,
    "start_time": "2024-12-09T12:56:56.292Z"
   },
   {
    "duration": 14,
    "start_time": "2024-12-09T13:02:08.981Z"
   },
   {
    "duration": 8,
    "start_time": "2024-12-09T13:16:21.936Z"
   },
   {
    "duration": 14,
    "start_time": "2024-12-09T13:16:47.656Z"
   },
   {
    "duration": 62,
    "start_time": "2024-12-10T09:26:06.765Z"
   },
   {
    "duration": 853,
    "start_time": "2024-12-10T09:26:14.883Z"
   },
   {
    "duration": 114,
    "start_time": "2024-12-10T09:26:15.740Z"
   },
   {
    "duration": 17,
    "start_time": "2024-12-10T09:26:15.856Z"
   },
   {
    "duration": 19,
    "start_time": "2024-12-10T09:26:15.875Z"
   },
   {
    "duration": 782,
    "start_time": "2024-12-10T09:26:15.896Z"
   },
   {
    "duration": 19,
    "start_time": "2024-12-10T09:26:16.680Z"
   },
   {
    "duration": 16,
    "start_time": "2024-12-10T09:26:16.700Z"
   },
   {
    "duration": 11,
    "start_time": "2024-12-10T09:26:16.718Z"
   },
   {
    "duration": 46,
    "start_time": "2024-12-10T09:26:16.730Z"
   },
   {
    "duration": 6,
    "start_time": "2024-12-10T09:26:16.778Z"
   },
   {
    "duration": 25,
    "start_time": "2024-12-10T09:26:16.786Z"
   },
   {
    "duration": 21,
    "start_time": "2024-12-10T09:26:16.813Z"
   },
   {
    "duration": 5,
    "start_time": "2024-12-10T09:26:16.836Z"
   },
   {
    "duration": 35,
    "start_time": "2024-12-10T09:26:16.842Z"
   },
   {
    "duration": 14,
    "start_time": "2024-12-10T09:26:16.879Z"
   },
   {
    "duration": 18,
    "start_time": "2024-12-10T09:26:16.895Z"
   },
   {
    "duration": 17,
    "start_time": "2024-12-10T09:26:16.915Z"
   },
   {
    "duration": 449,
    "start_time": "2024-12-10T09:26:16.933Z"
   },
   {
    "duration": 84,
    "start_time": "2024-12-10T09:30:21.051Z"
   },
   {
    "duration": 323,
    "start_time": "2024-12-10T09:30:26.362Z"
   },
   {
    "duration": 44,
    "start_time": "2024-12-10T11:30:36.340Z"
   },
   {
    "duration": 698,
    "start_time": "2024-12-10T11:30:43.553Z"
   },
   {
    "duration": 194,
    "start_time": "2024-12-10T11:30:44.253Z"
   },
   {
    "duration": 13,
    "start_time": "2024-12-10T11:30:44.448Z"
   },
   {
    "duration": 16,
    "start_time": "2024-12-10T11:30:44.462Z"
   },
   {
    "duration": 634,
    "start_time": "2024-12-10T11:30:44.479Z"
   },
   {
    "duration": 15,
    "start_time": "2024-12-10T11:30:45.115Z"
   },
   {
    "duration": 33,
    "start_time": "2024-12-10T11:30:45.131Z"
   },
   {
    "duration": 39,
    "start_time": "2024-12-10T11:30:45.165Z"
   },
   {
    "duration": 35,
    "start_time": "2024-12-10T11:30:45.206Z"
   },
   {
    "duration": 15,
    "start_time": "2024-12-10T11:30:45.243Z"
   },
   {
    "duration": 24,
    "start_time": "2024-12-10T11:30:45.259Z"
   },
   {
    "duration": 45,
    "start_time": "2024-12-10T11:30:45.284Z"
   },
   {
    "duration": 27,
    "start_time": "2024-12-10T11:30:45.330Z"
   },
   {
    "duration": 30,
    "start_time": "2024-12-10T11:30:45.358Z"
   },
   {
    "duration": 23,
    "start_time": "2024-12-10T11:30:45.390Z"
   },
   {
    "duration": 12,
    "start_time": "2024-12-10T11:30:45.414Z"
   },
   {
    "duration": 16,
    "start_time": "2024-12-10T11:30:45.427Z"
   },
   {
    "duration": 326,
    "start_time": "2024-12-10T11:30:45.444Z"
   },
   {
    "duration": 14,
    "start_time": "2024-12-10T11:30:45.772Z"
   },
   {
    "duration": 13,
    "start_time": "2024-12-10T11:31:11.744Z"
   },
   {
    "duration": 13,
    "start_time": "2024-12-10T11:31:23.137Z"
   },
   {
    "duration": 67,
    "start_time": "2024-12-10T11:37:40.843Z"
   },
   {
    "duration": 14,
    "start_time": "2024-12-10T11:38:46.410Z"
   },
   {
    "duration": 4,
    "start_time": "2024-12-10T11:39:05.130Z"
   },
   {
    "duration": 4,
    "start_time": "2024-12-10T11:54:13.237Z"
   },
   {
    "duration": 145,
    "start_time": "2024-12-10T11:54:45.148Z"
   },
   {
    "duration": 12,
    "start_time": "2024-12-10T11:56:42.381Z"
   },
   {
    "duration": 873,
    "start_time": "2024-12-10T11:59:39.471Z"
   },
   {
    "duration": 69,
    "start_time": "2024-12-10T12:03:01.832Z"
   },
   {
    "duration": 870,
    "start_time": "2024-12-10T12:03:08.199Z"
   },
   {
    "duration": 9,
    "start_time": "2024-12-10T12:28:24.973Z"
   },
   {
    "duration": 12,
    "start_time": "2024-12-10T12:29:10.196Z"
   },
   {
    "duration": 14,
    "start_time": "2024-12-10T12:29:32.389Z"
   },
   {
    "duration": 309,
    "start_time": "2024-12-10T12:30:20.669Z"
   },
   {
    "duration": 363,
    "start_time": "2024-12-10T12:31:53.813Z"
   },
   {
    "duration": 302,
    "start_time": "2024-12-10T12:32:39.381Z"
   },
   {
    "duration": 555,
    "start_time": "2024-12-10T12:34:17.301Z"
   },
   {
    "duration": 310,
    "start_time": "2024-12-10T12:34:45.149Z"
   },
   {
    "duration": 423,
    "start_time": "2024-12-10T12:40:17.974Z"
   },
   {
    "duration": 446,
    "start_time": "2024-12-10T12:40:53.550Z"
   },
   {
    "duration": 401,
    "start_time": "2024-12-10T12:41:08.357Z"
   },
   {
    "duration": 466,
    "start_time": "2024-12-10T12:41:16.510Z"
   },
   {
    "duration": 100,
    "start_time": "2024-12-10T12:42:50.974Z"
   },
   {
    "duration": 213,
    "start_time": "2024-12-10T12:43:06.174Z"
   },
   {
    "duration": 202,
    "start_time": "2024-12-10T12:43:18.134Z"
   },
   {
    "duration": 254,
    "start_time": "2024-12-10T12:43:54.094Z"
   },
   {
    "duration": 196,
    "start_time": "2024-12-10T12:44:09.374Z"
   },
   {
    "duration": 292,
    "start_time": "2024-12-10T12:44:21.886Z"
   },
   {
    "duration": 239,
    "start_time": "2024-12-10T12:45:57.766Z"
   },
   {
    "duration": 7,
    "start_time": "2024-12-10T12:58:39.297Z"
   },
   {
    "duration": 5,
    "start_time": "2024-12-10T12:58:43.128Z"
   },
   {
    "duration": 9,
    "start_time": "2024-12-10T12:58:46.256Z"
   },
   {
    "duration": 9,
    "start_time": "2024-12-10T12:59:11.352Z"
   },
   {
    "duration": 162,
    "start_time": "2024-12-10T13:10:11.386Z"
   },
   {
    "duration": 172,
    "start_time": "2024-12-10T13:10:38.203Z"
   },
   {
    "duration": 74,
    "start_time": "2024-12-10T13:10:54.795Z"
   },
   {
    "duration": 193,
    "start_time": "2024-12-10T13:11:27.858Z"
   },
   {
    "duration": 10,
    "start_time": "2024-12-10T13:14:28.244Z"
   },
   {
    "duration": 9,
    "start_time": "2024-12-10T13:14:56.667Z"
   },
   {
    "duration": 164,
    "start_time": "2024-12-10T13:21:36.816Z"
   },
   {
    "duration": 162,
    "start_time": "2024-12-10T13:22:12.437Z"
   },
   {
    "duration": 134,
    "start_time": "2024-12-10T13:25:44.020Z"
   },
   {
    "duration": 6,
    "start_time": "2024-12-10T13:37:28.808Z"
   },
   {
    "duration": 2,
    "start_time": "2024-12-10T13:37:41.351Z"
   },
   {
    "duration": 276,
    "start_time": "2024-12-10T13:37:50.758Z"
   },
   {
    "duration": 5,
    "start_time": "2024-12-10T13:41:11.177Z"
   },
   {
    "duration": 339,
    "start_time": "2024-12-10T13:41:13.840Z"
   },
   {
    "duration": 326,
    "start_time": "2024-12-10T13:41:47.704Z"
   },
   {
    "duration": 9,
    "start_time": "2024-12-10T13:56:38.732Z"
   },
   {
    "duration": 179,
    "start_time": "2024-12-10T13:57:05.524Z"
   },
   {
    "duration": 177,
    "start_time": "2024-12-10T13:57:19.060Z"
   },
   {
    "duration": 175,
    "start_time": "2024-12-10T13:57:44.165Z"
   },
   {
    "duration": 181,
    "start_time": "2024-12-10T13:57:51.732Z"
   },
   {
    "duration": 1231,
    "start_time": "2024-12-10T13:59:13.853Z"
   },
   {
    "duration": 195,
    "start_time": "2024-12-10T14:00:31.429Z"
   },
   {
    "duration": 156,
    "start_time": "2024-12-10T14:04:09.108Z"
   },
   {
    "duration": 223,
    "start_time": "2024-12-10T14:04:30.790Z"
   },
   {
    "duration": 207,
    "start_time": "2024-12-10T14:09:14.374Z"
   },
   {
    "duration": 206,
    "start_time": "2024-12-10T14:10:35.471Z"
   },
   {
    "duration": 216,
    "start_time": "2024-12-10T14:10:46.175Z"
   },
   {
    "duration": 214,
    "start_time": "2024-12-10T14:10:55.086Z"
   },
   {
    "duration": 223,
    "start_time": "2024-12-10T14:11:54.391Z"
   },
   {
    "duration": 263,
    "start_time": "2024-12-10T14:12:01.335Z"
   },
   {
    "duration": 215,
    "start_time": "2024-12-10T14:12:26.536Z"
   },
   {
    "duration": 219,
    "start_time": "2024-12-10T14:12:33.919Z"
   },
   {
    "duration": 49,
    "start_time": "2024-12-11T09:06:47.506Z"
   },
   {
    "duration": 812,
    "start_time": "2024-12-11T09:06:55.981Z"
   },
   {
    "duration": 107,
    "start_time": "2024-12-11T09:06:56.795Z"
   },
   {
    "duration": 16,
    "start_time": "2024-12-11T09:06:56.904Z"
   },
   {
    "duration": 20,
    "start_time": "2024-12-11T09:06:56.922Z"
   },
   {
    "duration": 758,
    "start_time": "2024-12-11T09:06:56.943Z"
   },
   {
    "duration": 15,
    "start_time": "2024-12-11T09:06:57.702Z"
   },
   {
    "duration": 14,
    "start_time": "2024-12-11T09:06:57.719Z"
   },
   {
    "duration": 34,
    "start_time": "2024-12-11T09:06:57.734Z"
   },
   {
    "duration": 20,
    "start_time": "2024-12-11T09:06:57.770Z"
   },
   {
    "duration": 5,
    "start_time": "2024-12-11T09:06:57.793Z"
   },
   {
    "duration": 11,
    "start_time": "2024-12-11T09:06:57.799Z"
   },
   {
    "duration": 20,
    "start_time": "2024-12-11T09:06:57.812Z"
   },
   {
    "duration": 5,
    "start_time": "2024-12-11T09:06:57.833Z"
   },
   {
    "duration": 37,
    "start_time": "2024-12-11T09:06:57.840Z"
   },
   {
    "duration": 12,
    "start_time": "2024-12-11T09:06:57.879Z"
   },
   {
    "duration": 17,
    "start_time": "2024-12-11T09:06:57.892Z"
   },
   {
    "duration": 15,
    "start_time": "2024-12-11T09:06:57.911Z"
   },
   {
    "duration": 380,
    "start_time": "2024-12-11T09:06:57.928Z"
   },
   {
    "duration": 16,
    "start_time": "2024-12-11T09:06:58.310Z"
   },
   {
    "duration": 4,
    "start_time": "2024-12-11T09:06:58.328Z"
   },
   {
    "duration": 11,
    "start_time": "2024-12-11T09:06:58.333Z"
   },
   {
    "duration": 1014,
    "start_time": "2024-12-11T09:06:58.345Z"
   },
   {
    "duration": 342,
    "start_time": "2024-12-11T09:06:59.362Z"
   },
   {
    "duration": 255,
    "start_time": "2024-12-11T09:06:59.706Z"
   },
   {
    "duration": 9,
    "start_time": "2024-12-11T09:06:59.963Z"
   },
   {
    "duration": 398,
    "start_time": "2024-12-11T09:06:59.973Z"
   },
   {
    "duration": 331,
    "start_time": "2024-12-11T09:07:00.373Z"
   },
   {
    "duration": 221,
    "start_time": "2024-12-11T09:07:00.707Z"
   },
   {
    "duration": 95,
    "start_time": "2024-12-11T09:07:00.930Z"
   },
   {
    "duration": 0,
    "start_time": "2024-12-11T09:07:01.026Z"
   },
   {
    "duration": 0,
    "start_time": "2024-12-11T09:07:01.027Z"
   },
   {
    "duration": 265,
    "start_time": "2024-12-11T09:07:55.007Z"
   },
   {
    "duration": 79,
    "start_time": "2024-12-11T09:07:59.143Z"
   },
   {
    "duration": 13,
    "start_time": "2024-12-11T09:08:12.063Z"
   },
   {
    "duration": 15,
    "start_time": "2024-12-11T09:08:36.751Z"
   },
   {
    "duration": 16,
    "start_time": "2024-12-11T09:09:51.951Z"
   },
   {
    "duration": 29,
    "start_time": "2024-12-11T09:10:13.135Z"
   },
   {
    "duration": 89,
    "start_time": "2024-12-11T09:10:37.088Z"
   },
   {
    "duration": 34,
    "start_time": "2024-12-11T09:11:32.047Z"
   },
   {
    "duration": 14,
    "start_time": "2024-12-11T09:18:27.591Z"
   },
   {
    "duration": 1487,
    "start_time": "2024-12-11T09:18:44.464Z"
   },
   {
    "duration": 12,
    "start_time": "2024-12-11T09:19:07.631Z"
   },
   {
    "duration": 383,
    "start_time": "2024-12-11T09:19:14.351Z"
   },
   {
    "duration": 31,
    "start_time": "2024-12-11T09:20:50.552Z"
   },
   {
    "duration": 29,
    "start_time": "2024-12-11T09:25:30.440Z"
   },
   {
    "duration": 25,
    "start_time": "2024-12-11T09:28:23.426Z"
   },
   {
    "duration": 19,
    "start_time": "2024-12-11T09:28:38.434Z"
   },
   {
    "duration": 27,
    "start_time": "2024-12-11T09:29:02.857Z"
   },
   {
    "duration": 15,
    "start_time": "2024-12-11T09:53:35.156Z"
   },
   {
    "duration": 27,
    "start_time": "2024-12-11T09:56:08.716Z"
   },
   {
    "duration": 12,
    "start_time": "2024-12-11T10:03:00.734Z"
   },
   {
    "duration": 456,
    "start_time": "2024-12-11T10:03:39.902Z"
   },
   {
    "duration": 4,
    "start_time": "2024-12-11T10:54:30.831Z"
   },
   {
    "duration": 4,
    "start_time": "2024-12-11T10:57:13.528Z"
   },
   {
    "duration": 4,
    "start_time": "2024-12-11T10:58:12.152Z"
   },
   {
    "duration": 4,
    "start_time": "2024-12-11T10:58:56.656Z"
   },
   {
    "duration": 4,
    "start_time": "2024-12-11T10:59:21.424Z"
   },
   {
    "duration": 3,
    "start_time": "2024-12-11T10:59:49.673Z"
   },
   {
    "duration": 8,
    "start_time": "2024-12-11T11:00:10.921Z"
   },
   {
    "duration": 14,
    "start_time": "2024-12-11T11:00:24.489Z"
   },
   {
    "duration": 9,
    "start_time": "2024-12-11T11:00:58.609Z"
   },
   {
    "duration": 16,
    "start_time": "2024-12-11T11:01:06.256Z"
   },
   {
    "duration": 20,
    "start_time": "2024-12-11T11:01:32.113Z"
   },
   {
    "duration": 689,
    "start_time": "2024-12-11T11:02:30.944Z"
   },
   {
    "duration": 58,
    "start_time": "2024-12-11T11:02:31.635Z"
   },
   {
    "duration": 15,
    "start_time": "2024-12-11T11:02:31.695Z"
   },
   {
    "duration": 38,
    "start_time": "2024-12-11T11:02:31.712Z"
   },
   {
    "duration": 793,
    "start_time": "2024-12-11T11:02:31.751Z"
   },
   {
    "duration": 24,
    "start_time": "2024-12-11T11:02:32.546Z"
   },
   {
    "duration": 18,
    "start_time": "2024-12-11T11:02:32.572Z"
   },
   {
    "duration": 32,
    "start_time": "2024-12-11T11:02:32.591Z"
   },
   {
    "duration": 33,
    "start_time": "2024-12-11T11:02:32.625Z"
   },
   {
    "duration": 17,
    "start_time": "2024-12-11T11:02:32.661Z"
   },
   {
    "duration": 84,
    "start_time": "2024-12-11T11:02:32.679Z"
   },
   {
    "duration": 21,
    "start_time": "2024-12-11T11:02:32.765Z"
   },
   {
    "duration": 20,
    "start_time": "2024-12-11T11:02:32.788Z"
   },
   {
    "duration": 90,
    "start_time": "2024-12-11T11:02:32.809Z"
   },
   {
    "duration": 13,
    "start_time": "2024-12-11T11:02:32.900Z"
   },
   {
    "duration": 17,
    "start_time": "2024-12-11T11:02:32.915Z"
   },
   {
    "duration": 29,
    "start_time": "2024-12-11T11:02:32.933Z"
   },
   {
    "duration": 388,
    "start_time": "2024-12-11T11:02:32.964Z"
   },
   {
    "duration": 26,
    "start_time": "2024-12-11T11:02:33.354Z"
   },
   {
    "duration": 4,
    "start_time": "2024-12-11T11:02:33.382Z"
   },
   {
    "duration": 5,
    "start_time": "2024-12-11T11:02:33.387Z"
   },
   {
    "duration": 1070,
    "start_time": "2024-12-11T11:02:33.393Z"
   },
   {
    "duration": 356,
    "start_time": "2024-12-11T11:02:34.465Z"
   },
   {
    "duration": 261,
    "start_time": "2024-12-11T11:02:34.823Z"
   },
   {
    "duration": 6,
    "start_time": "2024-12-11T11:02:35.085Z"
   },
   {
    "duration": 425,
    "start_time": "2024-12-11T11:02:35.093Z"
   },
   {
    "duration": 361,
    "start_time": "2024-12-11T11:02:35.521Z"
   },
   {
    "duration": 222,
    "start_time": "2024-12-11T11:02:35.887Z"
   },
   {
    "duration": 274,
    "start_time": "2024-12-11T11:02:36.111Z"
   },
   {
    "duration": 4,
    "start_time": "2024-12-11T11:02:36.387Z"
   },
   {
    "duration": 15,
    "start_time": "2024-12-11T11:02:36.393Z"
   },
   {
    "duration": 6,
    "start_time": "2024-12-11T11:02:36.410Z"
   },
   {
    "duration": 15,
    "start_time": "2024-12-11T11:02:36.417Z"
   },
   {
    "duration": 17,
    "start_time": "2024-12-11T11:02:36.434Z"
   },
   {
    "duration": 111,
    "start_time": "2024-12-11T11:02:36.452Z"
   },
   {
    "duration": 18,
    "start_time": "2024-12-11T11:02:36.565Z"
   },
   {
    "duration": 87,
    "start_time": "2024-12-11T11:02:36.585Z"
   },
   {
    "duration": 0,
    "start_time": "2024-12-11T11:02:36.674Z"
   },
   {
    "duration": 0,
    "start_time": "2024-12-11T11:02:36.675Z"
   },
   {
    "duration": 0,
    "start_time": "2024-12-11T11:02:36.676Z"
   },
   {
    "duration": 0,
    "start_time": "2024-12-11T11:02:36.677Z"
   },
   {
    "duration": 0,
    "start_time": "2024-12-11T11:02:36.678Z"
   },
   {
    "duration": 0,
    "start_time": "2024-12-11T11:02:36.679Z"
   },
   {
    "duration": 0,
    "start_time": "2024-12-11T11:02:36.680Z"
   },
   {
    "duration": 9,
    "start_time": "2024-12-11T11:07:12.194Z"
   },
   {
    "duration": 13,
    "start_time": "2024-12-11T11:07:23.889Z"
   },
   {
    "duration": 10,
    "start_time": "2024-12-11T11:09:22.714Z"
   },
   {
    "duration": 7,
    "start_time": "2024-12-11T11:09:32.610Z"
   },
   {
    "duration": 9,
    "start_time": "2024-12-11T11:13:16.186Z"
   },
   {
    "duration": 3,
    "start_time": "2024-12-11T11:19:53.980Z"
   },
   {
    "duration": 13,
    "start_time": "2024-12-11T11:19:58.788Z"
   },
   {
    "duration": 3,
    "start_time": "2024-12-11T11:23:08.734Z"
   },
   {
    "duration": 6,
    "start_time": "2024-12-11T11:23:11.589Z"
   },
   {
    "duration": 4,
    "start_time": "2024-12-11T11:24:03.181Z"
   },
   {
    "duration": 4,
    "start_time": "2024-12-11T11:24:12.773Z"
   },
   {
    "duration": 3,
    "start_time": "2024-12-11T11:24:14.477Z"
   },
   {
    "duration": 3,
    "start_time": "2024-12-11T11:24:16.333Z"
   },
   {
    "duration": 14,
    "start_time": "2024-12-11T11:24:53.029Z"
   },
   {
    "duration": 14,
    "start_time": "2024-12-11T11:33:23.887Z"
   },
   {
    "duration": 11,
    "start_time": "2024-12-11T11:34:03.239Z"
   },
   {
    "duration": 17,
    "start_time": "2024-12-11T11:37:03.567Z"
   },
   {
    "duration": 408,
    "start_time": "2024-12-11T11:38:02.968Z"
   },
   {
    "duration": 635,
    "start_time": "2024-12-11T11:39:38.509Z"
   },
   {
    "duration": 62,
    "start_time": "2024-12-11T11:39:39.146Z"
   },
   {
    "duration": 16,
    "start_time": "2024-12-11T11:39:39.210Z"
   },
   {
    "duration": 27,
    "start_time": "2024-12-11T11:39:39.229Z"
   },
   {
    "duration": 808,
    "start_time": "2024-12-11T11:39:39.258Z"
   },
   {
    "duration": 18,
    "start_time": "2024-12-11T11:39:40.069Z"
   },
   {
    "duration": 35,
    "start_time": "2024-12-11T11:39:40.090Z"
   },
   {
    "duration": 36,
    "start_time": "2024-12-11T11:39:40.127Z"
   },
   {
    "duration": 36,
    "start_time": "2024-12-11T11:39:40.165Z"
   },
   {
    "duration": 9,
    "start_time": "2024-12-11T11:39:40.205Z"
   },
   {
    "duration": 66,
    "start_time": "2024-12-11T11:39:40.215Z"
   },
   {
    "duration": 43,
    "start_time": "2024-12-11T11:39:40.282Z"
   },
   {
    "duration": 25,
    "start_time": "2024-12-11T11:39:40.327Z"
   },
   {
    "duration": 40,
    "start_time": "2024-12-11T11:39:40.354Z"
   },
   {
    "duration": 24,
    "start_time": "2024-12-11T11:39:40.396Z"
   },
   {
    "duration": 17,
    "start_time": "2024-12-11T11:39:40.422Z"
   },
   {
    "duration": 20,
    "start_time": "2024-12-11T11:39:40.441Z"
   },
   {
    "duration": 416,
    "start_time": "2024-12-11T11:39:40.463Z"
   },
   {
    "duration": 16,
    "start_time": "2024-12-11T11:39:40.881Z"
   },
   {
    "duration": 11,
    "start_time": "2024-12-11T11:39:40.899Z"
   },
   {
    "duration": 21,
    "start_time": "2024-12-11T11:39:40.912Z"
   },
   {
    "duration": 1091,
    "start_time": "2024-12-11T11:39:40.935Z"
   },
   {
    "duration": 345,
    "start_time": "2024-12-11T11:39:42.027Z"
   },
   {
    "duration": 249,
    "start_time": "2024-12-11T11:39:42.374Z"
   },
   {
    "duration": 6,
    "start_time": "2024-12-11T11:39:42.624Z"
   },
   {
    "duration": 439,
    "start_time": "2024-12-11T11:39:42.632Z"
   },
   {
    "duration": 328,
    "start_time": "2024-12-11T11:39:43.073Z"
   },
   {
    "duration": 219,
    "start_time": "2024-12-11T11:39:43.404Z"
   },
   {
    "duration": 278,
    "start_time": "2024-12-11T11:39:43.625Z"
   },
   {
    "duration": 4,
    "start_time": "2024-12-11T11:39:43.904Z"
   },
   {
    "duration": 4,
    "start_time": "2024-12-11T11:39:43.909Z"
   },
   {
    "duration": 5,
    "start_time": "2024-12-11T11:39:43.914Z"
   },
   {
    "duration": 9,
    "start_time": "2024-12-11T11:39:43.921Z"
   },
   {
    "duration": 6,
    "start_time": "2024-12-11T11:39:43.932Z"
   },
   {
    "duration": 7,
    "start_time": "2024-12-11T11:39:43.940Z"
   },
   {
    "duration": 37,
    "start_time": "2024-12-11T11:39:43.949Z"
   },
   {
    "duration": 9,
    "start_time": "2024-12-11T11:39:43.988Z"
   },
   {
    "duration": 5,
    "start_time": "2024-12-11T11:39:43.999Z"
   },
   {
    "duration": 102,
    "start_time": "2024-12-11T11:39:44.005Z"
   },
   {
    "duration": 0,
    "start_time": "2024-12-11T11:39:44.108Z"
   },
   {
    "duration": 0,
    "start_time": "2024-12-11T11:39:44.110Z"
   },
   {
    "duration": 0,
    "start_time": "2024-12-11T11:39:44.111Z"
   },
   {
    "duration": 0,
    "start_time": "2024-12-11T11:39:44.112Z"
   },
   {
    "duration": 0,
    "start_time": "2024-12-11T11:39:44.113Z"
   },
   {
    "duration": 0,
    "start_time": "2024-12-11T11:39:44.115Z"
   },
   {
    "duration": 0,
    "start_time": "2024-12-11T11:39:44.116Z"
   },
   {
    "duration": 0,
    "start_time": "2024-12-11T11:39:44.119Z"
   },
   {
    "duration": 27,
    "start_time": "2024-12-11T11:40:22.553Z"
   },
   {
    "duration": 8,
    "start_time": "2024-12-11T11:41:55.088Z"
   },
   {
    "duration": 8,
    "start_time": "2024-12-11T11:43:50.712Z"
   },
   {
    "duration": 27,
    "start_time": "2024-12-11T11:43:56.522Z"
   },
   {
    "duration": 127,
    "start_time": "2024-12-11T11:43:59.297Z"
   },
   {
    "duration": 12,
    "start_time": "2024-12-11T11:45:11.058Z"
   },
   {
    "duration": 405,
    "start_time": "2024-12-11T11:45:14.297Z"
   },
   {
    "duration": 4,
    "start_time": "2024-12-11T11:46:00.578Z"
   },
   {
    "duration": 4,
    "start_time": "2024-12-11T11:46:05.739Z"
   },
   {
    "duration": 667,
    "start_time": "2024-12-11T11:46:10.978Z"
   },
   {
    "duration": 59,
    "start_time": "2024-12-11T11:46:11.647Z"
   },
   {
    "duration": 16,
    "start_time": "2024-12-11T11:46:11.708Z"
   },
   {
    "duration": 22,
    "start_time": "2024-12-11T11:46:11.727Z"
   },
   {
    "duration": 778,
    "start_time": "2024-12-11T11:46:11.751Z"
   },
   {
    "duration": 16,
    "start_time": "2024-12-11T11:46:12.530Z"
   },
   {
    "duration": 31,
    "start_time": "2024-12-11T11:46:12.548Z"
   },
   {
    "duration": 13,
    "start_time": "2024-12-11T11:46:12.581Z"
   },
   {
    "duration": 29,
    "start_time": "2024-12-11T11:46:12.595Z"
   },
   {
    "duration": 5,
    "start_time": "2024-12-11T11:46:12.626Z"
   },
   {
    "duration": 11,
    "start_time": "2024-12-11T11:46:12.632Z"
   },
   {
    "duration": 88,
    "start_time": "2024-12-11T11:46:12.644Z"
   },
   {
    "duration": 18,
    "start_time": "2024-12-11T11:46:12.733Z"
   },
   {
    "duration": 23,
    "start_time": "2024-12-11T11:46:12.753Z"
   },
   {
    "duration": 12,
    "start_time": "2024-12-11T11:46:12.778Z"
   },
   {
    "duration": 88,
    "start_time": "2024-12-11T11:46:12.791Z"
   },
   {
    "duration": 15,
    "start_time": "2024-12-11T11:46:12.881Z"
   },
   {
    "duration": 387,
    "start_time": "2024-12-11T11:46:12.897Z"
   },
   {
    "duration": 17,
    "start_time": "2024-12-11T11:46:13.286Z"
   },
   {
    "duration": 4,
    "start_time": "2024-12-11T11:46:13.305Z"
   },
   {
    "duration": 5,
    "start_time": "2024-12-11T11:46:13.310Z"
   },
   {
    "duration": 1086,
    "start_time": "2024-12-11T11:46:13.317Z"
   },
   {
    "duration": 355,
    "start_time": "2024-12-11T11:46:14.406Z"
   },
   {
    "duration": 270,
    "start_time": "2024-12-11T11:46:14.764Z"
   },
   {
    "duration": 6,
    "start_time": "2024-12-11T11:46:15.036Z"
   },
   {
    "duration": 446,
    "start_time": "2024-12-11T11:46:15.043Z"
   },
   {
    "duration": 373,
    "start_time": "2024-12-11T11:46:15.491Z"
   },
   {
    "duration": 227,
    "start_time": "2024-12-11T11:46:15.873Z"
   },
   {
    "duration": 274,
    "start_time": "2024-12-11T11:46:16.102Z"
   },
   {
    "duration": 4,
    "start_time": "2024-12-11T11:46:16.379Z"
   },
   {
    "duration": 19,
    "start_time": "2024-12-11T11:46:16.384Z"
   },
   {
    "duration": 9,
    "start_time": "2024-12-11T11:46:16.404Z"
   },
   {
    "duration": 16,
    "start_time": "2024-12-11T11:46:16.415Z"
   },
   {
    "duration": 47,
    "start_time": "2024-12-11T11:46:16.433Z"
   },
   {
    "duration": 86,
    "start_time": "2024-12-11T11:46:16.486Z"
   },
   {
    "duration": 0,
    "start_time": "2024-12-11T11:46:16.573Z"
   },
   {
    "duration": 0,
    "start_time": "2024-12-11T11:46:16.575Z"
   },
   {
    "duration": 0,
    "start_time": "2024-12-11T11:46:16.576Z"
   },
   {
    "duration": 0,
    "start_time": "2024-12-11T11:46:16.577Z"
   },
   {
    "duration": 0,
    "start_time": "2024-12-11T11:46:16.578Z"
   },
   {
    "duration": 14,
    "start_time": "2024-12-11T11:47:31.218Z"
   },
   {
    "duration": 375,
    "start_time": "2024-12-11T11:47:35.003Z"
   },
   {
    "duration": 15,
    "start_time": "2024-12-11T11:48:07.402Z"
   },
   {
    "duration": 29,
    "start_time": "2024-12-11T11:48:19.050Z"
   },
   {
    "duration": 13,
    "start_time": "2024-12-11T11:48:24.242Z"
   },
   {
    "duration": 450,
    "start_time": "2024-12-11T11:48:28.866Z"
   },
   {
    "duration": 15,
    "start_time": "2024-12-11T11:51:48.618Z"
   },
   {
    "duration": 13,
    "start_time": "2024-12-11T11:52:01.003Z"
   },
   {
    "duration": 10,
    "start_time": "2024-12-11T12:35:50.484Z"
   },
   {
    "duration": 126,
    "start_time": "2024-12-11T12:35:52.315Z"
   },
   {
    "duration": 193,
    "start_time": "2024-12-11T12:39:47.566Z"
   },
   {
    "duration": 10,
    "start_time": "2024-12-11T12:46:06.303Z"
   },
   {
    "duration": 197,
    "start_time": "2024-12-11T12:51:02.863Z"
   },
   {
    "duration": 187,
    "start_time": "2024-12-11T12:52:34.215Z"
   },
   {
    "duration": 11,
    "start_time": "2024-12-11T12:54:11.775Z"
   },
   {
    "duration": 675,
    "start_time": "2024-12-11T12:54:18.845Z"
   },
   {
    "duration": 58,
    "start_time": "2024-12-11T12:54:19.522Z"
   },
   {
    "duration": 15,
    "start_time": "2024-12-11T12:54:19.581Z"
   },
   {
    "duration": 17,
    "start_time": "2024-12-11T12:54:19.598Z"
   },
   {
    "duration": 775,
    "start_time": "2024-12-11T12:54:19.617Z"
   },
   {
    "duration": 16,
    "start_time": "2024-12-11T12:54:20.394Z"
   },
   {
    "duration": 14,
    "start_time": "2024-12-11T12:54:20.412Z"
   },
   {
    "duration": 13,
    "start_time": "2024-12-11T12:54:20.428Z"
   },
   {
    "duration": 40,
    "start_time": "2024-12-11T12:54:20.443Z"
   },
   {
    "duration": 6,
    "start_time": "2024-12-11T12:54:20.485Z"
   },
   {
    "duration": 12,
    "start_time": "2024-12-11T12:54:20.492Z"
   },
   {
    "duration": 19,
    "start_time": "2024-12-11T12:54:20.506Z"
   },
   {
    "duration": 5,
    "start_time": "2024-12-11T12:54:20.526Z"
   },
   {
    "duration": 40,
    "start_time": "2024-12-11T12:54:20.532Z"
   },
   {
    "duration": 13,
    "start_time": "2024-12-11T12:54:20.574Z"
   },
   {
    "duration": 46,
    "start_time": "2024-12-11T12:54:20.588Z"
   },
   {
    "duration": 16,
    "start_time": "2024-12-11T12:54:20.635Z"
   },
   {
    "duration": 383,
    "start_time": "2024-12-11T12:54:20.653Z"
   },
   {
    "duration": 16,
    "start_time": "2024-12-11T12:54:21.038Z"
   },
   {
    "duration": 16,
    "start_time": "2024-12-11T12:54:21.055Z"
   },
   {
    "duration": 15,
    "start_time": "2024-12-11T12:54:21.072Z"
   },
   {
    "duration": 1049,
    "start_time": "2024-12-11T12:54:21.089Z"
   },
   {
    "duration": 335,
    "start_time": "2024-12-11T12:54:22.140Z"
   },
   {
    "duration": 256,
    "start_time": "2024-12-11T12:54:22.476Z"
   },
   {
    "duration": 6,
    "start_time": "2024-12-11T12:54:22.734Z"
   },
   {
    "duration": 407,
    "start_time": "2024-12-11T12:54:22.741Z"
   },
   {
    "duration": 330,
    "start_time": "2024-12-11T12:54:23.150Z"
   },
   {
    "duration": 226,
    "start_time": "2024-12-11T12:54:23.484Z"
   },
   {
    "duration": 268,
    "start_time": "2024-12-11T12:54:23.711Z"
   },
   {
    "duration": 4,
    "start_time": "2024-12-11T12:54:23.981Z"
   },
   {
    "duration": 4,
    "start_time": "2024-12-11T12:54:23.986Z"
   },
   {
    "duration": 3,
    "start_time": "2024-12-11T12:54:23.992Z"
   },
   {
    "duration": 16,
    "start_time": "2024-12-11T12:54:23.997Z"
   },
   {
    "duration": 59,
    "start_time": "2024-12-11T12:54:24.014Z"
   },
   {
    "duration": 14,
    "start_time": "2024-12-11T12:54:24.075Z"
   },
   {
    "duration": 413,
    "start_time": "2024-12-11T12:54:24.091Z"
   },
   {
    "duration": 15,
    "start_time": "2024-12-11T12:54:24.506Z"
   },
   {
    "duration": 54,
    "start_time": "2024-12-11T12:54:24.523Z"
   },
   {
    "duration": 13,
    "start_time": "2024-12-11T12:54:24.579Z"
   },
   {
    "duration": 477,
    "start_time": "2024-12-11T12:54:24.594Z"
   },
   {
    "duration": 15,
    "start_time": "2024-12-11T12:54:25.073Z"
   },
   {
    "duration": 198,
    "start_time": "2024-12-11T12:54:25.090Z"
   },
   {
    "duration": 652,
    "start_time": "2024-12-11T13:08:02.912Z"
   },
   {
    "duration": 58,
    "start_time": "2024-12-11T13:08:03.566Z"
   },
   {
    "duration": 18,
    "start_time": "2024-12-11T13:08:03.625Z"
   },
   {
    "duration": 31,
    "start_time": "2024-12-11T13:08:03.645Z"
   },
   {
    "duration": 834,
    "start_time": "2024-12-11T13:08:03.678Z"
   },
   {
    "duration": 18,
    "start_time": "2024-12-11T13:08:04.514Z"
   },
   {
    "duration": 64,
    "start_time": "2024-12-11T13:08:04.533Z"
   },
   {
    "duration": 49,
    "start_time": "2024-12-11T13:08:04.599Z"
   },
   {
    "duration": 30,
    "start_time": "2024-12-11T13:08:04.649Z"
   },
   {
    "duration": 25,
    "start_time": "2024-12-11T13:08:04.681Z"
   },
   {
    "duration": 92,
    "start_time": "2024-12-11T13:08:04.707Z"
   },
   {
    "duration": 56,
    "start_time": "2024-12-11T13:08:04.801Z"
   },
   {
    "duration": 13,
    "start_time": "2024-12-11T13:08:04.858Z"
   },
   {
    "duration": 24,
    "start_time": "2024-12-11T13:08:04.873Z"
   },
   {
    "duration": 28,
    "start_time": "2024-12-11T13:08:04.898Z"
   },
   {
    "duration": 31,
    "start_time": "2024-12-11T13:08:04.927Z"
   },
   {
    "duration": 15,
    "start_time": "2024-12-11T13:08:04.960Z"
   },
   {
    "duration": 477,
    "start_time": "2024-12-11T13:08:04.977Z"
   },
   {
    "duration": 25,
    "start_time": "2024-12-11T13:08:05.456Z"
   },
   {
    "duration": 5,
    "start_time": "2024-12-11T13:08:05.482Z"
   },
   {
    "duration": 11,
    "start_time": "2024-12-11T13:08:05.488Z"
   },
   {
    "duration": 1080,
    "start_time": "2024-12-11T13:08:05.501Z"
   },
   {
    "duration": 340,
    "start_time": "2024-12-11T13:08:06.583Z"
   },
   {
    "duration": 256,
    "start_time": "2024-12-11T13:08:06.924Z"
   },
   {
    "duration": 6,
    "start_time": "2024-12-11T13:08:07.181Z"
   },
   {
    "duration": 414,
    "start_time": "2024-12-11T13:08:07.188Z"
   },
   {
    "duration": 349,
    "start_time": "2024-12-11T13:08:07.603Z"
   },
   {
    "duration": 227,
    "start_time": "2024-12-11T13:08:07.955Z"
   },
   {
    "duration": 281,
    "start_time": "2024-12-11T13:08:08.184Z"
   },
   {
    "duration": 3,
    "start_time": "2024-12-11T13:08:08.467Z"
   },
   {
    "duration": 7,
    "start_time": "2024-12-11T13:08:08.472Z"
   },
   {
    "duration": 7,
    "start_time": "2024-12-11T13:08:08.480Z"
   },
   {
    "duration": 16,
    "start_time": "2024-12-11T13:08:08.488Z"
   },
   {
    "duration": 39,
    "start_time": "2024-12-11T13:08:08.505Z"
   },
   {
    "duration": 29,
    "start_time": "2024-12-11T13:08:08.545Z"
   },
   {
    "duration": 384,
    "start_time": "2024-12-11T13:08:08.576Z"
   },
   {
    "duration": 15,
    "start_time": "2024-12-11T13:08:08.970Z"
   },
   {
    "duration": 142,
    "start_time": "2024-12-11T13:08:08.986Z"
   },
   {
    "duration": 13,
    "start_time": "2024-12-11T13:08:09.130Z"
   },
   {
    "duration": 481,
    "start_time": "2024-12-11T13:08:09.145Z"
   },
   {
    "duration": 14,
    "start_time": "2024-12-11T13:08:09.628Z"
   },
   {
    "duration": 197,
    "start_time": "2024-12-11T13:08:09.644Z"
   },
   {
    "duration": 87,
    "start_time": "2024-12-11T13:08:43.777Z"
   },
   {
    "duration": 77,
    "start_time": "2024-12-11T13:37:57.406Z"
   },
   {
    "duration": 11,
    "start_time": "2024-12-11T13:38:46.286Z"
   },
   {
    "duration": 1135,
    "start_time": "2024-12-11T13:38:55.010Z"
   },
   {
    "duration": 58,
    "start_time": "2024-12-11T13:38:56.147Z"
   },
   {
    "duration": 17,
    "start_time": "2024-12-11T13:38:56.207Z"
   },
   {
    "duration": 18,
    "start_time": "2024-12-11T13:38:56.226Z"
   },
   {
    "duration": 800,
    "start_time": "2024-12-11T13:38:56.246Z"
   },
   {
    "duration": 29,
    "start_time": "2024-12-11T13:38:57.048Z"
   },
   {
    "duration": 15,
    "start_time": "2024-12-11T13:38:57.078Z"
   },
   {
    "duration": 53,
    "start_time": "2024-12-11T13:38:57.094Z"
   },
   {
    "duration": 125,
    "start_time": "2024-12-11T13:38:57.148Z"
   },
   {
    "duration": 5,
    "start_time": "2024-12-11T13:38:57.276Z"
   },
   {
    "duration": 13,
    "start_time": "2024-12-11T13:38:57.283Z"
   },
   {
    "duration": 21,
    "start_time": "2024-12-11T13:38:57.297Z"
   },
   {
    "duration": 6,
    "start_time": "2024-12-11T13:38:57.320Z"
   },
   {
    "duration": 50,
    "start_time": "2024-12-11T13:38:57.327Z"
   },
   {
    "duration": 14,
    "start_time": "2024-12-11T13:38:57.379Z"
   },
   {
    "duration": 14,
    "start_time": "2024-12-11T13:38:57.395Z"
   },
   {
    "duration": 15,
    "start_time": "2024-12-11T13:38:57.411Z"
   },
   {
    "duration": 404,
    "start_time": "2024-12-11T13:38:57.428Z"
   },
   {
    "duration": 17,
    "start_time": "2024-12-11T13:38:57.834Z"
   },
   {
    "duration": 4,
    "start_time": "2024-12-11T13:38:57.853Z"
   },
   {
    "duration": 4,
    "start_time": "2024-12-11T13:38:57.871Z"
   },
   {
    "duration": 1129,
    "start_time": "2024-12-11T13:38:57.876Z"
   },
   {
    "duration": 334,
    "start_time": "2024-12-11T13:38:59.007Z"
   },
   {
    "duration": 252,
    "start_time": "2024-12-11T13:38:59.342Z"
   },
   {
    "duration": 6,
    "start_time": "2024-12-11T13:38:59.595Z"
   },
   {
    "duration": 334,
    "start_time": "2024-12-11T13:38:59.603Z"
   },
   {
    "duration": 365,
    "start_time": "2024-12-11T13:38:59.938Z"
   },
   {
    "duration": 229,
    "start_time": "2024-12-11T13:39:00.306Z"
   },
   {
    "duration": 360,
    "start_time": "2024-12-11T13:39:00.536Z"
   },
   {
    "duration": 3,
    "start_time": "2024-12-11T13:39:00.898Z"
   },
   {
    "duration": 108,
    "start_time": "2024-12-11T13:39:00.903Z"
   },
   {
    "duration": 38,
    "start_time": "2024-12-11T13:39:01.012Z"
   },
   {
    "duration": 26,
    "start_time": "2024-12-11T13:39:01.052Z"
   },
   {
    "duration": 107,
    "start_time": "2024-12-11T13:39:01.080Z"
   },
   {
    "duration": 57,
    "start_time": "2024-12-11T13:39:01.188Z"
   },
   {
    "duration": 373,
    "start_time": "2024-12-11T13:39:01.247Z"
   },
   {
    "duration": 14,
    "start_time": "2024-12-11T13:39:01.622Z"
   },
   {
    "duration": 43,
    "start_time": "2024-12-11T13:39:01.638Z"
   },
   {
    "duration": 12,
    "start_time": "2024-12-11T13:39:01.682Z"
   },
   {
    "duration": 391,
    "start_time": "2024-12-11T13:39:01.696Z"
   },
   {
    "duration": 12,
    "start_time": "2024-12-11T13:39:02.089Z"
   },
   {
    "duration": 210,
    "start_time": "2024-12-11T13:39:02.103Z"
   },
   {
    "duration": 8,
    "start_time": "2024-12-11T13:39:02.315Z"
   },
   {
    "duration": 7,
    "start_time": "2024-12-11T13:45:32.951Z"
   },
   {
    "duration": 8,
    "start_time": "2024-12-11T13:46:58.151Z"
   },
   {
    "duration": 1363,
    "start_time": "2024-12-12T09:23:26.504Z"
   },
   {
    "duration": 109,
    "start_time": "2024-12-12T09:23:27.869Z"
   },
   {
    "duration": 18,
    "start_time": "2024-12-12T09:23:27.980Z"
   },
   {
    "duration": 19,
    "start_time": "2024-12-12T09:23:28.000Z"
   },
   {
    "duration": 792,
    "start_time": "2024-12-12T09:23:28.021Z"
   },
   {
    "duration": 18,
    "start_time": "2024-12-12T09:23:28.815Z"
   },
   {
    "duration": 14,
    "start_time": "2024-12-12T09:23:28.835Z"
   },
   {
    "duration": 10,
    "start_time": "2024-12-12T09:23:28.872Z"
   },
   {
    "duration": 18,
    "start_time": "2024-12-12T09:23:28.884Z"
   },
   {
    "duration": 6,
    "start_time": "2024-12-12T09:23:28.904Z"
   },
   {
    "duration": 18,
    "start_time": "2024-12-12T09:23:28.912Z"
   },
   {
    "duration": 45,
    "start_time": "2024-12-12T09:23:28.931Z"
   },
   {
    "duration": 5,
    "start_time": "2024-12-12T09:23:28.977Z"
   },
   {
    "duration": 15,
    "start_time": "2024-12-12T09:23:28.984Z"
   },
   {
    "duration": 15,
    "start_time": "2024-12-12T09:23:29.000Z"
   },
   {
    "duration": 15,
    "start_time": "2024-12-12T09:23:29.017Z"
   },
   {
    "duration": 49,
    "start_time": "2024-12-12T09:23:29.034Z"
   },
   {
    "duration": 335,
    "start_time": "2024-12-12T09:23:29.084Z"
   },
   {
    "duration": 18,
    "start_time": "2024-12-12T09:23:29.421Z"
   },
   {
    "duration": 4,
    "start_time": "2024-12-12T09:23:29.440Z"
   },
   {
    "duration": 31,
    "start_time": "2024-12-12T09:23:29.446Z"
   },
   {
    "duration": 1150,
    "start_time": "2024-12-12T09:23:29.478Z"
   },
   {
    "duration": 354,
    "start_time": "2024-12-12T09:23:30.629Z"
   },
   {
    "duration": 252,
    "start_time": "2024-12-12T09:23:30.985Z"
   },
   {
    "duration": 6,
    "start_time": "2024-12-12T09:23:31.239Z"
   },
   {
    "duration": 351,
    "start_time": "2024-12-12T09:23:31.247Z"
   },
   {
    "duration": 358,
    "start_time": "2024-12-12T09:23:31.600Z"
   },
   {
    "duration": 221,
    "start_time": "2024-12-12T09:23:31.970Z"
   },
   {
    "duration": 380,
    "start_time": "2024-12-12T09:23:32.193Z"
   },
   {
    "duration": 5,
    "start_time": "2024-12-12T09:23:32.575Z"
   },
   {
    "duration": 54,
    "start_time": "2024-12-12T09:23:32.581Z"
   },
   {
    "duration": 19,
    "start_time": "2024-12-12T09:23:32.636Z"
   },
   {
    "duration": 18,
    "start_time": "2024-12-12T09:23:32.657Z"
   },
   {
    "duration": 30,
    "start_time": "2024-12-12T09:23:32.677Z"
   },
   {
    "duration": 12,
    "start_time": "2024-12-12T09:23:32.709Z"
   },
   {
    "duration": 408,
    "start_time": "2024-12-12T09:23:32.723Z"
   },
   {
    "duration": 15,
    "start_time": "2024-12-12T09:23:33.132Z"
   },
   {
    "duration": 45,
    "start_time": "2024-12-12T09:23:33.148Z"
   },
   {
    "duration": 13,
    "start_time": "2024-12-12T09:23:33.195Z"
   },
   {
    "duration": 425,
    "start_time": "2024-12-12T09:23:33.210Z"
   },
   {
    "duration": 13,
    "start_time": "2024-12-12T09:23:33.637Z"
   },
   {
    "duration": 250,
    "start_time": "2024-12-12T09:23:33.652Z"
   },
   {
    "duration": 9,
    "start_time": "2024-12-12T09:23:33.903Z"
   },
   {
    "duration": 37,
    "start_time": "2024-12-12T09:23:33.914Z"
   },
   {
    "duration": 1270,
    "start_time": "2024-12-12T09:39:45.323Z"
   },
   {
    "duration": 205,
    "start_time": "2024-12-12T09:39:46.595Z"
   },
   {
    "duration": 21,
    "start_time": "2024-12-12T09:39:46.802Z"
   },
   {
    "duration": 26,
    "start_time": "2024-12-12T09:39:46.825Z"
   },
   {
    "duration": 713,
    "start_time": "2024-12-12T09:39:46.854Z"
   },
   {
    "duration": 15,
    "start_time": "2024-12-12T09:39:47.569Z"
   },
   {
    "duration": 14,
    "start_time": "2024-12-12T09:39:47.585Z"
   },
   {
    "duration": 19,
    "start_time": "2024-12-12T09:39:47.600Z"
   },
   {
    "duration": 42,
    "start_time": "2024-12-12T09:39:47.621Z"
   },
   {
    "duration": 6,
    "start_time": "2024-12-12T09:39:47.665Z"
   },
   {
    "duration": 17,
    "start_time": "2024-12-12T09:39:47.672Z"
   },
   {
    "duration": 28,
    "start_time": "2024-12-12T09:39:47.691Z"
   },
   {
    "duration": 28,
    "start_time": "2024-12-12T09:39:47.720Z"
   },
   {
    "duration": 9,
    "start_time": "2024-12-12T09:39:47.751Z"
   },
   {
    "duration": 11,
    "start_time": "2024-12-12T09:39:47.762Z"
   },
   {
    "duration": 13,
    "start_time": "2024-12-12T09:39:47.774Z"
   },
   {
    "duration": 14,
    "start_time": "2024-12-12T09:39:47.789Z"
   },
   {
    "duration": 310,
    "start_time": "2024-12-12T09:39:47.805Z"
   },
   {
    "duration": 16,
    "start_time": "2024-12-12T09:39:48.117Z"
   },
   {
    "duration": 4,
    "start_time": "2024-12-12T09:39:48.146Z"
   },
   {
    "duration": 6,
    "start_time": "2024-12-12T09:39:48.152Z"
   },
   {
    "duration": 979,
    "start_time": "2024-12-12T09:39:48.159Z"
   },
   {
    "duration": 295,
    "start_time": "2024-12-12T09:39:49.139Z"
   },
   {
    "duration": 215,
    "start_time": "2024-12-12T09:39:49.437Z"
   },
   {
    "duration": 6,
    "start_time": "2024-12-12T09:39:49.653Z"
   },
   {
    "duration": 299,
    "start_time": "2024-12-12T09:39:49.660Z"
   },
   {
    "duration": 293,
    "start_time": "2024-12-12T09:39:49.960Z"
   },
   {
    "duration": 209,
    "start_time": "2024-12-12T09:39:50.255Z"
   },
   {
    "duration": 305,
    "start_time": "2024-12-12T09:39:50.466Z"
   },
   {
    "duration": 4,
    "start_time": "2024-12-12T09:39:50.773Z"
   },
   {
    "duration": 10,
    "start_time": "2024-12-12T09:39:50.779Z"
   },
   {
    "duration": 26,
    "start_time": "2024-12-12T09:39:50.791Z"
   },
   {
    "duration": 24,
    "start_time": "2024-12-12T09:39:50.819Z"
   },
   {
    "duration": 58,
    "start_time": "2024-12-12T09:39:50.845Z"
   },
   {
    "duration": 11,
    "start_time": "2024-12-12T09:39:50.905Z"
   },
   {
    "duration": 365,
    "start_time": "2024-12-12T09:39:50.919Z"
   },
   {
    "duration": 14,
    "start_time": "2024-12-12T09:39:51.286Z"
   },
   {
    "duration": 98,
    "start_time": "2024-12-12T09:39:51.301Z"
   },
   {
    "duration": 27,
    "start_time": "2024-12-12T09:39:51.401Z"
   },
   {
    "duration": 490,
    "start_time": "2024-12-12T09:39:51.430Z"
   },
   {
    "duration": 12,
    "start_time": "2024-12-12T09:39:51.924Z"
   },
   {
    "duration": 205,
    "start_time": "2024-12-12T09:39:51.947Z"
   },
   {
    "duration": 7,
    "start_time": "2024-12-12T09:39:52.153Z"
   },
   {
    "duration": 11,
    "start_time": "2024-12-12T09:39:52.162Z"
   },
   {
    "duration": 78,
    "start_time": "2024-12-12T11:38:40.999Z"
   },
   {
    "duration": 24,
    "start_time": "2024-12-12T11:41:43.816Z"
   },
   {
    "duration": 53,
    "start_time": "2024-12-12T12:12:30.792Z"
   },
   {
    "duration": 1331,
    "start_time": "2024-12-12T12:12:40.180Z"
   },
   {
    "duration": 107,
    "start_time": "2024-12-12T12:12:43.292Z"
   },
   {
    "duration": 1279,
    "start_time": "2024-12-12T12:12:49.596Z"
   },
   {
    "duration": 1297,
    "start_time": "2024-12-12T12:14:19.461Z"
   },
   {
    "duration": 1236,
    "start_time": "2024-12-12T12:15:07.442Z"
   },
   {
    "duration": 1315,
    "start_time": "2024-12-12T12:15:22.389Z"
   },
   {
    "duration": 963,
    "start_time": "2024-12-12T12:15:34.829Z"
   },
   {
    "duration": 1683,
    "start_time": "2024-12-12T12:17:04.638Z"
   },
   {
    "duration": 1473,
    "start_time": "2024-12-12T12:17:21.581Z"
   },
   {
    "duration": 981,
    "start_time": "2024-12-12T12:18:00.461Z"
   },
   {
    "duration": 2,
    "start_time": "2024-12-12T12:18:28.973Z"
   },
   {
    "duration": 2,
    "start_time": "2024-12-12T12:18:40.709Z"
   },
   {
    "duration": 1072,
    "start_time": "2024-12-12T12:19:48.258Z"
   },
   {
    "duration": 15,
    "start_time": "2024-12-12T12:29:51.536Z"
   },
   {
    "duration": 13,
    "start_time": "2024-12-12T12:30:04.200Z"
   },
   {
    "duration": 10,
    "start_time": "2024-12-12T12:31:03.377Z"
   },
   {
    "duration": 13,
    "start_time": "2024-12-12T12:31:11.312Z"
   },
   {
    "duration": 81,
    "start_time": "2024-12-12T12:32:40.295Z"
   },
   {
    "duration": 11,
    "start_time": "2024-12-12T12:33:47.681Z"
   },
   {
    "duration": 1199,
    "start_time": "2024-12-12T12:34:17.614Z"
   },
   {
    "duration": 66,
    "start_time": "2024-12-12T12:34:18.815Z"
   },
   {
    "duration": 17,
    "start_time": "2024-12-12T12:34:18.883Z"
   },
   {
    "duration": 28,
    "start_time": "2024-12-12T12:34:18.902Z"
   },
   {
    "duration": 6,
    "start_time": "2024-12-12T12:34:18.932Z"
   },
   {
    "duration": 1018,
    "start_time": "2024-12-12T12:34:18.941Z"
   },
   {
    "duration": 17,
    "start_time": "2024-12-12T12:34:19.960Z"
   },
   {
    "duration": 44,
    "start_time": "2024-12-12T12:34:19.978Z"
   },
   {
    "duration": 74,
    "start_time": "2024-12-12T12:34:20.023Z"
   },
   {
    "duration": 72,
    "start_time": "2024-12-12T12:34:20.100Z"
   },
   {
    "duration": 11,
    "start_time": "2024-12-12T12:34:20.173Z"
   },
   {
    "duration": 34,
    "start_time": "2024-12-12T12:34:20.185Z"
   },
   {
    "duration": 43,
    "start_time": "2024-12-12T12:34:20.222Z"
   },
   {
    "duration": 104,
    "start_time": "2024-12-12T12:34:20.267Z"
   },
   {
    "duration": 48,
    "start_time": "2024-12-12T12:34:20.373Z"
   },
   {
    "duration": 4,
    "start_time": "2024-12-12T12:34:20.423Z"
   },
   {
    "duration": 40,
    "start_time": "2024-12-12T12:34:20.429Z"
   },
   {
    "duration": 25,
    "start_time": "2024-12-12T12:34:20.471Z"
   },
   {
    "duration": 15,
    "start_time": "2024-12-12T12:34:20.498Z"
   },
   {
    "duration": 38,
    "start_time": "2024-12-12T12:34:20.515Z"
   },
   {
    "duration": 100,
    "start_time": "2024-12-12T12:34:20.555Z"
   },
   {
    "duration": 342,
    "start_time": "2024-12-12T12:34:20.656Z"
   },
   {
    "duration": 18,
    "start_time": "2024-12-12T12:34:21.000Z"
   },
   {
    "duration": 28,
    "start_time": "2024-12-12T12:34:21.020Z"
   },
   {
    "duration": 30,
    "start_time": "2024-12-12T12:34:21.050Z"
   },
   {
    "duration": 1144,
    "start_time": "2024-12-12T12:34:21.082Z"
   },
   {
    "duration": 39,
    "start_time": "2024-12-12T12:34:22.228Z"
   },
   {
    "duration": 346,
    "start_time": "2024-12-12T12:34:22.270Z"
   },
   {
    "duration": 276,
    "start_time": "2024-12-12T12:34:22.618Z"
   },
   {
    "duration": 6,
    "start_time": "2024-12-12T12:34:22.896Z"
   },
   {
    "duration": 416,
    "start_time": "2024-12-12T12:34:22.903Z"
   },
   {
    "duration": 466,
    "start_time": "2024-12-12T12:34:23.321Z"
   },
   {
    "duration": 237,
    "start_time": "2024-12-12T12:34:23.788Z"
   },
   {
    "duration": 279,
    "start_time": "2024-12-12T12:34:24.027Z"
   },
   {
    "duration": 3,
    "start_time": "2024-12-12T12:34:24.308Z"
   },
   {
    "duration": 7,
    "start_time": "2024-12-12T12:34:24.313Z"
   },
   {
    "duration": 28,
    "start_time": "2024-12-12T12:34:24.321Z"
   },
   {
    "duration": 14,
    "start_time": "2024-12-12T12:34:24.351Z"
   },
   {
    "duration": 28,
    "start_time": "2024-12-12T12:34:24.366Z"
   },
   {
    "duration": 12,
    "start_time": "2024-12-12T12:34:24.395Z"
   },
   {
    "duration": 414,
    "start_time": "2024-12-12T12:34:24.408Z"
   },
   {
    "duration": 26,
    "start_time": "2024-12-12T12:34:24.824Z"
   },
   {
    "duration": 31,
    "start_time": "2024-12-12T12:34:24.852Z"
   },
   {
    "duration": 13,
    "start_time": "2024-12-12T12:34:24.885Z"
   },
   {
    "duration": 429,
    "start_time": "2024-12-12T12:34:24.900Z"
   },
   {
    "duration": 17,
    "start_time": "2024-12-12T12:34:25.338Z"
   },
   {
    "duration": 209,
    "start_time": "2024-12-12T12:34:25.357Z"
   },
   {
    "duration": 9,
    "start_time": "2024-12-12T12:34:25.568Z"
   },
   {
    "duration": 10,
    "start_time": "2024-12-12T12:34:25.578Z"
   },
   {
    "duration": 11,
    "start_time": "2024-12-12T12:46:21.609Z"
   },
   {
    "duration": 88,
    "start_time": "2024-12-12T12:47:56.968Z"
   },
   {
    "duration": 11,
    "start_time": "2024-12-12T12:51:37.752Z"
   },
   {
    "duration": 12,
    "start_time": "2024-12-12T12:52:22.689Z"
   },
   {
    "duration": 10,
    "start_time": "2024-12-12T12:52:32.001Z"
   },
   {
    "duration": 1274,
    "start_time": "2024-12-12T12:56:00.081Z"
   },
   {
    "duration": 265,
    "start_time": "2024-12-12T13:00:44.314Z"
   },
   {
    "duration": 263,
    "start_time": "2024-12-12T13:01:12.266Z"
   },
   {
    "duration": 426,
    "start_time": "2024-12-12T13:02:50.482Z"
   },
   {
    "duration": 93,
    "start_time": "2024-12-12T13:10:34.516Z"
   },
   {
    "duration": 229,
    "start_time": "2024-12-12T13:18:32.022Z"
   },
   {
    "duration": 84,
    "start_time": "2024-12-12T13:19:48.206Z"
   },
   {
    "duration": 426,
    "start_time": "2024-12-12T13:23:36.904Z"
   },
   {
    "duration": 274,
    "start_time": "2024-12-12T13:24:41.663Z"
   },
   {
    "duration": 112,
    "start_time": "2024-12-12T13:27:50.407Z"
   },
   {
    "duration": 471,
    "start_time": "2024-12-12T13:28:48.377Z"
   },
   {
    "duration": 416,
    "start_time": "2024-12-12T13:29:08.064Z"
   },
   {
    "duration": 110,
    "start_time": "2024-12-12T13:36:38.219Z"
   },
   {
    "duration": 16,
    "start_time": "2024-12-12T13:36:51.675Z"
   },
   {
    "duration": 13,
    "start_time": "2024-12-12T13:38:06.219Z"
   },
   {
    "duration": 130,
    "start_time": "2024-12-12T13:39:16.562Z"
   },
   {
    "duration": 1176,
    "start_time": "2024-12-12T13:39:55.859Z"
   },
   {
    "duration": 55,
    "start_time": "2024-12-12T13:39:57.037Z"
   },
   {
    "duration": 17,
    "start_time": "2024-12-12T13:39:57.093Z"
   },
   {
    "duration": 31,
    "start_time": "2024-12-12T13:39:57.112Z"
   },
   {
    "duration": 4,
    "start_time": "2024-12-12T13:39:57.145Z"
   },
   {
    "duration": 989,
    "start_time": "2024-12-12T13:39:57.150Z"
   },
   {
    "duration": 16,
    "start_time": "2024-12-12T13:39:58.141Z"
   },
   {
    "duration": 24,
    "start_time": "2024-12-12T13:39:58.158Z"
   },
   {
    "duration": 34,
    "start_time": "2024-12-12T13:39:58.184Z"
   },
   {
    "duration": 24,
    "start_time": "2024-12-12T13:39:58.222Z"
   },
   {
    "duration": 14,
    "start_time": "2024-12-12T13:39:58.248Z"
   },
   {
    "duration": 29,
    "start_time": "2024-12-12T13:39:58.264Z"
   },
   {
    "duration": 10,
    "start_time": "2024-12-12T13:39:58.295Z"
   },
   {
    "duration": 25,
    "start_time": "2024-12-12T13:39:58.306Z"
   },
   {
    "duration": 24,
    "start_time": "2024-12-12T13:39:58.333Z"
   },
   {
    "duration": 5,
    "start_time": "2024-12-12T13:39:58.359Z"
   },
   {
    "duration": 12,
    "start_time": "2024-12-12T13:39:58.365Z"
   },
   {
    "duration": 14,
    "start_time": "2024-12-12T13:39:58.378Z"
   },
   {
    "duration": 15,
    "start_time": "2024-12-12T13:39:58.393Z"
   },
   {
    "duration": 30,
    "start_time": "2024-12-12T13:39:58.409Z"
   },
   {
    "duration": 17,
    "start_time": "2024-12-12T13:39:58.440Z"
   },
   {
    "duration": 127,
    "start_time": "2024-12-12T13:39:58.459Z"
   },
   {
    "duration": 322,
    "start_time": "2024-12-12T13:39:58.588Z"
   },
   {
    "duration": 30,
    "start_time": "2024-12-12T13:39:58.912Z"
   },
   {
    "duration": 272,
    "start_time": "2024-12-12T13:39:58.944Z"
   },
   {
    "duration": 5,
    "start_time": "2024-12-12T13:39:59.218Z"
   },
   {
    "duration": 14,
    "start_time": "2024-12-12T13:39:59.238Z"
   },
   {
    "duration": 1116,
    "start_time": "2024-12-12T13:39:59.256Z"
   },
   {
    "duration": 27,
    "start_time": "2024-12-12T13:40:00.373Z"
   },
   {
    "duration": 352,
    "start_time": "2024-12-12T13:40:00.402Z"
   },
   {
    "duration": 252,
    "start_time": "2024-12-12T13:40:00.756Z"
   },
   {
    "duration": 334,
    "start_time": "2024-12-12T13:40:01.010Z"
   },
   {
    "duration": 5,
    "start_time": "2024-12-12T13:40:01.346Z"
   },
   {
    "duration": 1333,
    "start_time": "2024-12-12T13:40:01.353Z"
   },
   {
    "duration": 0,
    "start_time": "2024-12-12T13:40:02.688Z"
   },
   {
    "duration": 0,
    "start_time": "2024-12-12T13:40:02.689Z"
   },
   {
    "duration": 0,
    "start_time": "2024-12-12T13:40:02.690Z"
   },
   {
    "duration": 0,
    "start_time": "2024-12-12T13:40:02.691Z"
   },
   {
    "duration": 0,
    "start_time": "2024-12-12T13:40:02.692Z"
   },
   {
    "duration": 0,
    "start_time": "2024-12-12T13:40:02.693Z"
   },
   {
    "duration": 0,
    "start_time": "2024-12-12T13:40:02.694Z"
   },
   {
    "duration": 0,
    "start_time": "2024-12-12T13:40:02.695Z"
   },
   {
    "duration": 0,
    "start_time": "2024-12-12T13:40:02.696Z"
   },
   {
    "duration": 0,
    "start_time": "2024-12-12T13:40:02.698Z"
   },
   {
    "duration": 0,
    "start_time": "2024-12-12T13:40:02.698Z"
   },
   {
    "duration": 0,
    "start_time": "2024-12-12T13:40:02.700Z"
   },
   {
    "duration": 0,
    "start_time": "2024-12-12T13:40:02.701Z"
   },
   {
    "duration": 0,
    "start_time": "2024-12-12T13:40:02.702Z"
   },
   {
    "duration": 0,
    "start_time": "2024-12-12T13:40:02.703Z"
   },
   {
    "duration": 0,
    "start_time": "2024-12-12T13:40:02.704Z"
   },
   {
    "duration": 0,
    "start_time": "2024-12-12T13:40:02.705Z"
   },
   {
    "duration": 0,
    "start_time": "2024-12-12T13:40:02.706Z"
   },
   {
    "duration": 0,
    "start_time": "2024-12-12T13:40:02.707Z"
   },
   {
    "duration": 1204,
    "start_time": "2024-12-12T13:42:10.491Z"
   },
   {
    "duration": 9,
    "start_time": "2024-12-12T13:43:16.900Z"
   },
   {
    "duration": 5,
    "start_time": "2024-12-12T13:43:20.315Z"
   },
   {
    "duration": 1519,
    "start_time": "2024-12-12T13:43:21.547Z"
   },
   {
    "duration": 1308,
    "start_time": "2024-12-12T13:46:35.203Z"
   },
   {
    "duration": 55,
    "start_time": "2024-12-12T13:46:36.513Z"
   },
   {
    "duration": 28,
    "start_time": "2024-12-12T13:46:36.570Z"
   },
   {
    "duration": 24,
    "start_time": "2024-12-12T13:46:36.600Z"
   },
   {
    "duration": 15,
    "start_time": "2024-12-12T13:46:36.626Z"
   },
   {
    "duration": 1016,
    "start_time": "2024-12-12T13:46:36.643Z"
   },
   {
    "duration": 15,
    "start_time": "2024-12-12T13:46:37.661Z"
   },
   {
    "duration": 9,
    "start_time": "2024-12-12T13:46:37.678Z"
   },
   {
    "duration": 24,
    "start_time": "2024-12-12T13:46:37.689Z"
   },
   {
    "duration": 34,
    "start_time": "2024-12-12T13:46:37.716Z"
   },
   {
    "duration": 15,
    "start_time": "2024-12-12T13:46:37.752Z"
   },
   {
    "duration": 26,
    "start_time": "2024-12-12T13:46:37.769Z"
   },
   {
    "duration": 13,
    "start_time": "2024-12-12T13:46:37.797Z"
   },
   {
    "duration": 47,
    "start_time": "2024-12-12T13:46:37.812Z"
   },
   {
    "duration": 14,
    "start_time": "2024-12-12T13:46:37.860Z"
   },
   {
    "duration": 5,
    "start_time": "2024-12-12T13:46:37.876Z"
   },
   {
    "duration": 13,
    "start_time": "2024-12-12T13:46:37.882Z"
   },
   {
    "duration": 26,
    "start_time": "2024-12-12T13:46:37.897Z"
   },
   {
    "duration": 15,
    "start_time": "2024-12-12T13:46:37.925Z"
   },
   {
    "duration": 17,
    "start_time": "2024-12-12T13:46:37.942Z"
   },
   {
    "duration": 15,
    "start_time": "2024-12-12T13:46:37.961Z"
   },
   {
    "duration": 187,
    "start_time": "2024-12-12T13:46:37.978Z"
   },
   {
    "duration": 0,
    "start_time": "2024-12-12T13:46:38.168Z"
   },
   {
    "duration": 0,
    "start_time": "2024-12-12T13:46:38.169Z"
   },
   {
    "duration": 0,
    "start_time": "2024-12-12T13:46:38.170Z"
   },
   {
    "duration": 0,
    "start_time": "2024-12-12T13:46:38.171Z"
   },
   {
    "duration": 0,
    "start_time": "2024-12-12T13:46:38.172Z"
   },
   {
    "duration": 0,
    "start_time": "2024-12-12T13:46:38.173Z"
   },
   {
    "duration": 0,
    "start_time": "2024-12-12T13:46:38.174Z"
   },
   {
    "duration": 0,
    "start_time": "2024-12-12T13:46:38.175Z"
   },
   {
    "duration": 0,
    "start_time": "2024-12-12T13:46:38.176Z"
   },
   {
    "duration": 0,
    "start_time": "2024-12-12T13:46:38.177Z"
   },
   {
    "duration": 0,
    "start_time": "2024-12-12T13:46:38.179Z"
   },
   {
    "duration": 0,
    "start_time": "2024-12-12T13:46:38.179Z"
   },
   {
    "duration": 0,
    "start_time": "2024-12-12T13:46:38.181Z"
   },
   {
    "duration": 0,
    "start_time": "2024-12-12T13:46:38.182Z"
   },
   {
    "duration": 0,
    "start_time": "2024-12-12T13:46:38.183Z"
   },
   {
    "duration": 0,
    "start_time": "2024-12-12T13:46:38.184Z"
   },
   {
    "duration": 0,
    "start_time": "2024-12-12T13:46:38.185Z"
   },
   {
    "duration": 0,
    "start_time": "2024-12-12T13:46:38.186Z"
   },
   {
    "duration": 0,
    "start_time": "2024-12-12T13:46:38.187Z"
   },
   {
    "duration": 0,
    "start_time": "2024-12-12T13:46:38.188Z"
   },
   {
    "duration": 0,
    "start_time": "2024-12-12T13:46:38.189Z"
   },
   {
    "duration": 0,
    "start_time": "2024-12-12T13:46:38.238Z"
   },
   {
    "duration": 0,
    "start_time": "2024-12-12T13:46:38.239Z"
   },
   {
    "duration": 1,
    "start_time": "2024-12-12T13:46:38.241Z"
   },
   {
    "duration": 0,
    "start_time": "2024-12-12T13:46:38.243Z"
   },
   {
    "duration": 0,
    "start_time": "2024-12-12T13:46:38.245Z"
   },
   {
    "duration": 0,
    "start_time": "2024-12-12T13:46:38.246Z"
   },
   {
    "duration": 0,
    "start_time": "2024-12-12T13:46:38.247Z"
   },
   {
    "duration": 0,
    "start_time": "2024-12-12T13:46:38.248Z"
   },
   {
    "duration": 0,
    "start_time": "2024-12-12T13:46:38.249Z"
   },
   {
    "duration": 0,
    "start_time": "2024-12-12T13:46:38.251Z"
   },
   {
    "duration": 0,
    "start_time": "2024-12-12T13:46:38.252Z"
   },
   {
    "duration": 4,
    "start_time": "2024-12-12T13:47:55.791Z"
   },
   {
    "duration": 1388,
    "start_time": "2024-12-12T13:48:04.725Z"
   },
   {
    "duration": 55,
    "start_time": "2024-12-12T13:48:06.115Z"
   },
   {
    "duration": 16,
    "start_time": "2024-12-12T13:48:06.172Z"
   },
   {
    "duration": 32,
    "start_time": "2024-12-12T13:48:06.190Z"
   },
   {
    "duration": 41,
    "start_time": "2024-12-12T13:48:06.224Z"
   },
   {
    "duration": 1007,
    "start_time": "2024-12-12T13:48:06.266Z"
   },
   {
    "duration": 16,
    "start_time": "2024-12-12T13:48:07.274Z"
   },
   {
    "duration": 68,
    "start_time": "2024-12-12T13:48:07.292Z"
   },
   {
    "duration": 45,
    "start_time": "2024-12-12T13:48:07.362Z"
   },
   {
    "duration": 28,
    "start_time": "2024-12-12T13:48:07.409Z"
   },
   {
    "duration": 27,
    "start_time": "2024-12-12T13:48:07.439Z"
   },
   {
    "duration": 37,
    "start_time": "2024-12-12T13:48:07.468Z"
   },
   {
    "duration": 8,
    "start_time": "2024-12-12T13:48:07.506Z"
   },
   {
    "duration": 44,
    "start_time": "2024-12-12T13:48:07.516Z"
   },
   {
    "duration": 11,
    "start_time": "2024-12-12T13:48:07.562Z"
   },
   {
    "duration": 9,
    "start_time": "2024-12-12T13:48:07.575Z"
   },
   {
    "duration": 27,
    "start_time": "2024-12-12T13:48:07.586Z"
   },
   {
    "duration": 30,
    "start_time": "2024-12-12T13:48:07.615Z"
   },
   {
    "duration": 16,
    "start_time": "2024-12-12T13:48:07.647Z"
   },
   {
    "duration": 17,
    "start_time": "2024-12-12T13:48:07.664Z"
   },
   {
    "duration": 16,
    "start_time": "2024-12-12T13:48:07.682Z"
   },
   {
    "duration": 4,
    "start_time": "2024-12-12T13:48:07.700Z"
   },
   {
    "duration": 341,
    "start_time": "2024-12-12T13:48:07.705Z"
   },
   {
    "duration": 17,
    "start_time": "2024-12-12T13:48:08.048Z"
   },
   {
    "duration": 316,
    "start_time": "2024-12-12T13:48:08.067Z"
   },
   {
    "duration": 4,
    "start_time": "2024-12-12T13:48:08.384Z"
   },
   {
    "duration": 6,
    "start_time": "2024-12-12T13:48:08.390Z"
   },
   {
    "duration": 1083,
    "start_time": "2024-12-12T13:48:08.400Z"
   },
   {
    "duration": 25,
    "start_time": "2024-12-12T13:48:09.484Z"
   },
   {
    "duration": 341,
    "start_time": "2024-12-12T13:48:09.510Z"
   },
   {
    "duration": 253,
    "start_time": "2024-12-12T13:48:09.852Z"
   },
   {
    "duration": 331,
    "start_time": "2024-12-12T13:48:10.106Z"
   },
   {
    "duration": 6,
    "start_time": "2024-12-12T13:48:10.439Z"
   },
   {
    "duration": 10,
    "start_time": "2024-12-12T13:48:10.446Z"
   },
   {
    "duration": 1232,
    "start_time": "2024-12-12T13:48:10.458Z"
   },
   {
    "duration": 0,
    "start_time": "2024-12-12T13:48:11.692Z"
   },
   {
    "duration": 0,
    "start_time": "2024-12-12T13:48:11.693Z"
   },
   {
    "duration": 0,
    "start_time": "2024-12-12T13:48:11.694Z"
   },
   {
    "duration": 0,
    "start_time": "2024-12-12T13:48:11.695Z"
   },
   {
    "duration": 0,
    "start_time": "2024-12-12T13:48:11.696Z"
   },
   {
    "duration": 0,
    "start_time": "2024-12-12T13:48:11.697Z"
   },
   {
    "duration": 0,
    "start_time": "2024-12-12T13:48:11.698Z"
   },
   {
    "duration": 0,
    "start_time": "2024-12-12T13:48:11.699Z"
   },
   {
    "duration": 0,
    "start_time": "2024-12-12T13:48:11.701Z"
   },
   {
    "duration": 0,
    "start_time": "2024-12-12T13:48:11.702Z"
   },
   {
    "duration": 0,
    "start_time": "2024-12-12T13:48:11.703Z"
   },
   {
    "duration": 0,
    "start_time": "2024-12-12T13:48:11.704Z"
   },
   {
    "duration": 0,
    "start_time": "2024-12-12T13:48:11.705Z"
   },
   {
    "duration": 0,
    "start_time": "2024-12-12T13:48:11.706Z"
   },
   {
    "duration": 0,
    "start_time": "2024-12-12T13:48:11.707Z"
   },
   {
    "duration": 0,
    "start_time": "2024-12-12T13:48:11.708Z"
   },
   {
    "duration": 0,
    "start_time": "2024-12-12T13:48:11.709Z"
   },
   {
    "duration": 0,
    "start_time": "2024-12-12T13:48:11.710Z"
   },
   {
    "duration": 0,
    "start_time": "2024-12-12T13:48:11.711Z"
   },
   {
    "duration": 1279,
    "start_time": "2024-12-13T08:40:19.273Z"
   },
   {
    "duration": 198,
    "start_time": "2024-12-13T08:40:20.554Z"
   },
   {
    "duration": 16,
    "start_time": "2024-12-13T08:40:20.754Z"
   },
   {
    "duration": 16,
    "start_time": "2024-12-13T08:40:20.772Z"
   },
   {
    "duration": 7,
    "start_time": "2024-12-13T08:40:20.790Z"
   },
   {
    "duration": 884,
    "start_time": "2024-12-13T08:40:20.799Z"
   },
   {
    "duration": 16,
    "start_time": "2024-12-13T08:40:21.685Z"
   },
   {
    "duration": 9,
    "start_time": "2024-12-13T08:40:21.703Z"
   },
   {
    "duration": 13,
    "start_time": "2024-12-13T08:40:21.714Z"
   },
   {
    "duration": 13,
    "start_time": "2024-12-13T08:40:21.730Z"
   },
   {
    "duration": 7,
    "start_time": "2024-12-13T08:40:21.745Z"
   },
   {
    "duration": 46,
    "start_time": "2024-12-13T08:40:21.753Z"
   },
   {
    "duration": 6,
    "start_time": "2024-12-13T08:40:21.801Z"
   },
   {
    "duration": 14,
    "start_time": "2024-12-13T08:40:21.809Z"
   },
   {
    "duration": 4,
    "start_time": "2024-12-13T08:40:21.825Z"
   },
   {
    "duration": 11,
    "start_time": "2024-12-13T08:40:21.830Z"
   },
   {
    "duration": 12,
    "start_time": "2024-12-13T08:40:21.843Z"
   },
   {
    "duration": 34,
    "start_time": "2024-12-13T08:40:21.856Z"
   },
   {
    "duration": 103,
    "start_time": "2024-12-13T08:40:21.892Z"
   },
   {
    "duration": 0,
    "start_time": "2024-12-13T08:40:21.998Z"
   },
   {
    "duration": 0,
    "start_time": "2024-12-13T08:40:21.999Z"
   },
   {
    "duration": 0,
    "start_time": "2024-12-13T08:40:22.000Z"
   },
   {
    "duration": 0,
    "start_time": "2024-12-13T08:40:22.002Z"
   },
   {
    "duration": 0,
    "start_time": "2024-12-13T08:40:22.003Z"
   },
   {
    "duration": 0,
    "start_time": "2024-12-13T08:40:22.004Z"
   },
   {
    "duration": 0,
    "start_time": "2024-12-13T08:40:22.005Z"
   },
   {
    "duration": 0,
    "start_time": "2024-12-13T08:40:22.006Z"
   },
   {
    "duration": 0,
    "start_time": "2024-12-13T08:40:22.007Z"
   },
   {
    "duration": 0,
    "start_time": "2024-12-13T08:40:22.008Z"
   },
   {
    "duration": 0,
    "start_time": "2024-12-13T08:40:22.010Z"
   },
   {
    "duration": 0,
    "start_time": "2024-12-13T08:40:22.011Z"
   },
   {
    "duration": 0,
    "start_time": "2024-12-13T08:40:22.012Z"
   },
   {
    "duration": 0,
    "start_time": "2024-12-13T08:40:22.013Z"
   },
   {
    "duration": 0,
    "start_time": "2024-12-13T08:40:22.015Z"
   },
   {
    "duration": 0,
    "start_time": "2024-12-13T08:40:22.016Z"
   },
   {
    "duration": 0,
    "start_time": "2024-12-13T08:40:22.017Z"
   },
   {
    "duration": 0,
    "start_time": "2024-12-13T08:40:22.018Z"
   },
   {
    "duration": 0,
    "start_time": "2024-12-13T08:40:22.019Z"
   },
   {
    "duration": 0,
    "start_time": "2024-12-13T08:40:22.020Z"
   },
   {
    "duration": 0,
    "start_time": "2024-12-13T08:40:22.021Z"
   },
   {
    "duration": 0,
    "start_time": "2024-12-13T08:40:22.022Z"
   },
   {
    "duration": 0,
    "start_time": "2024-12-13T08:40:22.023Z"
   },
   {
    "duration": 0,
    "start_time": "2024-12-13T08:40:22.023Z"
   },
   {
    "duration": 0,
    "start_time": "2024-12-13T08:40:22.024Z"
   },
   {
    "duration": 0,
    "start_time": "2024-12-13T08:40:22.025Z"
   },
   {
    "duration": 0,
    "start_time": "2024-12-13T08:40:22.026Z"
   },
   {
    "duration": 0,
    "start_time": "2024-12-13T08:40:22.027Z"
   },
   {
    "duration": 0,
    "start_time": "2024-12-13T08:40:22.028Z"
   },
   {
    "duration": 0,
    "start_time": "2024-12-13T08:40:22.029Z"
   },
   {
    "duration": 0,
    "start_time": "2024-12-13T08:40:22.030Z"
   },
   {
    "duration": 0,
    "start_time": "2024-12-13T08:40:22.030Z"
   },
   {
    "duration": 0,
    "start_time": "2024-12-13T08:40:22.090Z"
   },
   {
    "duration": 0,
    "start_time": "2024-12-13T08:40:22.091Z"
   },
   {
    "duration": 15,
    "start_time": "2024-12-13T08:44:27.416Z"
   },
   {
    "duration": 45,
    "start_time": "2024-12-13T08:45:52.543Z"
   },
   {
    "duration": 1122,
    "start_time": "2024-12-13T08:46:30.779Z"
   },
   {
    "duration": 54,
    "start_time": "2024-12-13T08:46:31.904Z"
   },
   {
    "duration": 15,
    "start_time": "2024-12-13T08:46:31.960Z"
   },
   {
    "duration": 16,
    "start_time": "2024-12-13T08:46:31.976Z"
   },
   {
    "duration": 6,
    "start_time": "2024-12-13T08:46:31.994Z"
   },
   {
    "duration": 905,
    "start_time": "2024-12-13T08:46:32.002Z"
   },
   {
    "duration": 16,
    "start_time": "2024-12-13T08:46:32.909Z"
   },
   {
    "duration": 11,
    "start_time": "2024-12-13T08:46:32.926Z"
   },
   {
    "duration": 47,
    "start_time": "2024-12-13T08:46:32.938Z"
   },
   {
    "duration": 36,
    "start_time": "2024-12-13T08:46:32.988Z"
   },
   {
    "duration": 11,
    "start_time": "2024-12-13T08:46:33.026Z"
   },
   {
    "duration": 27,
    "start_time": "2024-12-13T08:46:33.038Z"
   },
   {
    "duration": 5,
    "start_time": "2024-12-13T08:46:33.067Z"
   },
   {
    "duration": 33,
    "start_time": "2024-12-13T08:46:33.073Z"
   },
   {
    "duration": 6,
    "start_time": "2024-12-13T08:46:33.107Z"
   },
   {
    "duration": 50,
    "start_time": "2024-12-13T08:46:33.114Z"
   },
   {
    "duration": 44,
    "start_time": "2024-12-13T08:46:33.165Z"
   },
   {
    "duration": 32,
    "start_time": "2024-12-13T08:46:33.211Z"
   },
   {
    "duration": 65,
    "start_time": "2024-12-13T08:46:33.245Z"
   },
   {
    "duration": 24,
    "start_time": "2024-12-13T08:46:33.312Z"
   },
   {
    "duration": 9,
    "start_time": "2024-12-13T08:46:33.337Z"
   },
   {
    "duration": 355,
    "start_time": "2024-12-13T08:46:33.347Z"
   },
   {
    "duration": 17,
    "start_time": "2024-12-13T08:46:33.704Z"
   },
   {
    "duration": 284,
    "start_time": "2024-12-13T08:46:33.722Z"
   },
   {
    "duration": 5,
    "start_time": "2024-12-13T08:46:34.008Z"
   },
   {
    "duration": 16,
    "start_time": "2024-12-13T08:46:34.014Z"
   },
   {
    "duration": 1047,
    "start_time": "2024-12-13T08:46:34.032Z"
   },
   {
    "duration": 29,
    "start_time": "2024-12-13T08:46:35.086Z"
   },
   {
    "duration": 323,
    "start_time": "2024-12-13T08:46:35.117Z"
   },
   {
    "duration": 249,
    "start_time": "2024-12-13T08:46:35.442Z"
   },
   {
    "duration": 293,
    "start_time": "2024-12-13T08:46:35.693Z"
   },
   {
    "duration": 7,
    "start_time": "2024-12-13T08:46:35.988Z"
   },
   {
    "duration": 56,
    "start_time": "2024-12-13T08:46:35.998Z"
   },
   {
    "duration": 610,
    "start_time": "2024-12-13T08:46:36.056Z"
   },
   {
    "duration": 0,
    "start_time": "2024-12-13T08:46:36.668Z"
   },
   {
    "duration": 0,
    "start_time": "2024-12-13T08:46:36.669Z"
   },
   {
    "duration": 0,
    "start_time": "2024-12-13T08:46:36.670Z"
   },
   {
    "duration": 0,
    "start_time": "2024-12-13T08:46:36.671Z"
   },
   {
    "duration": 0,
    "start_time": "2024-12-13T08:46:36.672Z"
   },
   {
    "duration": 0,
    "start_time": "2024-12-13T08:46:36.673Z"
   },
   {
    "duration": 0,
    "start_time": "2024-12-13T08:46:36.674Z"
   },
   {
    "duration": 0,
    "start_time": "2024-12-13T08:46:36.675Z"
   },
   {
    "duration": 0,
    "start_time": "2024-12-13T08:46:36.676Z"
   },
   {
    "duration": 0,
    "start_time": "2024-12-13T08:46:36.677Z"
   },
   {
    "duration": 0,
    "start_time": "2024-12-13T08:46:36.678Z"
   },
   {
    "duration": 0,
    "start_time": "2024-12-13T08:46:36.679Z"
   },
   {
    "duration": 0,
    "start_time": "2024-12-13T08:46:36.680Z"
   },
   {
    "duration": 0,
    "start_time": "2024-12-13T08:46:36.681Z"
   },
   {
    "duration": 0,
    "start_time": "2024-12-13T08:46:36.682Z"
   },
   {
    "duration": 0,
    "start_time": "2024-12-13T08:46:36.683Z"
   },
   {
    "duration": 0,
    "start_time": "2024-12-13T08:46:36.684Z"
   },
   {
    "duration": 0,
    "start_time": "2024-12-13T08:46:36.685Z"
   },
   {
    "duration": 0,
    "start_time": "2024-12-13T08:46:36.686Z"
   },
   {
    "duration": 704,
    "start_time": "2024-12-13T08:49:12.320Z"
   },
   {
    "duration": 8,
    "start_time": "2024-12-13T08:50:43.248Z"
   },
   {
    "duration": 4,
    "start_time": "2024-12-13T08:50:50.032Z"
   },
   {
    "duration": 992,
    "start_time": "2024-12-13T08:50:51.901Z"
   },
   {
    "duration": 503,
    "start_time": "2024-12-13T08:51:02.513Z"
   },
   {
    "duration": 689,
    "start_time": "2024-12-13T08:51:46.177Z"
   },
   {
    "duration": 435,
    "start_time": "2024-12-13T08:53:36.554Z"
   },
   {
    "duration": 6,
    "start_time": "2024-12-13T08:57:36.707Z"
   },
   {
    "duration": 5,
    "start_time": "2024-12-13T08:58:13.842Z"
   },
   {
    "duration": 972,
    "start_time": "2024-12-13T08:58:24.394Z"
   },
   {
    "duration": 5,
    "start_time": "2024-12-13T08:58:56.217Z"
   },
   {
    "duration": 955,
    "start_time": "2024-12-13T08:59:00.913Z"
   },
   {
    "duration": 6,
    "start_time": "2024-12-13T09:05:38.010Z"
   },
   {
    "duration": 5,
    "start_time": "2024-12-13T09:05:47.227Z"
   },
   {
    "duration": 923,
    "start_time": "2024-12-13T09:05:48.939Z"
   },
   {
    "duration": 13,
    "start_time": "2024-12-13T09:07:07.595Z"
   },
   {
    "duration": 12,
    "start_time": "2024-12-13T09:07:20.859Z"
   },
   {
    "duration": 6,
    "start_time": "2024-12-13T09:15:40.997Z"
   },
   {
    "duration": 900,
    "start_time": "2024-12-13T09:15:43.797Z"
   },
   {
    "duration": 8,
    "start_time": "2024-12-13T09:18:52.213Z"
   },
   {
    "duration": 12,
    "start_time": "2024-12-13T09:19:09.253Z"
   },
   {
    "duration": 16,
    "start_time": "2024-12-13T09:22:26.414Z"
   },
   {
    "duration": 13,
    "start_time": "2024-12-13T09:25:02.191Z"
   },
   {
    "duration": 15,
    "start_time": "2024-12-13T09:25:26.214Z"
   },
   {
    "duration": 6,
    "start_time": "2024-12-13T09:28:12.304Z"
   },
   {
    "duration": 181,
    "start_time": "2024-12-13T09:28:18.871Z"
   },
   {
    "duration": 1280,
    "start_time": "2024-12-13T09:29:16.668Z"
   },
   {
    "duration": 54,
    "start_time": "2024-12-13T09:29:17.949Z"
   },
   {
    "duration": 14,
    "start_time": "2024-12-13T09:29:18.005Z"
   },
   {
    "duration": 32,
    "start_time": "2024-12-13T09:29:18.021Z"
   },
   {
    "duration": 4,
    "start_time": "2024-12-13T09:29:18.054Z"
   },
   {
    "duration": 873,
    "start_time": "2024-12-13T09:29:18.059Z"
   },
   {
    "duration": 14,
    "start_time": "2024-12-13T09:29:18.933Z"
   },
   {
    "duration": 15,
    "start_time": "2024-12-13T09:29:18.948Z"
   },
   {
    "duration": 29,
    "start_time": "2024-12-13T09:29:18.965Z"
   },
   {
    "duration": 15,
    "start_time": "2024-12-13T09:29:18.996Z"
   },
   {
    "duration": 8,
    "start_time": "2024-12-13T09:29:19.012Z"
   },
   {
    "duration": 15,
    "start_time": "2024-12-13T09:29:19.022Z"
   },
   {
    "duration": 4,
    "start_time": "2024-12-13T09:29:19.039Z"
   },
   {
    "duration": 46,
    "start_time": "2024-12-13T09:29:19.045Z"
   },
   {
    "duration": 20,
    "start_time": "2024-12-13T09:29:19.093Z"
   },
   {
    "duration": 5,
    "start_time": "2024-12-13T09:29:19.115Z"
   },
   {
    "duration": 5,
    "start_time": "2024-12-13T09:29:19.122Z"
   },
   {
    "duration": 10,
    "start_time": "2024-12-13T09:29:19.129Z"
   },
   {
    "duration": 12,
    "start_time": "2024-12-13T09:29:19.140Z"
   },
   {
    "duration": 48,
    "start_time": "2024-12-13T09:29:19.153Z"
   },
   {
    "duration": 13,
    "start_time": "2024-12-13T09:29:19.203Z"
   },
   {
    "duration": 21,
    "start_time": "2024-12-13T09:29:19.217Z"
   },
   {
    "duration": 316,
    "start_time": "2024-12-13T09:29:19.239Z"
   },
   {
    "duration": 15,
    "start_time": "2024-12-13T09:29:19.557Z"
   },
   {
    "duration": 254,
    "start_time": "2024-12-13T09:29:19.573Z"
   },
   {
    "duration": 3,
    "start_time": "2024-12-13T09:29:19.829Z"
   },
   {
    "duration": 18,
    "start_time": "2024-12-13T09:29:19.833Z"
   },
   {
    "duration": 966,
    "start_time": "2024-12-13T09:29:19.854Z"
   },
   {
    "duration": 22,
    "start_time": "2024-12-13T09:29:20.822Z"
   },
   {
    "duration": 308,
    "start_time": "2024-12-13T09:29:20.846Z"
   },
   {
    "duration": 230,
    "start_time": "2024-12-13T09:29:21.156Z"
   },
   {
    "duration": 316,
    "start_time": "2024-12-13T09:29:21.388Z"
   },
   {
    "duration": 7,
    "start_time": "2024-12-13T09:29:21.706Z"
   },
   {
    "duration": 307,
    "start_time": "2024-12-13T09:29:21.715Z"
   },
   {
    "duration": 290,
    "start_time": "2024-12-13T09:29:22.024Z"
   },
   {
    "duration": 273,
    "start_time": "2024-12-13T09:29:22.316Z"
   },
   {
    "duration": 198,
    "start_time": "2024-12-13T09:29:22.590Z"
   },
   {
    "duration": 250,
    "start_time": "2024-12-13T09:29:22.790Z"
   },
   {
    "duration": 3,
    "start_time": "2024-12-13T09:29:23.041Z"
   },
   {
    "duration": 5,
    "start_time": "2024-12-13T09:29:23.046Z"
   },
   {
    "duration": 20,
    "start_time": "2024-12-13T09:29:23.052Z"
   },
   {
    "duration": 20,
    "start_time": "2024-12-13T09:29:23.074Z"
   },
   {
    "duration": 32,
    "start_time": "2024-12-13T09:29:23.096Z"
   },
   {
    "duration": 13,
    "start_time": "2024-12-13T09:29:23.130Z"
   },
   {
    "duration": 363,
    "start_time": "2024-12-13T09:29:23.145Z"
   },
   {
    "duration": 13,
    "start_time": "2024-12-13T09:29:23.510Z"
   },
   {
    "duration": 25,
    "start_time": "2024-12-13T09:29:23.524Z"
   },
   {
    "duration": 115,
    "start_time": "2024-12-13T09:29:23.551Z"
   },
   {
    "duration": 370,
    "start_time": "2024-12-13T09:29:23.667Z"
   },
   {
    "duration": 12,
    "start_time": "2024-12-13T09:29:24.038Z"
   },
   {
    "duration": 184,
    "start_time": "2024-12-13T09:29:24.051Z"
   },
   {
    "duration": 14,
    "start_time": "2024-12-13T09:29:24.236Z"
   },
   {
    "duration": 36,
    "start_time": "2024-12-13T09:29:24.251Z"
   },
   {
    "duration": 1072,
    "start_time": "2024-12-13T09:36:35.384Z"
   },
   {
    "duration": 53,
    "start_time": "2024-12-13T09:36:36.458Z"
   },
   {
    "duration": 14,
    "start_time": "2024-12-13T09:36:36.512Z"
   },
   {
    "duration": 129,
    "start_time": "2024-12-13T09:36:36.527Z"
   },
   {
    "duration": 6,
    "start_time": "2024-12-13T09:36:36.657Z"
   },
   {
    "duration": 856,
    "start_time": "2024-12-13T09:36:36.664Z"
   },
   {
    "duration": 15,
    "start_time": "2024-12-13T09:36:37.521Z"
   },
   {
    "duration": 9,
    "start_time": "2024-12-13T09:36:37.537Z"
   },
   {
    "duration": 17,
    "start_time": "2024-12-13T09:36:37.547Z"
   },
   {
    "duration": 29,
    "start_time": "2024-12-13T09:36:37.566Z"
   },
   {
    "duration": 8,
    "start_time": "2024-12-13T09:36:37.596Z"
   },
   {
    "duration": 16,
    "start_time": "2024-12-13T09:36:37.605Z"
   },
   {
    "duration": 5,
    "start_time": "2024-12-13T09:36:37.622Z"
   },
   {
    "duration": 12,
    "start_time": "2024-12-13T09:36:37.628Z"
   },
   {
    "duration": 46,
    "start_time": "2024-12-13T09:36:37.642Z"
   },
   {
    "duration": 5,
    "start_time": "2024-12-13T09:36:37.690Z"
   },
   {
    "duration": 6,
    "start_time": "2024-12-13T09:36:37.697Z"
   },
   {
    "duration": 28,
    "start_time": "2024-12-13T09:36:37.704Z"
   },
   {
    "duration": 13,
    "start_time": "2024-12-13T09:36:37.734Z"
   },
   {
    "duration": 16,
    "start_time": "2024-12-13T09:36:37.749Z"
   },
   {
    "duration": 30,
    "start_time": "2024-12-13T09:36:37.767Z"
   },
   {
    "duration": 5,
    "start_time": "2024-12-13T09:36:37.799Z"
   },
   {
    "duration": 283,
    "start_time": "2024-12-13T09:36:37.805Z"
   },
   {
    "duration": 17,
    "start_time": "2024-12-13T09:36:38.090Z"
   },
   {
    "duration": 265,
    "start_time": "2024-12-13T09:36:38.109Z"
   },
   {
    "duration": 3,
    "start_time": "2024-12-13T09:36:38.376Z"
   },
   {
    "duration": 21,
    "start_time": "2024-12-13T09:36:38.380Z"
   },
   {
    "duration": 951,
    "start_time": "2024-12-13T09:36:38.404Z"
   },
   {
    "duration": 31,
    "start_time": "2024-12-13T09:36:39.356Z"
   },
   {
    "duration": 319,
    "start_time": "2024-12-13T09:36:39.388Z"
   },
   {
    "duration": 224,
    "start_time": "2024-12-13T09:36:39.708Z"
   },
   {
    "duration": 277,
    "start_time": "2024-12-13T09:36:39.934Z"
   },
   {
    "duration": 5,
    "start_time": "2024-12-13T09:36:40.213Z"
   },
   {
    "duration": 287,
    "start_time": "2024-12-13T09:36:40.219Z"
   },
   {
    "duration": 284,
    "start_time": "2024-12-13T09:36:40.507Z"
   },
   {
    "duration": 260,
    "start_time": "2024-12-13T09:36:40.792Z"
   },
   {
    "duration": 199,
    "start_time": "2024-12-13T09:36:41.054Z"
   },
   {
    "duration": 233,
    "start_time": "2024-12-13T09:36:41.254Z"
   },
   {
    "duration": 3,
    "start_time": "2024-12-13T09:36:41.488Z"
   },
   {
    "duration": 26,
    "start_time": "2024-12-13T09:36:41.493Z"
   },
   {
    "duration": 7,
    "start_time": "2024-12-13T09:36:41.521Z"
   },
   {
    "duration": 26,
    "start_time": "2024-12-13T09:36:41.529Z"
   },
   {
    "duration": 27,
    "start_time": "2024-12-13T09:36:41.557Z"
   },
   {
    "duration": 11,
    "start_time": "2024-12-13T09:36:41.585Z"
   },
   {
    "duration": 348,
    "start_time": "2024-12-13T09:36:41.597Z"
   },
   {
    "duration": 13,
    "start_time": "2024-12-13T09:36:41.947Z"
   },
   {
    "duration": 37,
    "start_time": "2024-12-13T09:36:41.962Z"
   },
   {
    "duration": 99,
    "start_time": "2024-12-13T09:36:42.001Z"
   },
   {
    "duration": 360,
    "start_time": "2024-12-13T09:36:42.102Z"
   },
   {
    "duration": 12,
    "start_time": "2024-12-13T09:36:42.463Z"
   },
   {
    "duration": 195,
    "start_time": "2024-12-13T09:36:42.477Z"
   },
   {
    "duration": 21,
    "start_time": "2024-12-13T09:36:42.673Z"
   },
   {
    "duration": 12,
    "start_time": "2024-12-13T09:36:42.695Z"
   },
   {
    "duration": 1339,
    "start_time": "2024-12-13T14:48:07.462Z"
   },
   {
    "duration": 194,
    "start_time": "2024-12-13T14:48:08.803Z"
   },
   {
    "duration": 16,
    "start_time": "2024-12-13T14:48:08.998Z"
   },
   {
    "duration": 27,
    "start_time": "2024-12-13T14:48:09.015Z"
   },
   {
    "duration": 4,
    "start_time": "2024-12-13T14:48:09.045Z"
   },
   {
    "duration": 933,
    "start_time": "2024-12-13T14:48:09.051Z"
   },
   {
    "duration": 16,
    "start_time": "2024-12-13T14:48:09.985Z"
   },
   {
    "duration": 38,
    "start_time": "2024-12-13T14:48:10.003Z"
   },
   {
    "duration": 42,
    "start_time": "2024-12-13T14:48:10.043Z"
   },
   {
    "duration": 74,
    "start_time": "2024-12-13T14:48:10.087Z"
   },
   {
    "duration": 22,
    "start_time": "2024-12-13T14:48:10.163Z"
   },
   {
    "duration": 41,
    "start_time": "2024-12-13T14:48:10.187Z"
   },
   {
    "duration": 7,
    "start_time": "2024-12-13T14:48:10.230Z"
   },
   {
    "duration": 11,
    "start_time": "2024-12-13T14:48:10.241Z"
   },
   {
    "duration": 14,
    "start_time": "2024-12-13T14:48:10.254Z"
   },
   {
    "duration": 14,
    "start_time": "2024-12-13T14:48:10.270Z"
   },
   {
    "duration": 34,
    "start_time": "2024-12-13T14:48:10.285Z"
   },
   {
    "duration": 18,
    "start_time": "2024-12-13T14:48:10.320Z"
   },
   {
    "duration": 15,
    "start_time": "2024-12-13T14:48:10.340Z"
   },
   {
    "duration": 18,
    "start_time": "2024-12-13T14:48:10.356Z"
   },
   {
    "duration": 16,
    "start_time": "2024-12-13T14:48:10.376Z"
   },
   {
    "duration": 4,
    "start_time": "2024-12-13T14:48:10.394Z"
   },
   {
    "duration": 316,
    "start_time": "2024-12-13T14:48:10.399Z"
   },
   {
    "duration": 16,
    "start_time": "2024-12-13T14:48:10.717Z"
   },
   {
    "duration": 269,
    "start_time": "2024-12-13T14:48:10.734Z"
   },
   {
    "duration": 3,
    "start_time": "2024-12-13T14:48:11.005Z"
   },
   {
    "duration": 7,
    "start_time": "2024-12-13T14:48:11.010Z"
   },
   {
    "duration": 1048,
    "start_time": "2024-12-13T14:48:11.018Z"
   },
   {
    "duration": 26,
    "start_time": "2024-12-13T14:48:12.067Z"
   },
   {
    "duration": 319,
    "start_time": "2024-12-13T14:48:12.095Z"
   },
   {
    "duration": 238,
    "start_time": "2024-12-13T14:48:12.415Z"
   },
   {
    "duration": 293,
    "start_time": "2024-12-13T14:48:12.654Z"
   },
   {
    "duration": 6,
    "start_time": "2024-12-13T14:48:12.953Z"
   },
   {
    "duration": 320,
    "start_time": "2024-12-13T14:48:12.961Z"
   },
   {
    "duration": 319,
    "start_time": "2024-12-13T14:48:13.282Z"
   },
   {
    "duration": 342,
    "start_time": "2024-12-13T14:48:13.604Z"
   },
   {
    "duration": 233,
    "start_time": "2024-12-13T14:48:13.952Z"
   },
   {
    "duration": 251,
    "start_time": "2024-12-13T14:48:14.186Z"
   },
   {
    "duration": 14,
    "start_time": "2024-12-13T14:48:14.439Z"
   },
   {
    "duration": 4,
    "start_time": "2024-12-13T14:48:14.454Z"
   },
   {
    "duration": 3,
    "start_time": "2024-12-13T14:48:14.463Z"
   },
   {
    "duration": 19,
    "start_time": "2024-12-13T14:48:14.467Z"
   },
   {
    "duration": 35,
    "start_time": "2024-12-13T14:48:14.488Z"
   },
   {
    "duration": 33,
    "start_time": "2024-12-13T14:48:14.524Z"
   },
   {
    "duration": 364,
    "start_time": "2024-12-13T14:48:14.559Z"
   },
   {
    "duration": 14,
    "start_time": "2024-12-13T14:48:14.925Z"
   },
   {
    "duration": 36,
    "start_time": "2024-12-13T14:48:14.940Z"
   },
   {
    "duration": 115,
    "start_time": "2024-12-13T14:48:14.977Z"
   },
   {
    "duration": 385,
    "start_time": "2024-12-13T14:48:15.093Z"
   },
   {
    "duration": 14,
    "start_time": "2024-12-13T14:48:15.480Z"
   },
   {
    "duration": 195,
    "start_time": "2024-12-13T14:48:15.495Z"
   },
   {
    "duration": 16,
    "start_time": "2024-12-13T14:48:15.692Z"
   },
   {
    "duration": 14,
    "start_time": "2024-12-13T14:48:15.710Z"
   },
   {
    "duration": 1038,
    "start_time": "2024-12-13T14:50:04.573Z"
   },
   {
    "duration": 1145,
    "start_time": "2024-12-13T14:50:49.745Z"
   },
   {
    "duration": 54,
    "start_time": "2024-12-13T14:50:50.892Z"
   },
   {
    "duration": 17,
    "start_time": "2024-12-13T14:50:50.948Z"
   },
   {
    "duration": 17,
    "start_time": "2024-12-13T14:50:50.967Z"
   },
   {
    "duration": 26,
    "start_time": "2024-12-13T14:50:50.987Z"
   },
   {
    "duration": 941,
    "start_time": "2024-12-13T14:50:51.015Z"
   },
   {
    "duration": 849,
    "start_time": "2024-12-13T14:50:51.957Z"
   },
   {
    "duration": 15,
    "start_time": "2024-12-13T14:50:52.808Z"
   },
   {
    "duration": 29,
    "start_time": "2024-12-13T14:50:52.825Z"
   },
   {
    "duration": 17,
    "start_time": "2024-12-13T14:50:52.857Z"
   },
   {
    "duration": 49,
    "start_time": "2024-12-13T14:50:52.876Z"
   },
   {
    "duration": 39,
    "start_time": "2024-12-13T14:50:52.927Z"
   },
   {
    "duration": 27,
    "start_time": "2024-12-13T14:50:52.968Z"
   },
   {
    "duration": 15,
    "start_time": "2024-12-13T14:50:52.999Z"
   },
   {
    "duration": 86,
    "start_time": "2024-12-13T14:50:53.015Z"
   },
   {
    "duration": 18,
    "start_time": "2024-12-13T14:50:53.102Z"
   },
   {
    "duration": 16,
    "start_time": "2024-12-13T14:50:53.121Z"
   },
   {
    "duration": 13,
    "start_time": "2024-12-13T14:50:53.138Z"
   },
   {
    "duration": 24,
    "start_time": "2024-12-13T14:50:53.153Z"
   },
   {
    "duration": 17,
    "start_time": "2024-12-13T14:50:53.178Z"
   },
   {
    "duration": 20,
    "start_time": "2024-12-13T14:50:53.197Z"
   },
   {
    "duration": 15,
    "start_time": "2024-12-13T14:50:53.219Z"
   },
   {
    "duration": 18,
    "start_time": "2024-12-13T14:50:53.235Z"
   },
   {
    "duration": 300,
    "start_time": "2024-12-13T14:50:53.254Z"
   },
   {
    "duration": 18,
    "start_time": "2024-12-13T14:50:53.556Z"
   },
   {
    "duration": 272,
    "start_time": "2024-12-13T14:50:53.576Z"
   },
   {
    "duration": 5,
    "start_time": "2024-12-13T14:50:53.854Z"
   },
   {
    "duration": 67,
    "start_time": "2024-12-13T14:50:53.861Z"
   },
   {
    "duration": 997,
    "start_time": "2024-12-13T14:50:53.931Z"
   },
   {
    "duration": 29,
    "start_time": "2024-12-13T14:50:54.929Z"
   },
   {
    "duration": 395,
    "start_time": "2024-12-13T14:50:54.959Z"
   },
   {
    "duration": 222,
    "start_time": "2024-12-13T14:50:55.356Z"
   },
   {
    "duration": 214,
    "start_time": "2024-12-13T14:50:55.579Z"
   },
   {
    "duration": 6,
    "start_time": "2024-12-13T14:50:55.794Z"
   },
   {
    "duration": 316,
    "start_time": "2024-12-13T14:50:55.802Z"
   },
   {
    "duration": 309,
    "start_time": "2024-12-13T14:50:56.119Z"
   },
   {
    "duration": 291,
    "start_time": "2024-12-13T14:50:56.430Z"
   },
   {
    "duration": 212,
    "start_time": "2024-12-13T14:50:56.723Z"
   },
   {
    "duration": 348,
    "start_time": "2024-12-13T14:50:56.937Z"
   },
   {
    "duration": 4,
    "start_time": "2024-12-13T14:50:57.287Z"
   },
   {
    "duration": 5,
    "start_time": "2024-12-13T14:50:57.295Z"
   },
   {
    "duration": 3,
    "start_time": "2024-12-13T14:50:57.302Z"
   },
   {
    "duration": 14,
    "start_time": "2024-12-13T14:50:57.307Z"
   },
   {
    "duration": 57,
    "start_time": "2024-12-13T14:50:57.323Z"
   },
   {
    "duration": 12,
    "start_time": "2024-12-13T14:50:57.382Z"
   },
   {
    "duration": 396,
    "start_time": "2024-12-13T14:50:57.395Z"
   },
   {
    "duration": 14,
    "start_time": "2024-12-13T14:50:57.792Z"
   },
   {
    "duration": 46,
    "start_time": "2024-12-13T14:50:57.807Z"
   },
   {
    "duration": 12,
    "start_time": "2024-12-13T14:50:57.854Z"
   },
   {
    "duration": 381,
    "start_time": "2024-12-13T14:50:57.867Z"
   },
   {
    "duration": 13,
    "start_time": "2024-12-13T14:50:58.252Z"
   },
   {
    "duration": 188,
    "start_time": "2024-12-13T14:50:58.267Z"
   },
   {
    "duration": 14,
    "start_time": "2024-12-13T14:50:58.457Z"
   },
   {
    "duration": 18,
    "start_time": "2024-12-13T14:50:58.473Z"
   },
   {
    "duration": 77,
    "start_time": "2024-12-13T14:52:46.472Z"
   },
   {
    "duration": 7,
    "start_time": "2024-12-13T14:58:14.920Z"
   },
   {
    "duration": 7,
    "start_time": "2024-12-13T14:58:28.856Z"
   },
   {
    "duration": 11,
    "start_time": "2024-12-13T14:58:56.174Z"
   },
   {
    "duration": 1273,
    "start_time": "2024-12-16T08:11:06.503Z"
   },
   {
    "duration": 107,
    "start_time": "2024-12-16T08:11:07.778Z"
   },
   {
    "duration": 17,
    "start_time": "2024-12-16T08:11:07.886Z"
   },
   {
    "duration": 27,
    "start_time": "2024-12-16T08:11:07.905Z"
   },
   {
    "duration": 33,
    "start_time": "2024-12-16T08:11:07.934Z"
   },
   {
    "duration": 964,
    "start_time": "2024-12-16T08:11:07.969Z"
   },
   {
    "duration": 939,
    "start_time": "2024-12-16T08:11:08.935Z"
   },
   {
    "duration": 14,
    "start_time": "2024-12-16T08:11:09.875Z"
   },
   {
    "duration": 20,
    "start_time": "2024-12-16T08:11:09.890Z"
   },
   {
    "duration": 15,
    "start_time": "2024-12-16T08:11:09.921Z"
   },
   {
    "duration": 14,
    "start_time": "2024-12-16T08:11:09.937Z"
   },
   {
    "duration": 8,
    "start_time": "2024-12-16T08:11:09.953Z"
   },
   {
    "duration": 16,
    "start_time": "2024-12-16T08:11:09.962Z"
   },
   {
    "duration": 5,
    "start_time": "2024-12-16T08:11:09.979Z"
   },
   {
    "duration": 45,
    "start_time": "2024-12-16T08:11:09.986Z"
   },
   {
    "duration": 15,
    "start_time": "2024-12-16T08:11:10.032Z"
   },
   {
    "duration": 6,
    "start_time": "2024-12-16T08:11:10.048Z"
   },
   {
    "duration": 36,
    "start_time": "2024-12-16T08:11:10.055Z"
   },
   {
    "duration": 17,
    "start_time": "2024-12-16T08:11:10.092Z"
   },
   {
    "duration": 16,
    "start_time": "2024-12-16T08:11:10.111Z"
   },
   {
    "duration": 17,
    "start_time": "2024-12-16T08:11:10.128Z"
   },
   {
    "duration": 16,
    "start_time": "2024-12-16T08:11:10.147Z"
   },
   {
    "duration": 94,
    "start_time": "2024-12-16T08:11:10.164Z"
   },
   {
    "duration": 311,
    "start_time": "2024-12-16T08:11:10.260Z"
   },
   {
    "duration": 15,
    "start_time": "2024-12-16T08:11:10.573Z"
   },
   {
    "duration": 279,
    "start_time": "2024-12-16T08:11:10.589Z"
   },
   {
    "duration": 4,
    "start_time": "2024-12-16T08:11:10.870Z"
   },
   {
    "duration": 35,
    "start_time": "2024-12-16T08:11:10.877Z"
   },
   {
    "duration": 994,
    "start_time": "2024-12-16T08:11:10.913Z"
   },
   {
    "duration": 29,
    "start_time": "2024-12-16T08:11:11.909Z"
   },
   {
    "duration": 415,
    "start_time": "2024-12-16T08:11:11.940Z"
   },
   {
    "duration": 266,
    "start_time": "2024-12-16T08:11:12.357Z"
   },
   {
    "duration": 225,
    "start_time": "2024-12-16T08:11:12.625Z"
   },
   {
    "duration": 10,
    "start_time": "2024-12-16T08:11:12.852Z"
   },
   {
    "duration": 4,
    "start_time": "2024-12-16T08:11:12.864Z"
   },
   {
    "duration": 7,
    "start_time": "2024-12-16T08:11:12.869Z"
   },
   {
    "duration": 318,
    "start_time": "2024-12-16T08:11:12.878Z"
   },
   {
    "duration": 304,
    "start_time": "2024-12-16T08:11:13.198Z"
   },
   {
    "duration": 355,
    "start_time": "2024-12-16T08:11:13.503Z"
   },
   {
    "duration": 209,
    "start_time": "2024-12-16T08:11:13.860Z"
   },
   {
    "duration": 262,
    "start_time": "2024-12-16T08:11:14.070Z"
   },
   {
    "duration": 4,
    "start_time": "2024-12-16T08:11:14.333Z"
   },
   {
    "duration": 11,
    "start_time": "2024-12-16T08:11:14.338Z"
   },
   {
    "duration": 9,
    "start_time": "2024-12-16T08:11:14.351Z"
   },
   {
    "duration": 15,
    "start_time": "2024-12-16T08:11:14.361Z"
   },
   {
    "duration": 47,
    "start_time": "2024-12-16T08:11:14.377Z"
   },
   {
    "duration": 12,
    "start_time": "2024-12-16T08:11:14.425Z"
   },
   {
    "duration": 363,
    "start_time": "2024-12-16T08:11:14.438Z"
   },
   {
    "duration": 20,
    "start_time": "2024-12-16T08:11:14.802Z"
   },
   {
    "duration": 26,
    "start_time": "2024-12-16T08:11:14.824Z"
   },
   {
    "duration": 11,
    "start_time": "2024-12-16T08:11:14.851Z"
   },
   {
    "duration": 385,
    "start_time": "2024-12-16T08:11:14.863Z"
   },
   {
    "duration": 12,
    "start_time": "2024-12-16T08:11:15.250Z"
   },
   {
    "duration": 204,
    "start_time": "2024-12-16T08:11:15.263Z"
   },
   {
    "duration": 13,
    "start_time": "2024-12-16T08:11:15.469Z"
   },
   {
    "duration": 14,
    "start_time": "2024-12-16T08:11:15.483Z"
   },
   {
    "duration": 80,
    "start_time": "2024-12-16T08:23:04.144Z"
   },
   {
    "duration": 1204,
    "start_time": "2024-12-16T12:17:03.052Z"
   },
   {
    "duration": 115,
    "start_time": "2024-12-16T12:17:04.257Z"
   },
   {
    "duration": 22,
    "start_time": "2024-12-16T12:17:04.375Z"
   },
   {
    "duration": 22,
    "start_time": "2024-12-16T12:17:04.400Z"
   },
   {
    "duration": 29,
    "start_time": "2024-12-16T12:17:04.424Z"
   },
   {
    "duration": 1025,
    "start_time": "2024-12-16T12:17:04.455Z"
   },
   {
    "duration": 958,
    "start_time": "2024-12-16T12:17:05.482Z"
   },
   {
    "duration": 28,
    "start_time": "2024-12-16T12:17:06.442Z"
   },
   {
    "duration": 23,
    "start_time": "2024-12-16T12:17:06.472Z"
   },
   {
    "duration": 58,
    "start_time": "2024-12-16T12:17:06.498Z"
   },
   {
    "duration": 49,
    "start_time": "2024-12-16T12:17:06.557Z"
   },
   {
    "duration": 79,
    "start_time": "2024-12-16T12:17:06.607Z"
   },
   {
    "duration": 97,
    "start_time": "2024-12-16T12:17:06.688Z"
   },
   {
    "duration": 19,
    "start_time": "2024-12-16T12:17:06.787Z"
   },
   {
    "duration": 113,
    "start_time": "2024-12-16T12:17:06.808Z"
   },
   {
    "duration": 74,
    "start_time": "2024-12-16T12:17:06.922Z"
   },
   {
    "duration": 41,
    "start_time": "2024-12-16T12:17:06.997Z"
   },
   {
    "duration": 22,
    "start_time": "2024-12-16T12:17:07.040Z"
   },
   {
    "duration": 61,
    "start_time": "2024-12-16T12:17:07.064Z"
   },
   {
    "duration": 41,
    "start_time": "2024-12-16T12:17:07.126Z"
   },
   {
    "duration": 38,
    "start_time": "2024-12-16T12:17:07.169Z"
   },
   {
    "duration": 17,
    "start_time": "2024-12-16T12:17:07.209Z"
   },
   {
    "duration": 111,
    "start_time": "2024-12-16T12:17:07.229Z"
   },
   {
    "duration": 336,
    "start_time": "2024-12-16T12:17:07.341Z"
   },
   {
    "duration": 16,
    "start_time": "2024-12-16T12:17:07.679Z"
   },
   {
    "duration": 296,
    "start_time": "2024-12-16T12:17:07.697Z"
   },
   {
    "duration": 5,
    "start_time": "2024-12-16T12:17:07.994Z"
   },
   {
    "duration": 25,
    "start_time": "2024-12-16T12:17:08.007Z"
   },
   {
    "duration": 1063,
    "start_time": "2024-12-16T12:17:08.034Z"
   },
   {
    "duration": 28,
    "start_time": "2024-12-16T12:17:09.099Z"
   },
   {
    "duration": 479,
    "start_time": "2024-12-16T12:17:09.129Z"
   },
   {
    "duration": 256,
    "start_time": "2024-12-16T12:17:09.610Z"
   },
   {
    "duration": 252,
    "start_time": "2024-12-16T12:17:09.867Z"
   },
   {
    "duration": 12,
    "start_time": "2024-12-16T12:17:10.121Z"
   },
   {
    "duration": 23,
    "start_time": "2024-12-16T12:17:10.135Z"
   },
   {
    "duration": 342,
    "start_time": "2024-12-16T12:17:10.159Z"
   },
   {
    "duration": 344,
    "start_time": "2024-12-16T12:17:10.503Z"
   },
   {
    "duration": 301,
    "start_time": "2024-12-16T12:17:10.849Z"
   },
   {
    "duration": 222,
    "start_time": "2024-12-16T12:17:11.151Z"
   },
   {
    "duration": 388,
    "start_time": "2024-12-16T12:17:11.375Z"
   },
   {
    "duration": 5,
    "start_time": "2024-12-16T12:17:11.765Z"
   },
   {
    "duration": 8,
    "start_time": "2024-12-16T12:17:11.772Z"
   },
   {
    "duration": 6,
    "start_time": "2024-12-16T12:17:11.782Z"
   },
   {
    "duration": 16,
    "start_time": "2024-12-16T12:17:11.790Z"
   },
   {
    "duration": 28,
    "start_time": "2024-12-16T12:17:11.808Z"
   },
   {
    "duration": 41,
    "start_time": "2024-12-16T12:17:11.837Z"
   },
   {
    "duration": 393,
    "start_time": "2024-12-16T12:17:11.880Z"
   },
   {
    "duration": 15,
    "start_time": "2024-12-16T12:17:12.275Z"
   },
   {
    "duration": 50,
    "start_time": "2024-12-16T12:17:12.292Z"
   },
   {
    "duration": 38,
    "start_time": "2024-12-16T12:17:12.344Z"
   },
   {
    "duration": 406,
    "start_time": "2024-12-16T12:17:12.384Z"
   },
   {
    "duration": 14,
    "start_time": "2024-12-16T12:17:12.792Z"
   },
   {
    "duration": 215,
    "start_time": "2024-12-16T12:17:12.808Z"
   },
   {
    "duration": 15,
    "start_time": "2024-12-16T12:17:13.025Z"
   },
   {
    "duration": 29,
    "start_time": "2024-12-16T12:17:13.042Z"
   }
  ],
  "kernelspec": {
   "display_name": "Python 3 (ipykernel)",
   "language": "python",
   "name": "python3"
  },
  "language_info": {
   "codemirror_mode": {
    "name": "ipython",
    "version": 3
   },
   "file_extension": ".py",
   "mimetype": "text/x-python",
   "name": "python",
   "nbconvert_exporter": "python",
   "pygments_lexer": "ipython3",
   "version": "3.10.9"
  },
  "toc": {
   "base_numbering": 1,
   "nav_menu": {},
   "number_sections": true,
   "sideBar": true,
   "skip_h1_title": true,
   "title_cell": "Table of Contents",
   "title_sidebar": "Contents",
   "toc_cell": false,
   "toc_position": {
    "height": "calc(100% - 180px)",
    "left": "10px",
    "top": "150px",
    "width": "179.943px"
   },
   "toc_section_display": true,
   "toc_window_display": true
  }
 },
 "nbformat": 4,
 "nbformat_minor": 2
}
